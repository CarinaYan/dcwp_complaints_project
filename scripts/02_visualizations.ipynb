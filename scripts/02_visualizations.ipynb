{
 "cells": [
  {
   "cell_type": "code",
   "execution_count": null,
   "id": "558a5ad0",
   "metadata": {},
   "outputs": [
    {
     "data": {
      "application/vnd.plotly.v1+json": {
       "config": {
        "plotlyServerURL": "https://plot.ly"
       },
       "data": [
        {
         "domain": {
          "x": [
           0,
           1
          ],
          "y": [
           0,
           1
          ]
         },
         "hole": 0.4,
         "hovertemplate": "Result=%{label}<br>Count=%{value}<extra></extra>",
         "labels": [
          "Requested Information Not Provided",
          "Referred",
          "Insufficient Info Received",
          "Information Provided",
          "Complaint Review Complete",
          "No Jurisdiction",
          "Other"
         ],
         "legendgroup": "",
         "name": "",
         "showlegend": true,
         "textinfo": "percent+label",
         "textposition": "inside",
         "type": "pie",
         "values": {
          "bdata": "RhMqDp8GpwMVAtsBggY=",
          "dtype": "i2"
         }
        }
       ],
       "layout": {
        "legend": {
         "tracegroupgap": 0
        },
        "template": {
         "data": {
          "bar": [
           {
            "error_x": {
             "color": "#2a3f5f"
            },
            "error_y": {
             "color": "#2a3f5f"
            },
            "marker": {
             "line": {
              "color": "#E5ECF6",
              "width": 0.5
             },
             "pattern": {
              "fillmode": "overlay",
              "size": 10,
              "solidity": 0.2
             }
            },
            "type": "bar"
           }
          ],
          "barpolar": [
           {
            "marker": {
             "line": {
              "color": "#E5ECF6",
              "width": 0.5
             },
             "pattern": {
              "fillmode": "overlay",
              "size": 10,
              "solidity": 0.2
             }
            },
            "type": "barpolar"
           }
          ],
          "carpet": [
           {
            "aaxis": {
             "endlinecolor": "#2a3f5f",
             "gridcolor": "white",
             "linecolor": "white",
             "minorgridcolor": "white",
             "startlinecolor": "#2a3f5f"
            },
            "baxis": {
             "endlinecolor": "#2a3f5f",
             "gridcolor": "white",
             "linecolor": "white",
             "minorgridcolor": "white",
             "startlinecolor": "#2a3f5f"
            },
            "type": "carpet"
           }
          ],
          "choropleth": [
           {
            "colorbar": {
             "outlinewidth": 0,
             "ticks": ""
            },
            "type": "choropleth"
           }
          ],
          "contour": [
           {
            "colorbar": {
             "outlinewidth": 0,
             "ticks": ""
            },
            "colorscale": [
             [
              0,
              "#0d0887"
             ],
             [
              0.1111111111111111,
              "#46039f"
             ],
             [
              0.2222222222222222,
              "#7201a8"
             ],
             [
              0.3333333333333333,
              "#9c179e"
             ],
             [
              0.4444444444444444,
              "#bd3786"
             ],
             [
              0.5555555555555556,
              "#d8576b"
             ],
             [
              0.6666666666666666,
              "#ed7953"
             ],
             [
              0.7777777777777778,
              "#fb9f3a"
             ],
             [
              0.8888888888888888,
              "#fdca26"
             ],
             [
              1,
              "#f0f921"
             ]
            ],
            "type": "contour"
           }
          ],
          "contourcarpet": [
           {
            "colorbar": {
             "outlinewidth": 0,
             "ticks": ""
            },
            "type": "contourcarpet"
           }
          ],
          "heatmap": [
           {
            "colorbar": {
             "outlinewidth": 0,
             "ticks": ""
            },
            "colorscale": [
             [
              0,
              "#0d0887"
             ],
             [
              0.1111111111111111,
              "#46039f"
             ],
             [
              0.2222222222222222,
              "#7201a8"
             ],
             [
              0.3333333333333333,
              "#9c179e"
             ],
             [
              0.4444444444444444,
              "#bd3786"
             ],
             [
              0.5555555555555556,
              "#d8576b"
             ],
             [
              0.6666666666666666,
              "#ed7953"
             ],
             [
              0.7777777777777778,
              "#fb9f3a"
             ],
             [
              0.8888888888888888,
              "#fdca26"
             ],
             [
              1,
              "#f0f921"
             ]
            ],
            "type": "heatmap"
           }
          ],
          "histogram": [
           {
            "marker": {
             "pattern": {
              "fillmode": "overlay",
              "size": 10,
              "solidity": 0.2
             }
            },
            "type": "histogram"
           }
          ],
          "histogram2d": [
           {
            "colorbar": {
             "outlinewidth": 0,
             "ticks": ""
            },
            "colorscale": [
             [
              0,
              "#0d0887"
             ],
             [
              0.1111111111111111,
              "#46039f"
             ],
             [
              0.2222222222222222,
              "#7201a8"
             ],
             [
              0.3333333333333333,
              "#9c179e"
             ],
             [
              0.4444444444444444,
              "#bd3786"
             ],
             [
              0.5555555555555556,
              "#d8576b"
             ],
             [
              0.6666666666666666,
              "#ed7953"
             ],
             [
              0.7777777777777778,
              "#fb9f3a"
             ],
             [
              0.8888888888888888,
              "#fdca26"
             ],
             [
              1,
              "#f0f921"
             ]
            ],
            "type": "histogram2d"
           }
          ],
          "histogram2dcontour": [
           {
            "colorbar": {
             "outlinewidth": 0,
             "ticks": ""
            },
            "colorscale": [
             [
              0,
              "#0d0887"
             ],
             [
              0.1111111111111111,
              "#46039f"
             ],
             [
              0.2222222222222222,
              "#7201a8"
             ],
             [
              0.3333333333333333,
              "#9c179e"
             ],
             [
              0.4444444444444444,
              "#bd3786"
             ],
             [
              0.5555555555555556,
              "#d8576b"
             ],
             [
              0.6666666666666666,
              "#ed7953"
             ],
             [
              0.7777777777777778,
              "#fb9f3a"
             ],
             [
              0.8888888888888888,
              "#fdca26"
             ],
             [
              1,
              "#f0f921"
             ]
            ],
            "type": "histogram2dcontour"
           }
          ],
          "mesh3d": [
           {
            "colorbar": {
             "outlinewidth": 0,
             "ticks": ""
            },
            "type": "mesh3d"
           }
          ],
          "parcoords": [
           {
            "line": {
             "colorbar": {
              "outlinewidth": 0,
              "ticks": ""
             }
            },
            "type": "parcoords"
           }
          ],
          "pie": [
           {
            "automargin": true,
            "type": "pie"
           }
          ],
          "scatter": [
           {
            "fillpattern": {
             "fillmode": "overlay",
             "size": 10,
             "solidity": 0.2
            },
            "type": "scatter"
           }
          ],
          "scatter3d": [
           {
            "line": {
             "colorbar": {
              "outlinewidth": 0,
              "ticks": ""
             }
            },
            "marker": {
             "colorbar": {
              "outlinewidth": 0,
              "ticks": ""
             }
            },
            "type": "scatter3d"
           }
          ],
          "scattercarpet": [
           {
            "marker": {
             "colorbar": {
              "outlinewidth": 0,
              "ticks": ""
             }
            },
            "type": "scattercarpet"
           }
          ],
          "scattergeo": [
           {
            "marker": {
             "colorbar": {
              "outlinewidth": 0,
              "ticks": ""
             }
            },
            "type": "scattergeo"
           }
          ],
          "scattergl": [
           {
            "marker": {
             "colorbar": {
              "outlinewidth": 0,
              "ticks": ""
             }
            },
            "type": "scattergl"
           }
          ],
          "scattermap": [
           {
            "marker": {
             "colorbar": {
              "outlinewidth": 0,
              "ticks": ""
             }
            },
            "type": "scattermap"
           }
          ],
          "scattermapbox": [
           {
            "marker": {
             "colorbar": {
              "outlinewidth": 0,
              "ticks": ""
             }
            },
            "type": "scattermapbox"
           }
          ],
          "scatterpolar": [
           {
            "marker": {
             "colorbar": {
              "outlinewidth": 0,
              "ticks": ""
             }
            },
            "type": "scatterpolar"
           }
          ],
          "scatterpolargl": [
           {
            "marker": {
             "colorbar": {
              "outlinewidth": 0,
              "ticks": ""
             }
            },
            "type": "scatterpolargl"
           }
          ],
          "scatterternary": [
           {
            "marker": {
             "colorbar": {
              "outlinewidth": 0,
              "ticks": ""
             }
            },
            "type": "scatterternary"
           }
          ],
          "surface": [
           {
            "colorbar": {
             "outlinewidth": 0,
             "ticks": ""
            },
            "colorscale": [
             [
              0,
              "#0d0887"
             ],
             [
              0.1111111111111111,
              "#46039f"
             ],
             [
              0.2222222222222222,
              "#7201a8"
             ],
             [
              0.3333333333333333,
              "#9c179e"
             ],
             [
              0.4444444444444444,
              "#bd3786"
             ],
             [
              0.5555555555555556,
              "#d8576b"
             ],
             [
              0.6666666666666666,
              "#ed7953"
             ],
             [
              0.7777777777777778,
              "#fb9f3a"
             ],
             [
              0.8888888888888888,
              "#fdca26"
             ],
             [
              1,
              "#f0f921"
             ]
            ],
            "type": "surface"
           }
          ],
          "table": [
           {
            "cells": {
             "fill": {
              "color": "#EBF0F8"
             },
             "line": {
              "color": "white"
             }
            },
            "header": {
             "fill": {
              "color": "#C8D4E3"
             },
             "line": {
              "color": "white"
             }
            },
            "type": "table"
           }
          ]
         },
         "layout": {
          "annotationdefaults": {
           "arrowcolor": "#2a3f5f",
           "arrowhead": 0,
           "arrowwidth": 1
          },
          "autotypenumbers": "strict",
          "coloraxis": {
           "colorbar": {
            "outlinewidth": 0,
            "ticks": ""
           }
          },
          "colorscale": {
           "diverging": [
            [
             0,
             "#8e0152"
            ],
            [
             0.1,
             "#c51b7d"
            ],
            [
             0.2,
             "#de77ae"
            ],
            [
             0.3,
             "#f1b6da"
            ],
            [
             0.4,
             "#fde0ef"
            ],
            [
             0.5,
             "#f7f7f7"
            ],
            [
             0.6,
             "#e6f5d0"
            ],
            [
             0.7,
             "#b8e186"
            ],
            [
             0.8,
             "#7fbc41"
            ],
            [
             0.9,
             "#4d9221"
            ],
            [
             1,
             "#276419"
            ]
           ],
           "sequential": [
            [
             0,
             "#0d0887"
            ],
            [
             0.1111111111111111,
             "#46039f"
            ],
            [
             0.2222222222222222,
             "#7201a8"
            ],
            [
             0.3333333333333333,
             "#9c179e"
            ],
            [
             0.4444444444444444,
             "#bd3786"
            ],
            [
             0.5555555555555556,
             "#d8576b"
            ],
            [
             0.6666666666666666,
             "#ed7953"
            ],
            [
             0.7777777777777778,
             "#fb9f3a"
            ],
            [
             0.8888888888888888,
             "#fdca26"
            ],
            [
             1,
             "#f0f921"
            ]
           ],
           "sequentialminus": [
            [
             0,
             "#0d0887"
            ],
            [
             0.1111111111111111,
             "#46039f"
            ],
            [
             0.2222222222222222,
             "#7201a8"
            ],
            [
             0.3333333333333333,
             "#9c179e"
            ],
            [
             0.4444444444444444,
             "#bd3786"
            ],
            [
             0.5555555555555556,
             "#d8576b"
            ],
            [
             0.6666666666666666,
             "#ed7953"
            ],
            [
             0.7777777777777778,
             "#fb9f3a"
            ],
            [
             0.8888888888888888,
             "#fdca26"
            ],
            [
             1,
             "#f0f921"
            ]
           ]
          },
          "colorway": [
           "#636efa",
           "#EF553B",
           "#00cc96",
           "#ab63fa",
           "#FFA15A",
           "#19d3f3",
           "#FF6692",
           "#B6E880",
           "#FF97FF",
           "#FECB52"
          ],
          "font": {
           "color": "#2a3f5f"
          },
          "geo": {
           "bgcolor": "white",
           "lakecolor": "white",
           "landcolor": "#E5ECF6",
           "showlakes": true,
           "showland": true,
           "subunitcolor": "white"
          },
          "hoverlabel": {
           "align": "left"
          },
          "hovermode": "closest",
          "mapbox": {
           "style": "light"
          },
          "paper_bgcolor": "white",
          "plot_bgcolor": "#E5ECF6",
          "polar": {
           "angularaxis": {
            "gridcolor": "white",
            "linecolor": "white",
            "ticks": ""
           },
           "bgcolor": "#E5ECF6",
           "radialaxis": {
            "gridcolor": "white",
            "linecolor": "white",
            "ticks": ""
           }
          },
          "scene": {
           "xaxis": {
            "backgroundcolor": "#E5ECF6",
            "gridcolor": "white",
            "gridwidth": 2,
            "linecolor": "white",
            "showbackground": true,
            "ticks": "",
            "zerolinecolor": "white"
           },
           "yaxis": {
            "backgroundcolor": "#E5ECF6",
            "gridcolor": "white",
            "gridwidth": 2,
            "linecolor": "white",
            "showbackground": true,
            "ticks": "",
            "zerolinecolor": "white"
           },
           "zaxis": {
            "backgroundcolor": "#E5ECF6",
            "gridcolor": "white",
            "gridwidth": 2,
            "linecolor": "white",
            "showbackground": true,
            "ticks": "",
            "zerolinecolor": "white"
           }
          },
          "shapedefaults": {
           "line": {
            "color": "#2a3f5f"
           }
          },
          "ternary": {
           "aaxis": {
            "gridcolor": "white",
            "linecolor": "white",
            "ticks": ""
           },
           "baxis": {
            "gridcolor": "white",
            "linecolor": "white",
            "ticks": ""
           },
           "bgcolor": "#E5ECF6",
           "caxis": {
            "gridcolor": "white",
            "linecolor": "white",
            "ticks": ""
           }
          },
          "title": {
           "x": 0.05
          },
          "xaxis": {
           "automargin": true,
           "gridcolor": "white",
           "linecolor": "white",
           "ticks": "",
           "title": {
            "standoff": 15
           },
           "zerolinecolor": "white",
           "zerolinewidth": 2
          },
          "yaxis": {
           "automargin": true,
           "gridcolor": "white",
           "linecolor": "white",
           "ticks": "",
           "title": {
            "standoff": 15
           },
           "zerolinecolor": "white",
           "zerolinewidth": 2
          }
         }
        },
        "title": {
         "text": "Distribution of Complaint Resolution Results (Top 6 + Other)"
        }
       }
      }
     },
     "metadata": {},
     "output_type": "display_data"
    }
   ],
   "source": [
    "import pandas as pd\n",
    "import plotly.express as px\n",
    "import plotly.graph_objects as go\n",
    "\n",
    "# Load the cleaned complaint dataset\n",
    "df = pd.read_csv('/Users/carinayan/Downloads/dcwp_complaints_project/data/cleaned_consumer_complaints.csv')\n",
    "\n",
    "# Count the occurrences of each complaint resolution result\n",
    "result_counts = df['Result'].value_counts()\n",
    "\n",
    "# Keep only the top 6 most common results; group the rest into \"Other\"\n",
    "top_n = 6\n",
    "top_results = result_counts.iloc[:top_n]         # Top 6 categories\n",
    "other_count = result_counts.iloc[top_n:].sum()   # Combine remaining categories into \"Other\"\n",
    "\n",
    "# Combine the top results with the \"Other\" group into one DataFrame\n",
    "summary_df = pd.concat([top_results, pd.Series({'Other': other_count})]).reset_index()\n",
    "summary_df.columns = ['Result', 'Count']  # Rename columns\n",
    "\n",
    "# Create a donut pie chart using Plotly Express\n",
    "fig = px.pie(\n",
    "    summary_df,\n",
    "    names='Result',         # Category labels for each slice\n",
    "    values='Count',         # Values for each slice\n",
    "    title='Distribution of Complaint Resolution Results (Top 6 + Other)',  # Chart title\n",
    "    hole=0.4                # Creates a donut-style chart with a center hole\n",
    ")\n",
    "\n",
    "# Enhance label appearance: show percentage and category inside each slice\n",
    "fig.update_traces(textposition='inside', textinfo='percent+label')\n",
    "\n",
    "# Display the chart\n",
    "fig.show()\n"
   ]
  },
  {
   "cell_type": "code",
   "execution_count": null,
   "id": "04945582",
   "metadata": {},
   "outputs": [
    {
     "data": {
      "application/vnd.plotly.v1+json": {
       "config": {
        "plotlyServerURL": "https://plot.ly"
       },
       "data": [
        {
         "hovertemplate": "Result=Advised to Sue - ATS<br>Industry=%{x}<br>Number of Complaints=%{y}<extra></extra>",
         "legendgroup": "Advised to Sue - ATS",
         "marker": {
          "color": "#636efa",
          "pattern": {
           "shape": ""
          }
         },
         "name": "Advised to Sue - ATS",
         "orientation": "v",
         "showlegend": true,
         "textposition": "auto",
         "type": "bar",
         "x": [
          "Car Wash",
          "Electronics Store",
          "Furniture Sales",
          "Garage",
          "Garage & Parking Lot",
          "Home Improvement Contractor",
          "Hotel/Motel",
          "Misc Non-Food Retail",
          "Other",
          "Restaurant",
          "Secondhand Dealer - Auto",
          "Supermarket",
          "Tow Truck Company",
          "Unknown"
         ],
         "xaxis": "x",
         "y": {
          "bdata": "AwMFCQ4yBAgFAhYCMwk=",
          "dtype": "i1"
         },
         "yaxis": "y"
        },
        {
         "hovertemplate": "Result=Business Reported<br>Industry=%{x}<br>Number of Complaints=%{y}<extra></extra>",
         "legendgroup": "Business Reported",
         "marker": {
          "color": "#EF553B",
          "pattern": {
           "shape": ""
          }
         },
         "name": "Business Reported",
         "orientation": "v",
         "showlegend": true,
         "textposition": "auto",
         "type": "bar",
         "x": [
          "Car Wash",
          "Drug Store Retail",
          "Electronics Store",
          "Garage",
          "General Vendor",
          "Grocery-Retail",
          "Home Improvement Contractor",
          "Misc Non-Food Retail",
          "Other",
          "Restaurant",
          "Secondhand Dealer - Auto",
          "Specialized Vending License - MFV",
          "Supermarket",
          "Tobacco Retail Dealer",
          "Tow Truck Company",
          "Unknown"
         ],
         "xaxis": "x",
         "y": {
          "bdata": "DQEDAgEIAQIMEgIJBiIDUg==",
          "dtype": "i1"
         },
         "yaxis": "y"
        },
        {
         "hovertemplate": "Result=Complaint Review Complete<br>Industry=%{x}<br>Number of Complaints=%{y}<extra></extra>",
         "legendgroup": "Complaint Review Complete",
         "marker": {
          "color": "#00cc96",
          "pattern": {
           "shape": ""
          }
         },
         "name": "Complaint Review Complete",
         "orientation": "v",
         "showlegend": true,
         "textposition": "auto",
         "type": "bar",
         "x": [
          "Car Wash",
          "Debt Collection Agency",
          "Drug Store Retail",
          "Electronics Store",
          "Furniture Sales",
          "Garage & Parking Lot",
          "General Vendor",
          "Grocery-Retail",
          "Home Improvement Contractor",
          "Hotel/Motel",
          "Misc Non-Food Retail",
          "Other",
          "Restaurant",
          "Secondhand Dealer - Auto",
          "Specialized Vending License - MFV",
          "Supermarket",
          "Tobacco Retail Dealer",
          "Tow Truck Company",
          "Unknown"
         ],
         "xaxis": "x",
         "y": {
          "bdata": "DAABAAIABAACAAMAAgAPALMAAQAZAAMAKgABAKkABQADAAUAFAA=",
          "dtype": "i2"
         },
         "yaxis": "y"
        },
        {
         "hovertemplate": "Result=Duplicate Complaint - DUP<br>Industry=%{x}<br>Number of Complaints=%{y}<extra></extra>",
         "legendgroup": "Duplicate Complaint - DUP",
         "marker": {
          "color": "#ab63fa",
          "pattern": {
           "shape": ""
          }
         },
         "name": "Duplicate Complaint - DUP",
         "orientation": "v",
         "showlegend": true,
         "textposition": "auto",
         "type": "bar",
         "x": [
          "Car Wash",
          "Debt Collection Agency",
          "Drug Store Retail",
          "Electronics Store",
          "Furniture Sales",
          "Garage",
          "Garage & Parking Lot",
          "Grocery-Retail",
          "Home Improvement Contractor",
          "Hotel/Motel",
          "Misc Non-Food Retail",
          "Other",
          "Restaurant",
          "Secondhand Dealer - Auto",
          "Specialized Vending License - MFV",
          "Supermarket",
          "Tobacco Retail Dealer",
          "Tow Truck Company",
          "Unknown"
         ],
         "xaxis": "x",
         "y": {
          "bdata": "AQICCAMBBQUVAxcCAQItBwUNDg==",
          "dtype": "i1"
         },
         "yaxis": "y"
        },
        {
         "hovertemplate": "Result=Information Provided<br>Industry=%{x}<br>Number of Complaints=%{y}<extra></extra>",
         "legendgroup": "Information Provided",
         "marker": {
          "color": "#FFA15A",
          "pattern": {
           "shape": ""
          }
         },
         "name": "Information Provided",
         "orientation": "v",
         "showlegend": true,
         "textposition": "auto",
         "type": "bar",
         "x": [
          "Car Wash",
          "Debt Collection Agency",
          "Drug Store Retail",
          "Electronics Store",
          "Furniture Sales",
          "Garage",
          "Garage & Parking Lot",
          "General Vendor",
          "Grocery-Retail",
          "Home Improvement Contractor",
          "Hotel/Motel",
          "Misc Non-Food Retail",
          "Other",
          "Restaurant",
          "Secondhand Dealer - Auto",
          "Specialized Vending License - MFV",
          "Supermarket",
          "Tobacco Retail Dealer",
          "Tow Truck Company",
          "Unknown"
         ],
         "xaxis": "x",
         "y": {
          "bdata": "TQACAA0ABAACAAEAEwBMACcABwAEAHoABwAbAAUANAA6AJQACAA8AA==",
          "dtype": "i2"
         },
         "yaxis": "y"
        },
        {
         "hovertemplate": "Result=Inspection Requested<br>Industry=%{x}<br>Number of Complaints=%{y}<extra></extra>",
         "legendgroup": "Inspection Requested",
         "marker": {
          "color": "#19d3f3",
          "pattern": {
           "shape": ""
          }
         },
         "name": "Inspection Requested",
         "orientation": "v",
         "showlegend": true,
         "textposition": "auto",
         "type": "bar",
         "x": [
          "Car Wash",
          "Grocery-Retail",
          "Restaurant",
          "Secondhand Dealer - Auto",
          "Supermarket",
          "Unknown"
         ],
         "xaxis": "x",
         "y": {
          "bdata": "DgMGAQEC",
          "dtype": "i1"
         },
         "yaxis": "y"
        },
        {
         "hovertemplate": "Result=Insufficient Info Received<br>Industry=%{x}<br>Number of Complaints=%{y}<extra></extra>",
         "legendgroup": "Insufficient Info Received",
         "marker": {
          "color": "#FF6692",
          "pattern": {
           "shape": ""
          }
         },
         "name": "Insufficient Info Received",
         "orientation": "v",
         "showlegend": true,
         "textposition": "auto",
         "type": "bar",
         "x": [
          "Car Wash",
          "Debt Collection Agency",
          "Drug Store Retail",
          "Electronics Store",
          "Furniture Sales",
          "Garage",
          "Garage & Parking Lot",
          "General Vendor",
          "Grocery-Retail",
          "Home Improvement Contractor",
          "Hotel/Motel",
          "Misc Non-Food Retail",
          "Other",
          "Restaurant",
          "Secondhand Dealer - Auto",
          "Specialized Vending License - MFV",
          "Supermarket",
          "Tobacco Retail Dealer",
          "Tow Truck Company",
          "Unknown"
         ],
         "xaxis": "x",
         "y": {
          "bdata": "DwAJAB4ARAAcACAALQAGAFwANAATAPYANQB/AEEADwBdAD0AXQDfAA==",
          "dtype": "i2"
         },
         "yaxis": "y"
        },
        {
         "hovertemplate": "Result=No Jurisdiction<br>Industry=%{x}<br>Number of Complaints=%{y}<extra></extra>",
         "legendgroup": "No Jurisdiction",
         "marker": {
          "color": "#B6E880",
          "pattern": {
           "shape": ""
          }
         },
         "name": "No Jurisdiction",
         "orientation": "v",
         "showlegend": true,
         "textposition": "auto",
         "type": "bar",
         "x": [
          "Car Wash",
          "Debt Collection Agency",
          "Drug Store Retail",
          "Electronics Store",
          "Garage & Parking Lot",
          "Grocery-Retail",
          "Home Improvement Contractor",
          "Hotel/Motel",
          "Misc Non-Food Retail",
          "Restaurant",
          "Secondhand Dealer - Auto",
          "Specialized Vending License - MFV",
          "Supermarket",
          "Tobacco Retail Dealer",
          "Tow Truck Company",
          "Unknown"
         ],
         "xaxis": "x",
         "y": {
          "bdata": "BQABABQACgALABYAAgAEANgAKwADAAEAJQAIAAIAAgA=",
          "dtype": "i2"
         },
         "yaxis": "y"
        },
        {
         "hovertemplate": "Result=Referred<br>Industry=%{x}<br>Number of Complaints=%{y}<extra></extra>",
         "legendgroup": "Referred",
         "marker": {
          "color": "#FF97FF",
          "pattern": {
           "shape": ""
          }
         },
         "name": "Referred",
         "orientation": "v",
         "showlegend": true,
         "textposition": "auto",
         "type": "bar",
         "x": [
          "Car Wash",
          "Debt Collection Agency",
          "Drug Store Retail",
          "Electronics Store",
          "Furniture Sales",
          "Garage",
          "Garage & Parking Lot",
          "General Vendor",
          "Grocery-Retail",
          "Home Improvement Contractor",
          "Hotel/Motel",
          "Misc Non-Food Retail",
          "Other",
          "Restaurant",
          "Secondhand Dealer - Auto",
          "Specialized Vending License - MFV",
          "Supermarket",
          "Tobacco Retail Dealer",
          "Tow Truck Company",
          "Unknown"
         ],
         "xaxis": "x",
         "y": {
          "bdata": "FAAeAKQANgAHAAYAWgAnAaQASwAcANUCiAB2AEgARwDlADoALAB0Ag==",
          "dtype": "i2"
         },
         "yaxis": "y"
        },
        {
         "hovertemplate": "Result=Requested Information Not Provided<br>Industry=%{x}<br>Number of Complaints=%{y}<extra></extra>",
         "legendgroup": "Requested Information Not Provided",
         "marker": {
          "color": "#FECB52",
          "pattern": {
           "shape": ""
          }
         },
         "name": "Requested Information Not Provided",
         "orientation": "v",
         "showlegend": true,
         "textposition": "auto",
         "type": "bar",
         "x": [
          "Car Wash",
          "Debt Collection Agency",
          "Drug Store Retail",
          "Electronics Store",
          "Furniture Sales",
          "Garage",
          "Garage & Parking Lot",
          "General Vendor",
          "Grocery-Retail",
          "Home Improvement Contractor",
          "Hotel/Motel",
          "Misc Non-Food Retail",
          "Other",
          "Restaurant",
          "Secondhand Dealer - Auto",
          "Specialized Vending License - MFV",
          "Supermarket",
          "Tobacco Retail Dealer",
          "Tow Truck Company",
          "Unknown"
         ],
         "xaxis": "x",
         "y": {
          "bdata": "GABXACsAAAGVAFYA+wAGAIAATAGXAAUCQQDdAAsBFQC/ACkASALuAA==",
          "dtype": "i2"
         },
         "yaxis": "y"
        },
        {
         "hovertemplate": "Result=Bill Reduced - BLR<br>Industry=%{x}<br>Number of Complaints=%{y}<extra></extra>",
         "legendgroup": "Bill Reduced - BLR",
         "marker": {
          "color": "#636efa",
          "pattern": {
           "shape": ""
          }
         },
         "name": "Bill Reduced - BLR",
         "orientation": "v",
         "showlegend": true,
         "textposition": "auto",
         "type": "bar",
         "x": [
          "Debt Collection Agency",
          "Electronics Store",
          "Furniture Sales",
          "Garage & Parking Lot",
          "Home Improvement Contractor",
          "Other",
          "Tow Truck Company",
          "Unknown"
         ],
         "xaxis": "x",
         "y": {
          "bdata": "DgMCAQEBAQM=",
          "dtype": "i1"
         },
         "yaxis": "y"
        },
        {
         "hovertemplate": "Result=No Business Response - NVR<br>Industry=%{x}<br>Number of Complaints=%{y}<extra></extra>",
         "legendgroup": "No Business Response - NVR",
         "marker": {
          "color": "#EF553B",
          "pattern": {
           "shape": ""
          }
         },
         "name": "No Business Response - NVR",
         "orientation": "v",
         "showlegend": true,
         "textposition": "auto",
         "type": "bar",
         "x": [
          "Debt Collection Agency",
          "Electronics Store",
          "Furniture Sales",
          "Garage",
          "Garage & Parking Lot",
          "Home Improvement Contractor",
          "Hotel/Motel",
          "Misc Non-Food Retail",
          "Other",
          "Restaurant",
          "Secondhand Dealer - Auto",
          "Supermarket",
          "Tow Truck Company",
          "Unknown"
         ],
         "xaxis": "x",
         "y": {
          "bdata": "AgcHBQY9CgMCBQUDCwo=",
          "dtype": "i1"
         },
         "yaxis": "y"
        },
        {
         "hovertemplate": "Result=Referred to Outside - RTO<br>Industry=%{x}<br>Number of Complaints=%{y}<extra></extra>",
         "legendgroup": "Referred to Outside - RTO",
         "marker": {
          "color": "#00cc96",
          "pattern": {
           "shape": ""
          }
         },
         "name": "Referred to Outside - RTO",
         "orientation": "v",
         "showlegend": true,
         "textposition": "auto",
         "type": "bar",
         "x": [
          "Debt Collection Agency",
          "Furniture Sales",
          "Garage",
          "Garage & Parking Lot",
          "Grocery-Retail",
          "Home Improvement Contractor",
          "Hotel/Motel",
          "Misc Non-Food Retail",
          "Other",
          "Secondhand Dealer - Auto",
          "Tow Truck Company",
          "Unknown"
         ],
         "xaxis": "x",
         "y": {
          "bdata": "AQUEAQENAQEBBgcB",
          "dtype": "i1"
         },
         "yaxis": "y"
        },
        {
         "hovertemplate": "Result=Resolved and Consumer Satisfied - SPF<br>Industry=%{x}<br>Number of Complaints=%{y}<extra></extra>",
         "legendgroup": "Resolved and Consumer Satisfied - SPF",
         "marker": {
          "color": "#ab63fa",
          "pattern": {
           "shape": ""
          }
         },
         "name": "Resolved and Consumer Satisfied - SPF",
         "orientation": "v",
         "showlegend": true,
         "textposition": "auto",
         "type": "bar",
         "x": [
          "Debt Collection Agency",
          "Drug Store Retail",
          "Electronics Store",
          "Furniture Sales",
          "Garage",
          "Garage & Parking Lot",
          "Grocery-Retail",
          "Home Improvement Contractor",
          "Hotel/Motel",
          "Misc Non-Food Retail",
          "Other",
          "Restaurant",
          "Secondhand Dealer - Auto",
          "Supermarket",
          "Tow Truck Company",
          "Unknown"
         ],
         "xaxis": "x",
         "y": {
          "bdata": "GgIJBQIHBREDCwQQCwMFCA==",
          "dtype": "i1"
         },
         "yaxis": "y"
        },
        {
         "hovertemplate": "Result=Cash Amount - AMT<br>Industry=%{x}<br>Number of Complaints=%{y}<extra></extra>",
         "legendgroup": "Cash Amount - AMT",
         "marker": {
          "color": "#FFA15A",
          "pattern": {
           "shape": ""
          }
         },
         "name": "Cash Amount - AMT",
         "orientation": "v",
         "showlegend": true,
         "textposition": "auto",
         "type": "bar",
         "x": [
          "Drug Store Retail",
          "Electronics Store",
          "Furniture Sales",
          "Garage",
          "Garage & Parking Lot",
          "Grocery-Retail",
          "Home Improvement Contractor",
          "Hotel/Motel",
          "Misc Non-Food Retail",
          "Other",
          "Restaurant",
          "Secondhand Dealer - Auto",
          "Supermarket",
          "Tow Truck Company",
          "Unknown"
         ],
         "xaxis": "x",
         "y": {
          "bdata": "AwQGDAoBCgEHAgYNASgE",
          "dtype": "i1"
         },
         "yaxis": "y"
        },
        {
         "hovertemplate": "Result=No Consumer Response - NCR<br>Industry=%{x}<br>Number of Complaints=%{y}<extra></extra>",
         "legendgroup": "No Consumer Response - NCR",
         "marker": {
          "color": "#19d3f3",
          "pattern": {
           "shape": ""
          }
         },
         "name": "No Consumer Response - NCR",
         "orientation": "v",
         "showlegend": true,
         "textposition": "auto",
         "type": "bar",
         "x": [
          "Drug Store Retail",
          "Electronics Store",
          "Furniture Sales",
          "Garage",
          "Garage & Parking Lot",
          "Grocery-Retail",
          "Home Improvement Contractor",
          "Hotel/Motel",
          "Misc Non-Food Retail",
          "Other",
          "Restaurant",
          "Secondhand Dealer - Auto",
          "Supermarket",
          "Tow Truck Company",
          "Unknown"
         ],
         "xaxis": "x",
         "y": {
          "bdata": "AQkDBAMCDwQFAgoLBAwH",
          "dtype": "i1"
         },
         "yaxis": "y"
        },
        {
         "hovertemplate": "Result=Credit Card Refund and/or Contract Cancelled - CRC<br>Industry=%{x}<br>Number of Complaints=%{y}<extra></extra>",
         "legendgroup": "Credit Card Refund and/or Contract Cancelled - CRC",
         "marker": {
          "color": "#FF6692",
          "pattern": {
           "shape": ""
          }
         },
         "name": "Credit Card Refund and/or Contract Cancelled - CRC",
         "orientation": "v",
         "showlegend": true,
         "textposition": "auto",
         "type": "bar",
         "x": [
          "Electronics Store",
          "Furniture Sales",
          "Garage",
          "Garage & Parking Lot",
          "Grocery-Retail",
          "Home Improvement Contractor",
          "Hotel/Motel",
          "Misc Non-Food Retail",
          "Other",
          "Restaurant",
          "Secondhand Dealer - Auto",
          "Tow Truck Company",
          "Unknown"
         ],
         "xaxis": "x",
         "y": {
          "bdata": "BAUBAQQCBAIBBwEBBg==",
          "dtype": "i1"
         },
         "yaxis": "y"
        },
        {
         "hovertemplate": "Result=Goods Exchanged - GEX<br>Industry=%{x}<br>Number of Complaints=%{y}<extra></extra>",
         "legendgroup": "Goods Exchanged - GEX",
         "marker": {
          "color": "#B6E880",
          "pattern": {
           "shape": ""
          }
         },
         "name": "Goods Exchanged - GEX",
         "orientation": "v",
         "showlegend": true,
         "textposition": "auto",
         "type": "bar",
         "x": [
          "Electronics Store",
          "Furniture Sales",
          "Other",
          "Secondhand Dealer - Auto"
         ],
         "xaxis": "x",
         "y": {
          "bdata": "AwMBAQ==",
          "dtype": "i1"
         },
         "yaxis": "y"
        },
        {
         "hovertemplate": "Result=Goods Received - GDR<br>Industry=%{x}<br>Number of Complaints=%{y}<extra></extra>",
         "legendgroup": "Goods Received - GDR",
         "marker": {
          "color": "#FF97FF",
          "pattern": {
           "shape": ""
          }
         },
         "name": "Goods Received - GDR",
         "orientation": "v",
         "showlegend": true,
         "textposition": "auto",
         "type": "bar",
         "x": [
          "Electronics Store",
          "Misc Non-Food Retail",
          "Other"
         ],
         "xaxis": "x",
         "y": {
          "bdata": "AQEC",
          "dtype": "i1"
         },
         "yaxis": "y"
        },
        {
         "hovertemplate": "Result=Goods Repaired - GRS<br>Industry=%{x}<br>Number of Complaints=%{y}<extra></extra>",
         "legendgroup": "Goods Repaired - GRS",
         "marker": {
          "color": "#FECB52",
          "pattern": {
           "shape": ""
          }
         },
         "name": "Goods Repaired - GRS",
         "orientation": "v",
         "showlegend": true,
         "textposition": "auto",
         "type": "bar",
         "x": [
          "Electronics Store",
          "Furniture Sales",
          "Garage",
          "Garage & Parking Lot",
          "Home Improvement Contractor",
          "Other",
          "Secondhand Dealer - Auto"
         ],
         "xaxis": "x",
         "y": {
          "bdata": "AQECAw4CAg==",
          "dtype": "i1"
         },
         "yaxis": "y"
        },
        {
         "hovertemplate": "Result=No Satisfactory Agreement - NSA<br>Industry=%{x}<br>Number of Complaints=%{y}<extra></extra>",
         "legendgroup": "No Satisfactory Agreement - NSA",
         "marker": {
          "color": "#636efa",
          "pattern": {
           "shape": ""
          }
         },
         "name": "No Satisfactory Agreement - NSA",
         "orientation": "v",
         "showlegend": true,
         "textposition": "auto",
         "type": "bar",
         "x": [
          "Electronics Store",
          "Furniture Sales",
          "Garage",
          "Garage & Parking Lot",
          "Home Improvement Contractor",
          "Hotel/Motel",
          "Misc Non-Food Retail",
          "Other",
          "Secondhand Dealer - Auto",
          "Supermarket",
          "Tow Truck Company"
         ],
         "xaxis": "x",
         "y": {
          "bdata": "AwgBAQ4BAQIDAQc=",
          "dtype": "i1"
         },
         "yaxis": "y"
        },
        {
         "hovertemplate": "Result=Referred to Manufacturer - RMF<br>Industry=%{x}<br>Number of Complaints=%{y}<extra></extra>",
         "legendgroup": "Referred to Manufacturer - RMF",
         "marker": {
          "color": "#EF553B",
          "pattern": {
           "shape": ""
          }
         },
         "name": "Referred to Manufacturer - RMF",
         "orientation": "v",
         "showlegend": true,
         "textposition": "auto",
         "type": "bar",
         "x": [
          "Electronics Store",
          "Home Improvement Contractor"
         ],
         "xaxis": "x",
         "y": {
          "bdata": "AQE=",
          "dtype": "i1"
         },
         "yaxis": "y"
        },
        {
         "hovertemplate": "Result=Store Credit - SCR<br>Industry=%{x}<br>Number of Complaints=%{y}<extra></extra>",
         "legendgroup": "Store Credit - SCR",
         "marker": {
          "color": "#00cc96",
          "pattern": {
           "shape": ""
          }
         },
         "name": "Store Credit - SCR",
         "orientation": "v",
         "showlegend": true,
         "textposition": "auto",
         "type": "bar",
         "x": [
          "Electronics Store",
          "Furniture Sales",
          "Garage & Parking Lot",
          "Hotel/Motel",
          "Misc Non-Food Retail",
          "Other",
          "Restaurant",
          "Unknown"
         ],
         "xaxis": "x",
         "y": {
          "bdata": "AgQBAQEBAgE=",
          "dtype": "i1"
         },
         "yaxis": "y"
        },
        {
         "hovertemplate": "Result=Unable to Locate Business- ULV<br>Industry=%{x}<br>Number of Complaints=%{y}<extra></extra>",
         "legendgroup": "Unable to Locate Business- ULV",
         "marker": {
          "color": "#ab63fa",
          "pattern": {
           "shape": ""
          }
         },
         "name": "Unable to Locate Business- ULV",
         "orientation": "v",
         "showlegend": true,
         "textposition": "auto",
         "type": "bar",
         "x": [
          "Furniture Sales",
          "Home Improvement Contractor",
          "Secondhand Dealer - Auto",
          "Unknown"
         ],
         "xaxis": "x",
         "y": {
          "bdata": "AQQBAQ==",
          "dtype": "i1"
         },
         "yaxis": "y"
        },
        {
         "hovertemplate": "Result=Consumer Took Action - CTA<br>Industry=%{x}<br>Number of Complaints=%{y}<extra></extra>",
         "legendgroup": "Consumer Took Action - CTA",
         "marker": {
          "color": "#FFA15A",
          "pattern": {
           "shape": ""
          }
         },
         "name": "Consumer Took Action - CTA",
         "orientation": "v",
         "showlegend": true,
         "textposition": "auto",
         "type": "bar",
         "x": [
          "Garage",
          "Garage & Parking Lot",
          "Home Improvement Contractor",
          "Hotel/Motel",
          "Secondhand Dealer - Auto",
          "Tow Truck Company",
          "Unknown"
         ],
         "xaxis": "x",
         "y": {
          "bdata": "AgIKAQMBAg==",
          "dtype": "i1"
         },
         "yaxis": "y"
        },
        {
         "hovertemplate": "Result=Wrong Business and Null and Void - NUL<br>Industry=%{x}<br>Number of Complaints=%{y}<extra></extra>",
         "legendgroup": "Wrong Business and Null and Void - NUL",
         "marker": {
          "color": "#19d3f3",
          "pattern": {
           "shape": ""
          }
         },
         "name": "Wrong Business and Null and Void - NUL",
         "orientation": "v",
         "showlegend": true,
         "textposition": "auto",
         "type": "bar",
         "x": [
          "Garage",
          "Garage & Parking Lot",
          "Home Improvement Contractor",
          "Tow Truck Company"
         ],
         "xaxis": "x",
         "y": {
          "bdata": "AwEBAg==",
          "dtype": "i1"
         },
         "yaxis": "y"
        },
        {
         "hovertemplate": "Result=Complaint Invalid - CIN<br>Industry=%{x}<br>Number of Complaints=%{y}<extra></extra>",
         "legendgroup": "Complaint Invalid - CIN",
         "marker": {
          "color": "#FF6692",
          "pattern": {
           "shape": ""
          }
         },
         "name": "Complaint Invalid - CIN",
         "orientation": "v",
         "showlegend": true,
         "textposition": "auto",
         "type": "bar",
         "x": [
          "Home Improvement Contractor",
          "Misc Non-Food Retail",
          "Other",
          "Unknown"
         ],
         "xaxis": "x",
         "y": {
          "bdata": "AwEBAQ==",
          "dtype": "i1"
         },
         "yaxis": "y"
        },
        {
         "hovertemplate": "Result=Consumer Withdrew Complaint - CWC<br>Industry=%{x}<br>Number of Complaints=%{y}<extra></extra>",
         "legendgroup": "Consumer Withdrew Complaint - CWC",
         "marker": {
          "color": "#B6E880",
          "pattern": {
           "shape": ""
          }
         },
         "name": "Consumer Withdrew Complaint - CWC",
         "orientation": "v",
         "showlegend": true,
         "textposition": "auto",
         "type": "bar",
         "x": [
          "Home Improvement Contractor",
          "Restaurant",
          "Secondhand Dealer - Auto"
         ],
         "xaxis": "x",
         "y": {
          "bdata": "AQID",
          "dtype": "i1"
         },
         "yaxis": "y"
        },
        {
         "hovertemplate": "Result=Provider Feedback Received<br>Industry=%{x}<br>Number of Complaints=%{y}<extra></extra>",
         "legendgroup": "Provider Feedback Received",
         "marker": {
          "color": "#FF97FF",
          "pattern": {
           "shape": ""
          }
         },
         "name": "Provider Feedback Received",
         "orientation": "v",
         "showlegend": true,
         "textposition": "auto",
         "type": "bar",
         "x": [
          "Home Improvement Contractor"
         ],
         "xaxis": "x",
         "y": {
          "bdata": "AQ==",
          "dtype": "i1"
         },
         "yaxis": "y"
        },
        {
         "hovertemplate": "Result=Referred to Hearing - RTH<br>Industry=%{x}<br>Number of Complaints=%{y}<extra></extra>",
         "legendgroup": "Referred to Hearing - RTH",
         "marker": {
          "color": "#FECB52",
          "pattern": {
           "shape": ""
          }
         },
         "name": "Referred to Hearing - RTH",
         "orientation": "v",
         "showlegend": true,
         "textposition": "auto",
         "type": "bar",
         "x": [
          "Home Improvement Contractor"
         ],
         "xaxis": "x",
         "y": {
          "bdata": "Cw==",
          "dtype": "i1"
         },
         "yaxis": "y"
        },
        {
         "hovertemplate": "Result=Agency Collected Judgement - ACJ<br>Industry=%{x}<br>Number of Complaints=%{y}<extra></extra>",
         "legendgroup": "Agency Collected Judgement - ACJ",
         "marker": {
          "color": "#636efa",
          "pattern": {
           "shape": ""
          }
         },
         "name": "Agency Collected Judgement - ACJ",
         "orientation": "v",
         "showlegend": true,
         "textposition": "auto",
         "type": "bar",
         "x": [
          "Tow Truck Company"
         ],
         "xaxis": "x",
         "y": {
          "bdata": "AQ==",
          "dtype": "i1"
         },
         "yaxis": "y"
        }
       ],
       "layout": {
        "barmode": "stack",
        "height": 600,
        "legend": {
         "title": {
          "text": "Result"
         },
         "tracegroupgap": 0
        },
        "margin": {
         "b": 150,
         "l": 50,
         "r": 50,
         "t": 80
        },
        "template": {
         "data": {
          "bar": [
           {
            "error_x": {
             "color": "#2a3f5f"
            },
            "error_y": {
             "color": "#2a3f5f"
            },
            "marker": {
             "line": {
              "color": "#E5ECF6",
              "width": 0.5
             },
             "pattern": {
              "fillmode": "overlay",
              "size": 10,
              "solidity": 0.2
             }
            },
            "type": "bar"
           }
          ],
          "barpolar": [
           {
            "marker": {
             "line": {
              "color": "#E5ECF6",
              "width": 0.5
             },
             "pattern": {
              "fillmode": "overlay",
              "size": 10,
              "solidity": 0.2
             }
            },
            "type": "barpolar"
           }
          ],
          "carpet": [
           {
            "aaxis": {
             "endlinecolor": "#2a3f5f",
             "gridcolor": "white",
             "linecolor": "white",
             "minorgridcolor": "white",
             "startlinecolor": "#2a3f5f"
            },
            "baxis": {
             "endlinecolor": "#2a3f5f",
             "gridcolor": "white",
             "linecolor": "white",
             "minorgridcolor": "white",
             "startlinecolor": "#2a3f5f"
            },
            "type": "carpet"
           }
          ],
          "choropleth": [
           {
            "colorbar": {
             "outlinewidth": 0,
             "ticks": ""
            },
            "type": "choropleth"
           }
          ],
          "contour": [
           {
            "colorbar": {
             "outlinewidth": 0,
             "ticks": ""
            },
            "colorscale": [
             [
              0,
              "#0d0887"
             ],
             [
              0.1111111111111111,
              "#46039f"
             ],
             [
              0.2222222222222222,
              "#7201a8"
             ],
             [
              0.3333333333333333,
              "#9c179e"
             ],
             [
              0.4444444444444444,
              "#bd3786"
             ],
             [
              0.5555555555555556,
              "#d8576b"
             ],
             [
              0.6666666666666666,
              "#ed7953"
             ],
             [
              0.7777777777777778,
              "#fb9f3a"
             ],
             [
              0.8888888888888888,
              "#fdca26"
             ],
             [
              1,
              "#f0f921"
             ]
            ],
            "type": "contour"
           }
          ],
          "contourcarpet": [
           {
            "colorbar": {
             "outlinewidth": 0,
             "ticks": ""
            },
            "type": "contourcarpet"
           }
          ],
          "heatmap": [
           {
            "colorbar": {
             "outlinewidth": 0,
             "ticks": ""
            },
            "colorscale": [
             [
              0,
              "#0d0887"
             ],
             [
              0.1111111111111111,
              "#46039f"
             ],
             [
              0.2222222222222222,
              "#7201a8"
             ],
             [
              0.3333333333333333,
              "#9c179e"
             ],
             [
              0.4444444444444444,
              "#bd3786"
             ],
             [
              0.5555555555555556,
              "#d8576b"
             ],
             [
              0.6666666666666666,
              "#ed7953"
             ],
             [
              0.7777777777777778,
              "#fb9f3a"
             ],
             [
              0.8888888888888888,
              "#fdca26"
             ],
             [
              1,
              "#f0f921"
             ]
            ],
            "type": "heatmap"
           }
          ],
          "histogram": [
           {
            "marker": {
             "pattern": {
              "fillmode": "overlay",
              "size": 10,
              "solidity": 0.2
             }
            },
            "type": "histogram"
           }
          ],
          "histogram2d": [
           {
            "colorbar": {
             "outlinewidth": 0,
             "ticks": ""
            },
            "colorscale": [
             [
              0,
              "#0d0887"
             ],
             [
              0.1111111111111111,
              "#46039f"
             ],
             [
              0.2222222222222222,
              "#7201a8"
             ],
             [
              0.3333333333333333,
              "#9c179e"
             ],
             [
              0.4444444444444444,
              "#bd3786"
             ],
             [
              0.5555555555555556,
              "#d8576b"
             ],
             [
              0.6666666666666666,
              "#ed7953"
             ],
             [
              0.7777777777777778,
              "#fb9f3a"
             ],
             [
              0.8888888888888888,
              "#fdca26"
             ],
             [
              1,
              "#f0f921"
             ]
            ],
            "type": "histogram2d"
           }
          ],
          "histogram2dcontour": [
           {
            "colorbar": {
             "outlinewidth": 0,
             "ticks": ""
            },
            "colorscale": [
             [
              0,
              "#0d0887"
             ],
             [
              0.1111111111111111,
              "#46039f"
             ],
             [
              0.2222222222222222,
              "#7201a8"
             ],
             [
              0.3333333333333333,
              "#9c179e"
             ],
             [
              0.4444444444444444,
              "#bd3786"
             ],
             [
              0.5555555555555556,
              "#d8576b"
             ],
             [
              0.6666666666666666,
              "#ed7953"
             ],
             [
              0.7777777777777778,
              "#fb9f3a"
             ],
             [
              0.8888888888888888,
              "#fdca26"
             ],
             [
              1,
              "#f0f921"
             ]
            ],
            "type": "histogram2dcontour"
           }
          ],
          "mesh3d": [
           {
            "colorbar": {
             "outlinewidth": 0,
             "ticks": ""
            },
            "type": "mesh3d"
           }
          ],
          "parcoords": [
           {
            "line": {
             "colorbar": {
              "outlinewidth": 0,
              "ticks": ""
             }
            },
            "type": "parcoords"
           }
          ],
          "pie": [
           {
            "automargin": true,
            "type": "pie"
           }
          ],
          "scatter": [
           {
            "fillpattern": {
             "fillmode": "overlay",
             "size": 10,
             "solidity": 0.2
            },
            "type": "scatter"
           }
          ],
          "scatter3d": [
           {
            "line": {
             "colorbar": {
              "outlinewidth": 0,
              "ticks": ""
             }
            },
            "marker": {
             "colorbar": {
              "outlinewidth": 0,
              "ticks": ""
             }
            },
            "type": "scatter3d"
           }
          ],
          "scattercarpet": [
           {
            "marker": {
             "colorbar": {
              "outlinewidth": 0,
              "ticks": ""
             }
            },
            "type": "scattercarpet"
           }
          ],
          "scattergeo": [
           {
            "marker": {
             "colorbar": {
              "outlinewidth": 0,
              "ticks": ""
             }
            },
            "type": "scattergeo"
           }
          ],
          "scattergl": [
           {
            "marker": {
             "colorbar": {
              "outlinewidth": 0,
              "ticks": ""
             }
            },
            "type": "scattergl"
           }
          ],
          "scattermap": [
           {
            "marker": {
             "colorbar": {
              "outlinewidth": 0,
              "ticks": ""
             }
            },
            "type": "scattermap"
           }
          ],
          "scattermapbox": [
           {
            "marker": {
             "colorbar": {
              "outlinewidth": 0,
              "ticks": ""
             }
            },
            "type": "scattermapbox"
           }
          ],
          "scatterpolar": [
           {
            "marker": {
             "colorbar": {
              "outlinewidth": 0,
              "ticks": ""
             }
            },
            "type": "scatterpolar"
           }
          ],
          "scatterpolargl": [
           {
            "marker": {
             "colorbar": {
              "outlinewidth": 0,
              "ticks": ""
             }
            },
            "type": "scatterpolargl"
           }
          ],
          "scatterternary": [
           {
            "marker": {
             "colorbar": {
              "outlinewidth": 0,
              "ticks": ""
             }
            },
            "type": "scatterternary"
           }
          ],
          "surface": [
           {
            "colorbar": {
             "outlinewidth": 0,
             "ticks": ""
            },
            "colorscale": [
             [
              0,
              "#0d0887"
             ],
             [
              0.1111111111111111,
              "#46039f"
             ],
             [
              0.2222222222222222,
              "#7201a8"
             ],
             [
              0.3333333333333333,
              "#9c179e"
             ],
             [
              0.4444444444444444,
              "#bd3786"
             ],
             [
              0.5555555555555556,
              "#d8576b"
             ],
             [
              0.6666666666666666,
              "#ed7953"
             ],
             [
              0.7777777777777778,
              "#fb9f3a"
             ],
             [
              0.8888888888888888,
              "#fdca26"
             ],
             [
              1,
              "#f0f921"
             ]
            ],
            "type": "surface"
           }
          ],
          "table": [
           {
            "cells": {
             "fill": {
              "color": "#EBF0F8"
             },
             "line": {
              "color": "white"
             }
            },
            "header": {
             "fill": {
              "color": "#C8D4E3"
             },
             "line": {
              "color": "white"
             }
            },
            "type": "table"
           }
          ]
         },
         "layout": {
          "annotationdefaults": {
           "arrowcolor": "#2a3f5f",
           "arrowhead": 0,
           "arrowwidth": 1
          },
          "autotypenumbers": "strict",
          "coloraxis": {
           "colorbar": {
            "outlinewidth": 0,
            "ticks": ""
           }
          },
          "colorscale": {
           "diverging": [
            [
             0,
             "#8e0152"
            ],
            [
             0.1,
             "#c51b7d"
            ],
            [
             0.2,
             "#de77ae"
            ],
            [
             0.3,
             "#f1b6da"
            ],
            [
             0.4,
             "#fde0ef"
            ],
            [
             0.5,
             "#f7f7f7"
            ],
            [
             0.6,
             "#e6f5d0"
            ],
            [
             0.7,
             "#b8e186"
            ],
            [
             0.8,
             "#7fbc41"
            ],
            [
             0.9,
             "#4d9221"
            ],
            [
             1,
             "#276419"
            ]
           ],
           "sequential": [
            [
             0,
             "#0d0887"
            ],
            [
             0.1111111111111111,
             "#46039f"
            ],
            [
             0.2222222222222222,
             "#7201a8"
            ],
            [
             0.3333333333333333,
             "#9c179e"
            ],
            [
             0.4444444444444444,
             "#bd3786"
            ],
            [
             0.5555555555555556,
             "#d8576b"
            ],
            [
             0.6666666666666666,
             "#ed7953"
            ],
            [
             0.7777777777777778,
             "#fb9f3a"
            ],
            [
             0.8888888888888888,
             "#fdca26"
            ],
            [
             1,
             "#f0f921"
            ]
           ],
           "sequentialminus": [
            [
             0,
             "#0d0887"
            ],
            [
             0.1111111111111111,
             "#46039f"
            ],
            [
             0.2222222222222222,
             "#7201a8"
            ],
            [
             0.3333333333333333,
             "#9c179e"
            ],
            [
             0.4444444444444444,
             "#bd3786"
            ],
            [
             0.5555555555555556,
             "#d8576b"
            ],
            [
             0.6666666666666666,
             "#ed7953"
            ],
            [
             0.7777777777777778,
             "#fb9f3a"
            ],
            [
             0.8888888888888888,
             "#fdca26"
            ],
            [
             1,
             "#f0f921"
            ]
           ]
          },
          "colorway": [
           "#636efa",
           "#EF553B",
           "#00cc96",
           "#ab63fa",
           "#FFA15A",
           "#19d3f3",
           "#FF6692",
           "#B6E880",
           "#FF97FF",
           "#FECB52"
          ],
          "font": {
           "color": "#2a3f5f"
          },
          "geo": {
           "bgcolor": "white",
           "lakecolor": "white",
           "landcolor": "#E5ECF6",
           "showlakes": true,
           "showland": true,
           "subunitcolor": "white"
          },
          "hoverlabel": {
           "align": "left"
          },
          "hovermode": "closest",
          "mapbox": {
           "style": "light"
          },
          "paper_bgcolor": "white",
          "plot_bgcolor": "#E5ECF6",
          "polar": {
           "angularaxis": {
            "gridcolor": "white",
            "linecolor": "white",
            "ticks": ""
           },
           "bgcolor": "#E5ECF6",
           "radialaxis": {
            "gridcolor": "white",
            "linecolor": "white",
            "ticks": ""
           }
          },
          "scene": {
           "xaxis": {
            "backgroundcolor": "#E5ECF6",
            "gridcolor": "white",
            "gridwidth": 2,
            "linecolor": "white",
            "showbackground": true,
            "ticks": "",
            "zerolinecolor": "white"
           },
           "yaxis": {
            "backgroundcolor": "#E5ECF6",
            "gridcolor": "white",
            "gridwidth": 2,
            "linecolor": "white",
            "showbackground": true,
            "ticks": "",
            "zerolinecolor": "white"
           },
           "zaxis": {
            "backgroundcolor": "#E5ECF6",
            "gridcolor": "white",
            "gridwidth": 2,
            "linecolor": "white",
            "showbackground": true,
            "ticks": "",
            "zerolinecolor": "white"
           }
          },
          "shapedefaults": {
           "line": {
            "color": "#2a3f5f"
           }
          },
          "ternary": {
           "aaxis": {
            "gridcolor": "white",
            "linecolor": "white",
            "ticks": ""
           },
           "baxis": {
            "gridcolor": "white",
            "linecolor": "white",
            "ticks": ""
           },
           "bgcolor": "#E5ECF6",
           "caxis": {
            "gridcolor": "white",
            "linecolor": "white",
            "ticks": ""
           }
          },
          "title": {
           "x": 0.05
          },
          "xaxis": {
           "automargin": true,
           "gridcolor": "white",
           "linecolor": "white",
           "ticks": "",
           "title": {
            "standoff": 15
           },
           "zerolinecolor": "white",
           "zerolinewidth": 2
          },
          "yaxis": {
           "automargin": true,
           "gridcolor": "white",
           "linecolor": "white",
           "ticks": "",
           "title": {
            "standoff": 15
           },
           "zerolinecolor": "white",
           "zerolinewidth": 2
          }
         }
        },
        "title": {
         "text": "Number of Complaints by Industry (Stacked by Result)"
        },
        "xaxis": {
         "anchor": "y",
         "domain": [
          0,
          1
         ],
         "tickangle": -45,
         "title": {
          "text": "Industry"
         }
        },
        "yaxis": {
         "anchor": "x",
         "domain": [
          0,
          1
         ],
         "title": {
          "text": "Number of Complaints"
         }
        }
       }
      }
     },
     "metadata": {},
     "output_type": "display_data"
    }
   ],
   "source": [
    "df = pd.read_csv('/Users/carinayan/Downloads/dcwp_complaints_project/data/cleaned_consumer_complaints.csv')\n",
    "\n",
    "# Group by Business Category and Result, and count the number of complaints in each group\n",
    "grouped = df.groupby(['Business Category', 'Result']).size().reset_index(name='Count')\n",
    "\n",
    "# Select the top 20 industries with the highest total complaint counts (optional filtering step)\n",
    "top_industries = (\n",
    "    grouped.groupby('Business Category')['Count']\n",
    "    .sum()\n",
    "    .sort_values(ascending=False)\n",
    "    .head(20)\n",
    "    .index\n",
    ")\n",
    "# Keep only rows where the Business Category is in the top 20\n",
    "grouped = grouped[grouped['Business Category'].isin(top_industries)]\n",
    "\n",
    "# Create a stacked bar chart with Business Category on the x-axis, complaint count on y-axis,\n",
    "# and colors representing different resolution results\n",
    "fig = px.bar(\n",
    "    grouped,\n",
    "    x='Business Category',\n",
    "    y='Count',\n",
    "    color='Result',\n",
    "    title='Number of Complaints by Industry (Stacked by Result)',\n",
    "    labels={'Count': 'Number of Complaints', 'Business Category': 'Industry'},\n",
    "    barmode='stack',  # Stacked bar chart mode\n",
    "    height=600\n",
    ")\n",
    "\n",
    "fig.update_layout(\n",
    "    xaxis_tickangle=-45,\n",
    "    xaxis_title='Industry',\n",
    "    yaxis_title='Number of Complaints',\n",
    "    legend_title='Result',\n",
    "    margin=dict(l=50, r=50, t=80, b=150)\n",
    ")\n",
    "fig.show()\n"
   ]
  },
  {
   "cell_type": "code",
   "execution_count": null,
   "id": "9bae5638",
   "metadata": {},
   "outputs": [
    {
     "data": {
      "application/vnd.plotly.v1+json": {
       "config": {
        "plotlyServerURL": "https://plot.ly"
       },
       "data": [
        {
         "coloraxis": "coloraxis",
         "hovertemplate": "Complaint Type: %{x}<br>Industry: %{y}<br>Number of Complaints: %{z}<extra></extra>",
         "name": "0",
         "type": "heatmap",
         "x": [
          "Unknown",
          "Advertising/Misleading - A02",
          "Overcharge",
          "Non-Delivery of Goods - N01",
          "Unlicensed",
          "Exchange/Refund/Return",
          "Billing Dispute - B02",
          "Sidewalk Blocked",
          "Lost/Stolen/Damaged Property",
          "Damaged Goods - D01",
          "Other - Z01",
          "Cashless Business",
          "Price Not Posted",
          "Surcharge/Overcharge - S02",
          "Quality of Work - Q01",
          "Price Gouging",
          "Receipt Incomplete/Inaccurate/Not Given",
          "Unsolicited/Unauthorized Services",
          "Prohibited Item Sale to Minor",
          "Non-Delivery of Service - N02"
         ],
         "xaxis": "x",
         "y": [
          "Misc Non-Food Retail",
          "Unknown",
          "Home Improvement Contractor",
          "Tow Truck Company",
          "Supermarket",
          "Restaurant",
          "Grocery-Retail",
          "Garage & Parking Lot",
          "Electronics Store",
          "General Vendor",
          "Specialized Vending License - MFV",
          "Secondhand Dealer - Auto",
          "Other",
          "Drug Store Retail",
          "Tobacco Retail Dealer",
          "Car Wash",
          "Hotel/Motel",
          "Furniture Sales",
          "Stoop Line Stand",
          "Dry Cleaners",
          "Wearing Apparel",
          "Debt Collection Agency",
          "Auto Rental",
          "Garage",
          "Salons And Barbershop",
          "Pedicab Business",
          "Employment Agency",
          "Appliances",
          "Laundries",
          "Retail Store",
          "Electronic Cigarette Dealer",
          "Mailorder Misc - 319",
          "Megastore",
          "Retail Laundry",
          "Temporary Street Fair Vendor Permit",
          "Storage Warehouse",
          "Gas Station-Retail",
          "Jewelry Store-Retail",
          "Third Party Food Delivery Service",
          "Electronic & Home Appliance Service Dealer",
          "Travel Agency",
          "Hardware-Retail",
          "Secondhand Dealer - General",
          "Sightseeing Bus",
          "Locksmith",
          "Moving Company",
          "Process Server Individual",
          "Laundry - 064",
          "Booting Company",
          "Tenant Screening",
          "Dealer In Products For The Disabled",
          "Pedicab Driver",
          "Sightseeing Guide",
          "Newsstand",
          "Health Spa",
          "Funeral Homes",
          "Fuel Oil Dealer",
          "Ticket Seller Business",
          "Tax Preparers",
          "For-Profit College/University",
          "Pawnbroker",
          "Immigration Service Provider",
          "Catering Establishment",
          "Construction Labor Provider",
          "Auto Dealership",
          "Ticket Seller Individual",
          "Process Serving Agency",
          "Airline",
          "Parking Lot",
          "Auction House",
          "Horse Drawn Cab Owner",
          "Wholesale Food Market",
          "Scale Dealer/Repairer",
          "Auto Leasing",
          "Bail Bonds",
          "Floor Coverings",
          "Mini-Storage Company",
          "Air Conditioning Law",
          "Debt Settlement",
          "Tickets-Live Perf",
          "Movie Theater/Entertainment Venue",
          "Internet Complaints",
          "Auctioneer",
          "Door to Door Sales",
          "Micromobility Device Store",
          "Horse Drawn Cab Driver",
          "Motion Picture Operator - 123",
          "Scrap Metal Processor",
          "Pool or Billiard Room",
          "Pest Control Services",
          "Tow Truck Driver"
         ],
         "yaxis": "y",
         "z": {
          "bdata": "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",
          "dtype": "f8",
          "shape": "91, 20"
         }
        }
       ],
       "layout": {
        "coloraxis": {
         "cmax": 300,
         "cmin": 0,
         "colorbar": {
          "title": {
           "text": "Number of Complaints"
          }
         },
         "colorscale": [
          [
           0,
           "rgb(255,245,240)"
          ],
          [
           0.125,
           "rgb(254,224,210)"
          ],
          [
           0.25,
           "rgb(252,187,161)"
          ],
          [
           0.375,
           "rgb(252,146,114)"
          ],
          [
           0.5,
           "rgb(251,106,74)"
          ],
          [
           0.625,
           "rgb(239,59,44)"
          ],
          [
           0.75,
           "rgb(203,24,29)"
          ],
          [
           0.875,
           "rgb(165,15,21)"
          ],
          [
           1,
           "rgb(103,0,13)"
          ]
         ]
        },
        "height": 800,
        "margin": {
         "b": 120,
         "l": 50,
         "r": 50,
         "t": 80
        },
        "template": {
         "data": {
          "bar": [
           {
            "error_x": {
             "color": "#2a3f5f"
            },
            "error_y": {
             "color": "#2a3f5f"
            },
            "marker": {
             "line": {
              "color": "#E5ECF6",
              "width": 0.5
             },
             "pattern": {
              "fillmode": "overlay",
              "size": 10,
              "solidity": 0.2
             }
            },
            "type": "bar"
           }
          ],
          "barpolar": [
           {
            "marker": {
             "line": {
              "color": "#E5ECF6",
              "width": 0.5
             },
             "pattern": {
              "fillmode": "overlay",
              "size": 10,
              "solidity": 0.2
             }
            },
            "type": "barpolar"
           }
          ],
          "carpet": [
           {
            "aaxis": {
             "endlinecolor": "#2a3f5f",
             "gridcolor": "white",
             "linecolor": "white",
             "minorgridcolor": "white",
             "startlinecolor": "#2a3f5f"
            },
            "baxis": {
             "endlinecolor": "#2a3f5f",
             "gridcolor": "white",
             "linecolor": "white",
             "minorgridcolor": "white",
             "startlinecolor": "#2a3f5f"
            },
            "type": "carpet"
           }
          ],
          "choropleth": [
           {
            "colorbar": {
             "outlinewidth": 0,
             "ticks": ""
            },
            "type": "choropleth"
           }
          ],
          "contour": [
           {
            "colorbar": {
             "outlinewidth": 0,
             "ticks": ""
            },
            "colorscale": [
             [
              0,
              "#0d0887"
             ],
             [
              0.1111111111111111,
              "#46039f"
             ],
             [
              0.2222222222222222,
              "#7201a8"
             ],
             [
              0.3333333333333333,
              "#9c179e"
             ],
             [
              0.4444444444444444,
              "#bd3786"
             ],
             [
              0.5555555555555556,
              "#d8576b"
             ],
             [
              0.6666666666666666,
              "#ed7953"
             ],
             [
              0.7777777777777778,
              "#fb9f3a"
             ],
             [
              0.8888888888888888,
              "#fdca26"
             ],
             [
              1,
              "#f0f921"
             ]
            ],
            "type": "contour"
           }
          ],
          "contourcarpet": [
           {
            "colorbar": {
             "outlinewidth": 0,
             "ticks": ""
            },
            "type": "contourcarpet"
           }
          ],
          "heatmap": [
           {
            "colorbar": {
             "outlinewidth": 0,
             "ticks": ""
            },
            "colorscale": [
             [
              0,
              "#0d0887"
             ],
             [
              0.1111111111111111,
              "#46039f"
             ],
             [
              0.2222222222222222,
              "#7201a8"
             ],
             [
              0.3333333333333333,
              "#9c179e"
             ],
             [
              0.4444444444444444,
              "#bd3786"
             ],
             [
              0.5555555555555556,
              "#d8576b"
             ],
             [
              0.6666666666666666,
              "#ed7953"
             ],
             [
              0.7777777777777778,
              "#fb9f3a"
             ],
             [
              0.8888888888888888,
              "#fdca26"
             ],
             [
              1,
              "#f0f921"
             ]
            ],
            "type": "heatmap"
           }
          ],
          "histogram": [
           {
            "marker": {
             "pattern": {
              "fillmode": "overlay",
              "size": 10,
              "solidity": 0.2
             }
            },
            "type": "histogram"
           }
          ],
          "histogram2d": [
           {
            "colorbar": {
             "outlinewidth": 0,
             "ticks": ""
            },
            "colorscale": [
             [
              0,
              "#0d0887"
             ],
             [
              0.1111111111111111,
              "#46039f"
             ],
             [
              0.2222222222222222,
              "#7201a8"
             ],
             [
              0.3333333333333333,
              "#9c179e"
             ],
             [
              0.4444444444444444,
              "#bd3786"
             ],
             [
              0.5555555555555556,
              "#d8576b"
             ],
             [
              0.6666666666666666,
              "#ed7953"
             ],
             [
              0.7777777777777778,
              "#fb9f3a"
             ],
             [
              0.8888888888888888,
              "#fdca26"
             ],
             [
              1,
              "#f0f921"
             ]
            ],
            "type": "histogram2d"
           }
          ],
          "histogram2dcontour": [
           {
            "colorbar": {
             "outlinewidth": 0,
             "ticks": ""
            },
            "colorscale": [
             [
              0,
              "#0d0887"
             ],
             [
              0.1111111111111111,
              "#46039f"
             ],
             [
              0.2222222222222222,
              "#7201a8"
             ],
             [
              0.3333333333333333,
              "#9c179e"
             ],
             [
              0.4444444444444444,
              "#bd3786"
             ],
             [
              0.5555555555555556,
              "#d8576b"
             ],
             [
              0.6666666666666666,
              "#ed7953"
             ],
             [
              0.7777777777777778,
              "#fb9f3a"
             ],
             [
              0.8888888888888888,
              "#fdca26"
             ],
             [
              1,
              "#f0f921"
             ]
            ],
            "type": "histogram2dcontour"
           }
          ],
          "mesh3d": [
           {
            "colorbar": {
             "outlinewidth": 0,
             "ticks": ""
            },
            "type": "mesh3d"
           }
          ],
          "parcoords": [
           {
            "line": {
             "colorbar": {
              "outlinewidth": 0,
              "ticks": ""
             }
            },
            "type": "parcoords"
           }
          ],
          "pie": [
           {
            "automargin": true,
            "type": "pie"
           }
          ],
          "scatter": [
           {
            "fillpattern": {
             "fillmode": "overlay",
             "size": 10,
             "solidity": 0.2
            },
            "type": "scatter"
           }
          ],
          "scatter3d": [
           {
            "line": {
             "colorbar": {
              "outlinewidth": 0,
              "ticks": ""
             }
            },
            "marker": {
             "colorbar": {
              "outlinewidth": 0,
              "ticks": ""
             }
            },
            "type": "scatter3d"
           }
          ],
          "scattercarpet": [
           {
            "marker": {
             "colorbar": {
              "outlinewidth": 0,
              "ticks": ""
             }
            },
            "type": "scattercarpet"
           }
          ],
          "scattergeo": [
           {
            "marker": {
             "colorbar": {
              "outlinewidth": 0,
              "ticks": ""
             }
            },
            "type": "scattergeo"
           }
          ],
          "scattergl": [
           {
            "marker": {
             "colorbar": {
              "outlinewidth": 0,
              "ticks": ""
             }
            },
            "type": "scattergl"
           }
          ],
          "scattermap": [
           {
            "marker": {
             "colorbar": {
              "outlinewidth": 0,
              "ticks": ""
             }
            },
            "type": "scattermap"
           }
          ],
          "scattermapbox": [
           {
            "marker": {
             "colorbar": {
              "outlinewidth": 0,
              "ticks": ""
             }
            },
            "type": "scattermapbox"
           }
          ],
          "scatterpolar": [
           {
            "marker": {
             "colorbar": {
              "outlinewidth": 0,
              "ticks": ""
             }
            },
            "type": "scatterpolar"
           }
          ],
          "scatterpolargl": [
           {
            "marker": {
             "colorbar": {
              "outlinewidth": 0,
              "ticks": ""
             }
            },
            "type": "scatterpolargl"
           }
          ],
          "scatterternary": [
           {
            "marker": {
             "colorbar": {
              "outlinewidth": 0,
              "ticks": ""
             }
            },
            "type": "scatterternary"
           }
          ],
          "surface": [
           {
            "colorbar": {
             "outlinewidth": 0,
             "ticks": ""
            },
            "colorscale": [
             [
              0,
              "#0d0887"
             ],
             [
              0.1111111111111111,
              "#46039f"
             ],
             [
              0.2222222222222222,
              "#7201a8"
             ],
             [
              0.3333333333333333,
              "#9c179e"
             ],
             [
              0.4444444444444444,
              "#bd3786"
             ],
             [
              0.5555555555555556,
              "#d8576b"
             ],
             [
              0.6666666666666666,
              "#ed7953"
             ],
             [
              0.7777777777777778,
              "#fb9f3a"
             ],
             [
              0.8888888888888888,
              "#fdca26"
             ],
             [
              1,
              "#f0f921"
             ]
            ],
            "type": "surface"
           }
          ],
          "table": [
           {
            "cells": {
             "fill": {
              "color": "#EBF0F8"
             },
             "line": {
              "color": "white"
             }
            },
            "header": {
             "fill": {
              "color": "#C8D4E3"
             },
             "line": {
              "color": "white"
             }
            },
            "type": "table"
           }
          ]
         },
         "layout": {
          "annotationdefaults": {
           "arrowcolor": "#2a3f5f",
           "arrowhead": 0,
           "arrowwidth": 1
          },
          "autotypenumbers": "strict",
          "coloraxis": {
           "colorbar": {
            "outlinewidth": 0,
            "ticks": ""
           }
          },
          "colorscale": {
           "diverging": [
            [
             0,
             "#8e0152"
            ],
            [
             0.1,
             "#c51b7d"
            ],
            [
             0.2,
             "#de77ae"
            ],
            [
             0.3,
             "#f1b6da"
            ],
            [
             0.4,
             "#fde0ef"
            ],
            [
             0.5,
             "#f7f7f7"
            ],
            [
             0.6,
             "#e6f5d0"
            ],
            [
             0.7,
             "#b8e186"
            ],
            [
             0.8,
             "#7fbc41"
            ],
            [
             0.9,
             "#4d9221"
            ],
            [
             1,
             "#276419"
            ]
           ],
           "sequential": [
            [
             0,
             "#0d0887"
            ],
            [
             0.1111111111111111,
             "#46039f"
            ],
            [
             0.2222222222222222,
             "#7201a8"
            ],
            [
             0.3333333333333333,
             "#9c179e"
            ],
            [
             0.4444444444444444,
             "#bd3786"
            ],
            [
             0.5555555555555556,
             "#d8576b"
            ],
            [
             0.6666666666666666,
             "#ed7953"
            ],
            [
             0.7777777777777778,
             "#fb9f3a"
            ],
            [
             0.8888888888888888,
             "#fdca26"
            ],
            [
             1,
             "#f0f921"
            ]
           ],
           "sequentialminus": [
            [
             0,
             "#0d0887"
            ],
            [
             0.1111111111111111,
             "#46039f"
            ],
            [
             0.2222222222222222,
             "#7201a8"
            ],
            [
             0.3333333333333333,
             "#9c179e"
            ],
            [
             0.4444444444444444,
             "#bd3786"
            ],
            [
             0.5555555555555556,
             "#d8576b"
            ],
            [
             0.6666666666666666,
             "#ed7953"
            ],
            [
             0.7777777777777778,
             "#fb9f3a"
            ],
            [
             0.8888888888888888,
             "#fdca26"
            ],
            [
             1,
             "#f0f921"
            ]
           ]
          },
          "colorway": [
           "#636efa",
           "#EF553B",
           "#00cc96",
           "#ab63fa",
           "#FFA15A",
           "#19d3f3",
           "#FF6692",
           "#B6E880",
           "#FF97FF",
           "#FECB52"
          ],
          "font": {
           "color": "#2a3f5f"
          },
          "geo": {
           "bgcolor": "white",
           "lakecolor": "white",
           "landcolor": "#E5ECF6",
           "showlakes": true,
           "showland": true,
           "subunitcolor": "white"
          },
          "hoverlabel": {
           "align": "left"
          },
          "hovermode": "closest",
          "mapbox": {
           "style": "light"
          },
          "paper_bgcolor": "white",
          "plot_bgcolor": "#E5ECF6",
          "polar": {
           "angularaxis": {
            "gridcolor": "white",
            "linecolor": "white",
            "ticks": ""
           },
           "bgcolor": "#E5ECF6",
           "radialaxis": {
            "gridcolor": "white",
            "linecolor": "white",
            "ticks": ""
           }
          },
          "scene": {
           "xaxis": {
            "backgroundcolor": "#E5ECF6",
            "gridcolor": "white",
            "gridwidth": 2,
            "linecolor": "white",
            "showbackground": true,
            "ticks": "",
            "zerolinecolor": "white"
           },
           "yaxis": {
            "backgroundcolor": "#E5ECF6",
            "gridcolor": "white",
            "gridwidth": 2,
            "linecolor": "white",
            "showbackground": true,
            "ticks": "",
            "zerolinecolor": "white"
           },
           "zaxis": {
            "backgroundcolor": "#E5ECF6",
            "gridcolor": "white",
            "gridwidth": 2,
            "linecolor": "white",
            "showbackground": true,
            "ticks": "",
            "zerolinecolor": "white"
           }
          },
          "shapedefaults": {
           "line": {
            "color": "#2a3f5f"
           }
          },
          "ternary": {
           "aaxis": {
            "gridcolor": "white",
            "linecolor": "white",
            "ticks": ""
           },
           "baxis": {
            "gridcolor": "white",
            "linecolor": "white",
            "ticks": ""
           },
           "bgcolor": "#E5ECF6",
           "caxis": {
            "gridcolor": "white",
            "linecolor": "white",
            "ticks": ""
           }
          },
          "title": {
           "x": 0.05
          },
          "xaxis": {
           "automargin": true,
           "gridcolor": "white",
           "linecolor": "white",
           "ticks": "",
           "title": {
            "standoff": 15
           },
           "zerolinecolor": "white",
           "zerolinewidth": 2
          },
          "yaxis": {
           "automargin": true,
           "gridcolor": "white",
           "linecolor": "white",
           "ticks": "",
           "title": {
            "standoff": 15
           },
           "zerolinecolor": "white",
           "zerolinewidth": 2
          }
         }
        },
        "title": {
         "text": "Heatmap of Complaint Types Across Industries (Sorted)"
        },
        "xaxis": {
         "anchor": "y",
         "constrain": "domain",
         "domain": [
          0,
          1
         ],
         "scaleanchor": "y",
         "side": "bottom",
         "title": {
          "text": "Complaint Type"
         }
        },
        "yaxis": {
         "anchor": "x",
         "autorange": "reversed",
         "constrain": "domain",
         "domain": [
          0,
          1
         ],
         "title": {
          "text": "Industry"
         }
        }
       }
      }
     },
     "metadata": {},
     "output_type": "display_data"
    }
   ],
   "source": [
    "df = pd.read_csv('/Users/carinayan/Downloads/dcwp_complaints_project/data/cleaned_consumer_complaints.csv')\n",
    "\n",
    "# Group by Business Category and Complaint Code, then count the number of complaints in each group\n",
    "heatmap_data = df.groupby(['Business Category', 'Complaint Code']).size().reset_index(name='Count')\n",
    "\n",
    "# Keep only the top 20 most frequent complaint codes across all industries\n",
    "top_complaints = (\n",
    "    heatmap_data.groupby('Complaint Code')['Count']\n",
    "    .sum()\n",
    "    .sort_values(ascending=False)\n",
    "    .head(20)\n",
    "    .index\n",
    ")\n",
    "# Filter the dataset to only include rows with the top 20 complaint codes\n",
    "heatmap_data = heatmap_data[heatmap_data['Complaint Code'].isin(top_complaints)]\n",
    "\n",
    "# Sort industry labels (Y-axis) by total number of complaints\n",
    "industry_order = (\n",
    "    heatmap_data.groupby('Business Category')['Count']\n",
    "    .sum()\n",
    "    .sort_values(ascending=False)\n",
    "    .index\n",
    ")\n",
    "\n",
    "# Sort complaint code labels (X-axis) by total number of complaints\n",
    "complaint_order = (\n",
    "    heatmap_data.groupby('Complaint Code')['Count']\n",
    "    .sum()\n",
    "    .sort_values(ascending=False)\n",
    "    .index\n",
    ")\n",
    "\n",
    "pivot_table = heatmap_data.pivot_table(\n",
    "    index='Business Category',\n",
    "    columns='Complaint Code',\n",
    "    values='Count',\n",
    "    fill_value=0  # Fill missing values with 0\n",
    ")\n",
    "\n",
    "pivot_table = pivot_table.loc[industry_order, complaint_order]\n",
    "\n",
    "fig = px.imshow(\n",
    "    pivot_table,\n",
    "    labels=dict(x=\"Complaint Type\", y=\"Industry\", color=\"Number of Complaints\"),\n",
    "    title=\"Heatmap of Complaint Types Across Industries (Sorted)\",\n",
    "    color_continuous_scale='Reds', \n",
    "    height=800\n",
    ")\n",
    "\n",
    "fig.update_layout(\n",
    "    xaxis_side=\"bottom\",\n",
    "    margin=dict(l=50, r=50, t=80, b=120)\n",
    ")\n",
    "\n",
    "fig.show()\n"
   ]
  },
  {
   "cell_type": "code",
   "execution_count": null,
   "id": "51feef38",
   "metadata": {},
   "outputs": [
    {
     "name": "stderr",
     "output_type": "stream",
     "text": [
      "/var/folders/1w/m6bndrfn3h96xky2vx7hh40r0000gn/T/ipykernel_47556/2539225705.py:68: UserWarning:\n",
      "\n",
      "Boolean Series key will be reindexed to match DataFrame index.\n",
      "\n",
      "/var/folders/1w/m6bndrfn3h96xky2vx7hh40r0000gn/T/ipykernel_47556/2539225705.py:68: UserWarning:\n",
      "\n",
      "Boolean Series key will be reindexed to match DataFrame index.\n",
      "\n",
      "/var/folders/1w/m6bndrfn3h96xky2vx7hh40r0000gn/T/ipykernel_47556/2539225705.py:68: UserWarning:\n",
      "\n",
      "Boolean Series key will be reindexed to match DataFrame index.\n",
      "\n",
      "/var/folders/1w/m6bndrfn3h96xky2vx7hh40r0000gn/T/ipykernel_47556/2539225705.py:68: UserWarning:\n",
      "\n",
      "Boolean Series key will be reindexed to match DataFrame index.\n",
      "\n",
      "/var/folders/1w/m6bndrfn3h96xky2vx7hh40r0000gn/T/ipykernel_47556/2539225705.py:68: UserWarning:\n",
      "\n",
      "Boolean Series key will be reindexed to match DataFrame index.\n",
      "\n",
      "/var/folders/1w/m6bndrfn3h96xky2vx7hh40r0000gn/T/ipykernel_47556/2539225705.py:68: UserWarning:\n",
      "\n",
      "Boolean Series key will be reindexed to match DataFrame index.\n",
      "\n",
      "/var/folders/1w/m6bndrfn3h96xky2vx7hh40r0000gn/T/ipykernel_47556/2539225705.py:68: UserWarning:\n",
      "\n",
      "Boolean Series key will be reindexed to match DataFrame index.\n",
      "\n",
      "/var/folders/1w/m6bndrfn3h96xky2vx7hh40r0000gn/T/ipykernel_47556/2539225705.py:68: UserWarning:\n",
      "\n",
      "Boolean Series key will be reindexed to match DataFrame index.\n",
      "\n",
      "/var/folders/1w/m6bndrfn3h96xky2vx7hh40r0000gn/T/ipykernel_47556/2539225705.py:68: UserWarning:\n",
      "\n",
      "Boolean Series key will be reindexed to match DataFrame index.\n",
      "\n",
      "/var/folders/1w/m6bndrfn3h96xky2vx7hh40r0000gn/T/ipykernel_47556/2539225705.py:68: UserWarning:\n",
      "\n",
      "Boolean Series key will be reindexed to match DataFrame index.\n",
      "\n",
      "/var/folders/1w/m6bndrfn3h96xky2vx7hh40r0000gn/T/ipykernel_47556/2539225705.py:68: UserWarning:\n",
      "\n",
      "Boolean Series key will be reindexed to match DataFrame index.\n",
      "\n",
      "/var/folders/1w/m6bndrfn3h96xky2vx7hh40r0000gn/T/ipykernel_47556/2539225705.py:68: UserWarning:\n",
      "\n",
      "Boolean Series key will be reindexed to match DataFrame index.\n",
      "\n",
      "/var/folders/1w/m6bndrfn3h96xky2vx7hh40r0000gn/T/ipykernel_47556/2539225705.py:68: UserWarning:\n",
      "\n",
      "Boolean Series key will be reindexed to match DataFrame index.\n",
      "\n",
      "/var/folders/1w/m6bndrfn3h96xky2vx7hh40r0000gn/T/ipykernel_47556/2539225705.py:68: UserWarning:\n",
      "\n",
      "Boolean Series key will be reindexed to match DataFrame index.\n",
      "\n",
      "/var/folders/1w/m6bndrfn3h96xky2vx7hh40r0000gn/T/ipykernel_47556/2539225705.py:68: UserWarning:\n",
      "\n",
      "Boolean Series key will be reindexed to match DataFrame index.\n",
      "\n",
      "/var/folders/1w/m6bndrfn3h96xky2vx7hh40r0000gn/T/ipykernel_47556/2539225705.py:68: UserWarning:\n",
      "\n",
      "Boolean Series key will be reindexed to match DataFrame index.\n",
      "\n",
      "/var/folders/1w/m6bndrfn3h96xky2vx7hh40r0000gn/T/ipykernel_47556/2539225705.py:68: UserWarning:\n",
      "\n",
      "Boolean Series key will be reindexed to match DataFrame index.\n",
      "\n",
      "/var/folders/1w/m6bndrfn3h96xky2vx7hh40r0000gn/T/ipykernel_47556/2539225705.py:68: UserWarning:\n",
      "\n",
      "Boolean Series key will be reindexed to match DataFrame index.\n",
      "\n",
      "/var/folders/1w/m6bndrfn3h96xky2vx7hh40r0000gn/T/ipykernel_47556/2539225705.py:68: UserWarning:\n",
      "\n",
      "Boolean Series key will be reindexed to match DataFrame index.\n",
      "\n",
      "/var/folders/1w/m6bndrfn3h96xky2vx7hh40r0000gn/T/ipykernel_47556/2539225705.py:68: UserWarning:\n",
      "\n",
      "Boolean Series key will be reindexed to match DataFrame index.\n",
      "\n",
      "/var/folders/1w/m6bndrfn3h96xky2vx7hh40r0000gn/T/ipykernel_47556/2539225705.py:68: UserWarning:\n",
      "\n",
      "Boolean Series key will be reindexed to match DataFrame index.\n",
      "\n",
      "/var/folders/1w/m6bndrfn3h96xky2vx7hh40r0000gn/T/ipykernel_47556/2539225705.py:68: UserWarning:\n",
      "\n",
      "Boolean Series key will be reindexed to match DataFrame index.\n",
      "\n",
      "/var/folders/1w/m6bndrfn3h96xky2vx7hh40r0000gn/T/ipykernel_47556/2539225705.py:68: UserWarning:\n",
      "\n",
      "Boolean Series key will be reindexed to match DataFrame index.\n",
      "\n",
      "/var/folders/1w/m6bndrfn3h96xky2vx7hh40r0000gn/T/ipykernel_47556/2539225705.py:68: UserWarning:\n",
      "\n",
      "Boolean Series key will be reindexed to match DataFrame index.\n",
      "\n",
      "/var/folders/1w/m6bndrfn3h96xky2vx7hh40r0000gn/T/ipykernel_47556/2539225705.py:68: UserWarning:\n",
      "\n",
      "Boolean Series key will be reindexed to match DataFrame index.\n",
      "\n",
      "/var/folders/1w/m6bndrfn3h96xky2vx7hh40r0000gn/T/ipykernel_47556/2539225705.py:68: UserWarning:\n",
      "\n",
      "Boolean Series key will be reindexed to match DataFrame index.\n",
      "\n",
      "/var/folders/1w/m6bndrfn3h96xky2vx7hh40r0000gn/T/ipykernel_47556/2539225705.py:68: UserWarning:\n",
      "\n",
      "Boolean Series key will be reindexed to match DataFrame index.\n",
      "\n",
      "/var/folders/1w/m6bndrfn3h96xky2vx7hh40r0000gn/T/ipykernel_47556/2539225705.py:68: UserWarning:\n",
      "\n",
      "Boolean Series key will be reindexed to match DataFrame index.\n",
      "\n",
      "/var/folders/1w/m6bndrfn3h96xky2vx7hh40r0000gn/T/ipykernel_47556/2539225705.py:68: UserWarning:\n",
      "\n",
      "Boolean Series key will be reindexed to match DataFrame index.\n",
      "\n",
      "/var/folders/1w/m6bndrfn3h96xky2vx7hh40r0000gn/T/ipykernel_47556/2539225705.py:68: UserWarning:\n",
      "\n",
      "Boolean Series key will be reindexed to match DataFrame index.\n",
      "\n",
      "/var/folders/1w/m6bndrfn3h96xky2vx7hh40r0000gn/T/ipykernel_47556/2539225705.py:68: UserWarning:\n",
      "\n",
      "Boolean Series key will be reindexed to match DataFrame index.\n",
      "\n",
      "/var/folders/1w/m6bndrfn3h96xky2vx7hh40r0000gn/T/ipykernel_47556/2539225705.py:68: UserWarning:\n",
      "\n",
      "Boolean Series key will be reindexed to match DataFrame index.\n",
      "\n",
      "/var/folders/1w/m6bndrfn3h96xky2vx7hh40r0000gn/T/ipykernel_47556/2539225705.py:68: UserWarning:\n",
      "\n",
      "Boolean Series key will be reindexed to match DataFrame index.\n",
      "\n",
      "/var/folders/1w/m6bndrfn3h96xky2vx7hh40r0000gn/T/ipykernel_47556/2539225705.py:68: UserWarning:\n",
      "\n",
      "Boolean Series key will be reindexed to match DataFrame index.\n",
      "\n",
      "/var/folders/1w/m6bndrfn3h96xky2vx7hh40r0000gn/T/ipykernel_47556/2539225705.py:68: UserWarning:\n",
      "\n",
      "Boolean Series key will be reindexed to match DataFrame index.\n",
      "\n",
      "/var/folders/1w/m6bndrfn3h96xky2vx7hh40r0000gn/T/ipykernel_47556/2539225705.py:68: UserWarning:\n",
      "\n",
      "Boolean Series key will be reindexed to match DataFrame index.\n",
      "\n",
      "/var/folders/1w/m6bndrfn3h96xky2vx7hh40r0000gn/T/ipykernel_47556/2539225705.py:68: UserWarning:\n",
      "\n",
      "Boolean Series key will be reindexed to match DataFrame index.\n",
      "\n",
      "/var/folders/1w/m6bndrfn3h96xky2vx7hh40r0000gn/T/ipykernel_47556/2539225705.py:68: UserWarning:\n",
      "\n",
      "Boolean Series key will be reindexed to match DataFrame index.\n",
      "\n",
      "/var/folders/1w/m6bndrfn3h96xky2vx7hh40r0000gn/T/ipykernel_47556/2539225705.py:68: UserWarning:\n",
      "\n",
      "Boolean Series key will be reindexed to match DataFrame index.\n",
      "\n",
      "/var/folders/1w/m6bndrfn3h96xky2vx7hh40r0000gn/T/ipykernel_47556/2539225705.py:68: UserWarning:\n",
      "\n",
      "Boolean Series key will be reindexed to match DataFrame index.\n",
      "\n",
      "/var/folders/1w/m6bndrfn3h96xky2vx7hh40r0000gn/T/ipykernel_47556/2539225705.py:68: UserWarning:\n",
      "\n",
      "Boolean Series key will be reindexed to match DataFrame index.\n",
      "\n",
      "/var/folders/1w/m6bndrfn3h96xky2vx7hh40r0000gn/T/ipykernel_47556/2539225705.py:68: UserWarning:\n",
      "\n",
      "Boolean Series key will be reindexed to match DataFrame index.\n",
      "\n",
      "/var/folders/1w/m6bndrfn3h96xky2vx7hh40r0000gn/T/ipykernel_47556/2539225705.py:68: UserWarning:\n",
      "\n",
      "Boolean Series key will be reindexed to match DataFrame index.\n",
      "\n",
      "/var/folders/1w/m6bndrfn3h96xky2vx7hh40r0000gn/T/ipykernel_47556/2539225705.py:68: UserWarning:\n",
      "\n",
      "Boolean Series key will be reindexed to match DataFrame index.\n",
      "\n",
      "/var/folders/1w/m6bndrfn3h96xky2vx7hh40r0000gn/T/ipykernel_47556/2539225705.py:68: UserWarning:\n",
      "\n",
      "Boolean Series key will be reindexed to match DataFrame index.\n",
      "\n",
      "/var/folders/1w/m6bndrfn3h96xky2vx7hh40r0000gn/T/ipykernel_47556/2539225705.py:68: UserWarning:\n",
      "\n",
      "Boolean Series key will be reindexed to match DataFrame index.\n",
      "\n",
      "/var/folders/1w/m6bndrfn3h96xky2vx7hh40r0000gn/T/ipykernel_47556/2539225705.py:68: UserWarning:\n",
      "\n",
      "Boolean Series key will be reindexed to match DataFrame index.\n",
      "\n",
      "/var/folders/1w/m6bndrfn3h96xky2vx7hh40r0000gn/T/ipykernel_47556/2539225705.py:68: UserWarning:\n",
      "\n",
      "Boolean Series key will be reindexed to match DataFrame index.\n",
      "\n",
      "/var/folders/1w/m6bndrfn3h96xky2vx7hh40r0000gn/T/ipykernel_47556/2539225705.py:68: UserWarning:\n",
      "\n",
      "Boolean Series key will be reindexed to match DataFrame index.\n",
      "\n",
      "/var/folders/1w/m6bndrfn3h96xky2vx7hh40r0000gn/T/ipykernel_47556/2539225705.py:68: UserWarning:\n",
      "\n",
      "Boolean Series key will be reindexed to match DataFrame index.\n",
      "\n"
     ]
    },
    {
     "data": {
      "application/vnd.plotly.v1+json": {
       "config": {
        "plotlyServerURL": "https://plot.ly"
       },
       "data": [
        {
         "hovertemplate": "Industry=Restaurant<br>Month=%{x}<br>Number of Complaints=%{y}<extra></extra>",
         "legendgroup": "Restaurant",
         "line": {
          "color": "#636efa",
          "dash": "solid"
         },
         "marker": {
          "symbol": "circle"
         },
         "mode": "lines+markers",
         "name": "Restaurant",
         "orientation": "v",
         "showlegend": true,
         "type": "scatter",
         "x": [
          "2022-09",
          "2023-03",
          "2023-04",
          "2023-05",
          "2023-06",
          "2023-07",
          "2023-08",
          "2023-09",
          "2023-10",
          "2023-11",
          "2023-12"
         ],
         "xaxis": "x",
         "y": {
          "bdata": "AwEdHR5+allXXTw=",
          "dtype": "i1"
         },
         "yaxis": "y"
        },
        {
         "hovertemplate": "Industry=Home Improvement Contractor<br>Month=%{x}<br>Number of Complaints=%{y}<extra></extra>",
         "legendgroup": "Home Improvement Contractor",
         "line": {
          "color": "#EF553B",
          "dash": "solid"
         },
         "marker": {
          "symbol": "circle"
         },
         "mode": "lines+markers",
         "name": "Home Improvement Contractor",
         "orientation": "v",
         "showlegend": true,
         "type": "scatter",
         "x": [
          "2023-03",
          "2023-04",
          "2023-05",
          "2023-06",
          "2023-07",
          "2023-08",
          "2023-09",
          "2023-10",
          "2023-11",
          "2023-12"
         ],
         "xaxis": "x",
         "y": {
          "bdata": "AQAOACsALwA2AHIAiACtAKAAnAA=",
          "dtype": "i2"
         },
         "yaxis": "y"
        },
        {
         "hovertemplate": "Industry=Misc Non-Food Retail<br>Month=%{x}<br>Number of Complaints=%{y}<extra></extra>",
         "legendgroup": "Misc Non-Food Retail",
         "line": {
          "color": "#00cc96",
          "dash": "solid"
         },
         "marker": {
          "symbol": "circle"
         },
         "mode": "lines+markers",
         "name": "Misc Non-Food Retail",
         "orientation": "v",
         "showlegend": true,
         "type": "scatter",
         "x": [
          "2023-03",
          "2023-04",
          "2023-05",
          "2023-06",
          "2023-07",
          "2023-08",
          "2023-09",
          "2023-10",
          "2023-11",
          "2023-12"
         ],
         "xaxis": "x",
         "y": {
          "bdata": "AQArAB0AIgCAAJMBXwFRAXYB2QA=",
          "dtype": "i2"
         },
         "yaxis": "y"
        },
        {
         "hovertemplate": "Industry=Tow Truck Company<br>Month=%{x}<br>Number of Complaints=%{y}<extra></extra>",
         "legendgroup": "Tow Truck Company",
         "line": {
          "color": "#ab63fa",
          "dash": "solid"
         },
         "marker": {
          "symbol": "circle"
         },
         "mode": "lines+markers",
         "name": "Tow Truck Company",
         "orientation": "v",
         "showlegend": true,
         "type": "scatter",
         "x": [
          "2023-04",
          "2023-05",
          "2023-06",
          "2023-07",
          "2023-08",
          "2023-09",
          "2023-10",
          "2023-11",
          "2023-12"
         ],
         "xaxis": "x",
         "y": {
          "bdata": "NgBHAFAAXwB4AIAAbQBmAIQA",
          "dtype": "i2"
         },
         "yaxis": "y"
        },
        {
         "hovertemplate": "Industry=Unknown<br>Month=%{x}<br>Number of Complaints=%{y}<extra></extra>",
         "legendgroup": "Unknown",
         "line": {
          "color": "#FFA15A",
          "dash": "solid"
         },
         "marker": {
          "symbol": "circle"
         },
         "mode": "lines+markers",
         "name": "Unknown",
         "orientation": "v",
         "showlegend": true,
         "type": "scatter",
         "x": [
          "2023-06",
          "2023-07",
          "2023-08",
          "2023-09",
          "2023-10",
          "2023-11",
          "2023-12"
         ],
         "xaxis": "x",
         "y": {
          "bdata": "AQAdArMAoADfAKIAOAA=",
          "dtype": "i2"
         },
         "yaxis": "y"
        }
       ],
       "frames": [
        {
         "data": [
          {
           "mode": "lines+markers",
           "name": "Misc Non-Food Retail",
           "type": "scatter",
           "x": [
            "2022-09"
           ],
           "y": []
          },
          {
           "mode": "lines+markers",
           "name": "Unknown",
           "type": "scatter",
           "x": [
            "2022-09"
           ],
           "y": []
          },
          {
           "mode": "lines+markers",
           "name": "Home Improvement Contractor",
           "type": "scatter",
           "x": [
            "2022-09"
           ],
           "y": []
          },
          {
           "mode": "lines+markers",
           "name": "Tow Truck Company",
           "type": "scatter",
           "x": [
            "2022-09"
           ],
           "y": []
          },
          {
           "mode": "lines+markers",
           "name": "Restaurant",
           "type": "scatter",
           "x": [
            "2022-09"
           ],
           "y": {
            "bdata": "Aw==",
            "dtype": "i1"
           }
          }
         ],
         "name": "2022-09"
        },
        {
         "data": [
          {
           "mode": "lines+markers",
           "name": "Misc Non-Food Retail",
           "type": "scatter",
           "x": [
            "2022-09",
            "2023-03",
            "2023-03",
            "2023-03"
           ],
           "y": {
            "bdata": "AQ==",
            "dtype": "i1"
           }
          },
          {
           "mode": "lines+markers",
           "name": "Unknown",
           "type": "scatter",
           "x": [
            "2022-09",
            "2023-03",
            "2023-03",
            "2023-03"
           ],
           "y": []
          },
          {
           "mode": "lines+markers",
           "name": "Home Improvement Contractor",
           "type": "scatter",
           "x": [
            "2022-09",
            "2023-03",
            "2023-03",
            "2023-03"
           ],
           "y": {
            "bdata": "AQ==",
            "dtype": "i1"
           }
          },
          {
           "mode": "lines+markers",
           "name": "Tow Truck Company",
           "type": "scatter",
           "x": [
            "2022-09",
            "2023-03",
            "2023-03",
            "2023-03"
           ],
           "y": []
          },
          {
           "mode": "lines+markers",
           "name": "Restaurant",
           "type": "scatter",
           "x": [
            "2022-09",
            "2023-03",
            "2023-03",
            "2023-03"
           ],
           "y": {
            "bdata": "AwE=",
            "dtype": "i1"
           }
          }
         ],
         "name": "2023-03"
        },
        {
         "data": [
          {
           "mode": "lines+markers",
           "name": "Misc Non-Food Retail",
           "type": "scatter",
           "x": [
            "2022-09",
            "2023-03",
            "2023-03",
            "2023-03",
            "2023-04",
            "2023-04",
            "2023-04",
            "2023-04"
           ],
           "y": {
            "bdata": "ASs=",
            "dtype": "i1"
           }
          },
          {
           "mode": "lines+markers",
           "name": "Unknown",
           "type": "scatter",
           "x": [
            "2022-09",
            "2023-03",
            "2023-03",
            "2023-03",
            "2023-04",
            "2023-04",
            "2023-04",
            "2023-04"
           ],
           "y": []
          },
          {
           "mode": "lines+markers",
           "name": "Home Improvement Contractor",
           "type": "scatter",
           "x": [
            "2022-09",
            "2023-03",
            "2023-03",
            "2023-03",
            "2023-04",
            "2023-04",
            "2023-04",
            "2023-04"
           ],
           "y": {
            "bdata": "AQ4=",
            "dtype": "i1"
           }
          },
          {
           "mode": "lines+markers",
           "name": "Tow Truck Company",
           "type": "scatter",
           "x": [
            "2022-09",
            "2023-03",
            "2023-03",
            "2023-03",
            "2023-04",
            "2023-04",
            "2023-04",
            "2023-04"
           ],
           "y": {
            "bdata": "Ng==",
            "dtype": "i1"
           }
          },
          {
           "mode": "lines+markers",
           "name": "Restaurant",
           "type": "scatter",
           "x": [
            "2022-09",
            "2023-03",
            "2023-03",
            "2023-03",
            "2023-04",
            "2023-04",
            "2023-04",
            "2023-04"
           ],
           "y": {
            "bdata": "AwEd",
            "dtype": "i1"
           }
          }
         ],
         "name": "2023-04"
        },
        {
         "data": [
          {
           "mode": "lines+markers",
           "name": "Misc Non-Food Retail",
           "type": "scatter",
           "x": [
            "2022-09",
            "2023-03",
            "2023-03",
            "2023-03",
            "2023-04",
            "2023-04",
            "2023-04",
            "2023-04",
            "2023-05",
            "2023-05",
            "2023-05",
            "2023-05"
           ],
           "y": {
            "bdata": "ASsd",
            "dtype": "i1"
           }
          },
          {
           "mode": "lines+markers",
           "name": "Unknown",
           "type": "scatter",
           "x": [
            "2022-09",
            "2023-03",
            "2023-03",
            "2023-03",
            "2023-04",
            "2023-04",
            "2023-04",
            "2023-04",
            "2023-05",
            "2023-05",
            "2023-05",
            "2023-05"
           ],
           "y": []
          },
          {
           "mode": "lines+markers",
           "name": "Home Improvement Contractor",
           "type": "scatter",
           "x": [
            "2022-09",
            "2023-03",
            "2023-03",
            "2023-03",
            "2023-04",
            "2023-04",
            "2023-04",
            "2023-04",
            "2023-05",
            "2023-05",
            "2023-05",
            "2023-05"
           ],
           "y": {
            "bdata": "AQ4r",
            "dtype": "i1"
           }
          },
          {
           "mode": "lines+markers",
           "name": "Tow Truck Company",
           "type": "scatter",
           "x": [
            "2022-09",
            "2023-03",
            "2023-03",
            "2023-03",
            "2023-04",
            "2023-04",
            "2023-04",
            "2023-04",
            "2023-05",
            "2023-05",
            "2023-05",
            "2023-05"
           ],
           "y": {
            "bdata": "Nkc=",
            "dtype": "i1"
           }
          },
          {
           "mode": "lines+markers",
           "name": "Restaurant",
           "type": "scatter",
           "x": [
            "2022-09",
            "2023-03",
            "2023-03",
            "2023-03",
            "2023-04",
            "2023-04",
            "2023-04",
            "2023-04",
            "2023-05",
            "2023-05",
            "2023-05",
            "2023-05"
           ],
           "y": {
            "bdata": "AwEdHQ==",
            "dtype": "i1"
           }
          }
         ],
         "name": "2023-05"
        },
        {
         "data": [
          {
           "mode": "lines+markers",
           "name": "Misc Non-Food Retail",
           "type": "scatter",
           "x": [
            "2022-09",
            "2023-03",
            "2023-03",
            "2023-03",
            "2023-04",
            "2023-04",
            "2023-04",
            "2023-04",
            "2023-05",
            "2023-05",
            "2023-05",
            "2023-05",
            "2023-06",
            "2023-06",
            "2023-06",
            "2023-06",
            "2023-06"
           ],
           "y": {
            "bdata": "ASsdIg==",
            "dtype": "i1"
           }
          },
          {
           "mode": "lines+markers",
           "name": "Unknown",
           "type": "scatter",
           "x": [
            "2022-09",
            "2023-03",
            "2023-03",
            "2023-03",
            "2023-04",
            "2023-04",
            "2023-04",
            "2023-04",
            "2023-05",
            "2023-05",
            "2023-05",
            "2023-05",
            "2023-06",
            "2023-06",
            "2023-06",
            "2023-06",
            "2023-06"
           ],
           "y": {
            "bdata": "AQ==",
            "dtype": "i1"
           }
          },
          {
           "mode": "lines+markers",
           "name": "Home Improvement Contractor",
           "type": "scatter",
           "x": [
            "2022-09",
            "2023-03",
            "2023-03",
            "2023-03",
            "2023-04",
            "2023-04",
            "2023-04",
            "2023-04",
            "2023-05",
            "2023-05",
            "2023-05",
            "2023-05",
            "2023-06",
            "2023-06",
            "2023-06",
            "2023-06",
            "2023-06"
           ],
           "y": {
            "bdata": "AQ4rLw==",
            "dtype": "i1"
           }
          },
          {
           "mode": "lines+markers",
           "name": "Tow Truck Company",
           "type": "scatter",
           "x": [
            "2022-09",
            "2023-03",
            "2023-03",
            "2023-03",
            "2023-04",
            "2023-04",
            "2023-04",
            "2023-04",
            "2023-05",
            "2023-05",
            "2023-05",
            "2023-05",
            "2023-06",
            "2023-06",
            "2023-06",
            "2023-06",
            "2023-06"
           ],
           "y": {
            "bdata": "NkdQ",
            "dtype": "i1"
           }
          },
          {
           "mode": "lines+markers",
           "name": "Restaurant",
           "type": "scatter",
           "x": [
            "2022-09",
            "2023-03",
            "2023-03",
            "2023-03",
            "2023-04",
            "2023-04",
            "2023-04",
            "2023-04",
            "2023-05",
            "2023-05",
            "2023-05",
            "2023-05",
            "2023-06",
            "2023-06",
            "2023-06",
            "2023-06",
            "2023-06"
           ],
           "y": {
            "bdata": "AwEdHR4=",
            "dtype": "i1"
           }
          }
         ],
         "name": "2023-06"
        },
        {
         "data": [
          {
           "mode": "lines+markers",
           "name": "Misc Non-Food Retail",
           "type": "scatter",
           "x": [
            "2022-09",
            "2023-03",
            "2023-03",
            "2023-03",
            "2023-04",
            "2023-04",
            "2023-04",
            "2023-04",
            "2023-05",
            "2023-05",
            "2023-05",
            "2023-05",
            "2023-06",
            "2023-06",
            "2023-06",
            "2023-06",
            "2023-06",
            "2023-07",
            "2023-07",
            "2023-07",
            "2023-07",
            "2023-07"
           ],
           "y": {
            "bdata": "AQArAB0AIgCAAA==",
            "dtype": "i2"
           }
          },
          {
           "mode": "lines+markers",
           "name": "Unknown",
           "type": "scatter",
           "x": [
            "2022-09",
            "2023-03",
            "2023-03",
            "2023-03",
            "2023-04",
            "2023-04",
            "2023-04",
            "2023-04",
            "2023-05",
            "2023-05",
            "2023-05",
            "2023-05",
            "2023-06",
            "2023-06",
            "2023-06",
            "2023-06",
            "2023-06",
            "2023-07",
            "2023-07",
            "2023-07",
            "2023-07",
            "2023-07"
           ],
           "y": {
            "bdata": "AQAdAg==",
            "dtype": "i2"
           }
          },
          {
           "mode": "lines+markers",
           "name": "Home Improvement Contractor",
           "type": "scatter",
           "x": [
            "2022-09",
            "2023-03",
            "2023-03",
            "2023-03",
            "2023-04",
            "2023-04",
            "2023-04",
            "2023-04",
            "2023-05",
            "2023-05",
            "2023-05",
            "2023-05",
            "2023-06",
            "2023-06",
            "2023-06",
            "2023-06",
            "2023-06",
            "2023-07",
            "2023-07",
            "2023-07",
            "2023-07",
            "2023-07"
           ],
           "y": {
            "bdata": "AQ4rLzY=",
            "dtype": "i1"
           }
          },
          {
           "mode": "lines+markers",
           "name": "Tow Truck Company",
           "type": "scatter",
           "x": [
            "2022-09",
            "2023-03",
            "2023-03",
            "2023-03",
            "2023-04",
            "2023-04",
            "2023-04",
            "2023-04",
            "2023-05",
            "2023-05",
            "2023-05",
            "2023-05",
            "2023-06",
            "2023-06",
            "2023-06",
            "2023-06",
            "2023-06",
            "2023-07",
            "2023-07",
            "2023-07",
            "2023-07",
            "2023-07"
           ],
           "y": {
            "bdata": "NkdQXw==",
            "dtype": "i1"
           }
          },
          {
           "mode": "lines+markers",
           "name": "Restaurant",
           "type": "scatter",
           "x": [
            "2022-09",
            "2023-03",
            "2023-03",
            "2023-03",
            "2023-04",
            "2023-04",
            "2023-04",
            "2023-04",
            "2023-05",
            "2023-05",
            "2023-05",
            "2023-05",
            "2023-06",
            "2023-06",
            "2023-06",
            "2023-06",
            "2023-06",
            "2023-07",
            "2023-07",
            "2023-07",
            "2023-07",
            "2023-07"
           ],
           "y": {
            "bdata": "AwEdHR5+",
            "dtype": "i1"
           }
          }
         ],
         "name": "2023-07"
        },
        {
         "data": [
          {
           "mode": "lines+markers",
           "name": "Misc Non-Food Retail",
           "type": "scatter",
           "x": [
            "2022-09",
            "2023-03",
            "2023-03",
            "2023-03",
            "2023-04",
            "2023-04",
            "2023-04",
            "2023-04",
            "2023-05",
            "2023-05",
            "2023-05",
            "2023-05",
            "2023-06",
            "2023-06",
            "2023-06",
            "2023-06",
            "2023-06",
            "2023-07",
            "2023-07",
            "2023-07",
            "2023-07",
            "2023-07",
            "2023-08",
            "2023-08",
            "2023-08",
            "2023-08",
            "2023-08"
           ],
           "y": {
            "bdata": "AQArAB0AIgCAAJMB",
            "dtype": "i2"
           }
          },
          {
           "mode": "lines+markers",
           "name": "Unknown",
           "type": "scatter",
           "x": [
            "2022-09",
            "2023-03",
            "2023-03",
            "2023-03",
            "2023-04",
            "2023-04",
            "2023-04",
            "2023-04",
            "2023-05",
            "2023-05",
            "2023-05",
            "2023-05",
            "2023-06",
            "2023-06",
            "2023-06",
            "2023-06",
            "2023-06",
            "2023-07",
            "2023-07",
            "2023-07",
            "2023-07",
            "2023-07",
            "2023-08",
            "2023-08",
            "2023-08",
            "2023-08",
            "2023-08"
           ],
           "y": {
            "bdata": "AQAdArMA",
            "dtype": "i2"
           }
          },
          {
           "mode": "lines+markers",
           "name": "Home Improvement Contractor",
           "type": "scatter",
           "x": [
            "2022-09",
            "2023-03",
            "2023-03",
            "2023-03",
            "2023-04",
            "2023-04",
            "2023-04",
            "2023-04",
            "2023-05",
            "2023-05",
            "2023-05",
            "2023-05",
            "2023-06",
            "2023-06",
            "2023-06",
            "2023-06",
            "2023-06",
            "2023-07",
            "2023-07",
            "2023-07",
            "2023-07",
            "2023-07",
            "2023-08",
            "2023-08",
            "2023-08",
            "2023-08",
            "2023-08"
           ],
           "y": {
            "bdata": "AQ4rLzZy",
            "dtype": "i1"
           }
          },
          {
           "mode": "lines+markers",
           "name": "Tow Truck Company",
           "type": "scatter",
           "x": [
            "2022-09",
            "2023-03",
            "2023-03",
            "2023-03",
            "2023-04",
            "2023-04",
            "2023-04",
            "2023-04",
            "2023-05",
            "2023-05",
            "2023-05",
            "2023-05",
            "2023-06",
            "2023-06",
            "2023-06",
            "2023-06",
            "2023-06",
            "2023-07",
            "2023-07",
            "2023-07",
            "2023-07",
            "2023-07",
            "2023-08",
            "2023-08",
            "2023-08",
            "2023-08",
            "2023-08"
           ],
           "y": {
            "bdata": "NkdQX3g=",
            "dtype": "i1"
           }
          },
          {
           "mode": "lines+markers",
           "name": "Restaurant",
           "type": "scatter",
           "x": [
            "2022-09",
            "2023-03",
            "2023-03",
            "2023-03",
            "2023-04",
            "2023-04",
            "2023-04",
            "2023-04",
            "2023-05",
            "2023-05",
            "2023-05",
            "2023-05",
            "2023-06",
            "2023-06",
            "2023-06",
            "2023-06",
            "2023-06",
            "2023-07",
            "2023-07",
            "2023-07",
            "2023-07",
            "2023-07",
            "2023-08",
            "2023-08",
            "2023-08",
            "2023-08",
            "2023-08"
           ],
           "y": {
            "bdata": "AwEdHR5+ag==",
            "dtype": "i1"
           }
          }
         ],
         "name": "2023-08"
        },
        {
         "data": [
          {
           "mode": "lines+markers",
           "name": "Misc Non-Food Retail",
           "type": "scatter",
           "x": [
            "2022-09",
            "2023-03",
            "2023-03",
            "2023-03",
            "2023-04",
            "2023-04",
            "2023-04",
            "2023-04",
            "2023-05",
            "2023-05",
            "2023-05",
            "2023-05",
            "2023-06",
            "2023-06",
            "2023-06",
            "2023-06",
            "2023-06",
            "2023-07",
            "2023-07",
            "2023-07",
            "2023-07",
            "2023-07",
            "2023-08",
            "2023-08",
            "2023-08",
            "2023-08",
            "2023-08",
            "2023-09",
            "2023-09",
            "2023-09",
            "2023-09",
            "2023-09"
           ],
           "y": {
            "bdata": "AQArAB0AIgCAAJMBXwE=",
            "dtype": "i2"
           }
          },
          {
           "mode": "lines+markers",
           "name": "Unknown",
           "type": "scatter",
           "x": [
            "2022-09",
            "2023-03",
            "2023-03",
            "2023-03",
            "2023-04",
            "2023-04",
            "2023-04",
            "2023-04",
            "2023-05",
            "2023-05",
            "2023-05",
            "2023-05",
            "2023-06",
            "2023-06",
            "2023-06",
            "2023-06",
            "2023-06",
            "2023-07",
            "2023-07",
            "2023-07",
            "2023-07",
            "2023-07",
            "2023-08",
            "2023-08",
            "2023-08",
            "2023-08",
            "2023-08",
            "2023-09",
            "2023-09",
            "2023-09",
            "2023-09",
            "2023-09"
           ],
           "y": {
            "bdata": "AQAdArMAoAA=",
            "dtype": "i2"
           }
          },
          {
           "mode": "lines+markers",
           "name": "Home Improvement Contractor",
           "type": "scatter",
           "x": [
            "2022-09",
            "2023-03",
            "2023-03",
            "2023-03",
            "2023-04",
            "2023-04",
            "2023-04",
            "2023-04",
            "2023-05",
            "2023-05",
            "2023-05",
            "2023-05",
            "2023-06",
            "2023-06",
            "2023-06",
            "2023-06",
            "2023-06",
            "2023-07",
            "2023-07",
            "2023-07",
            "2023-07",
            "2023-07",
            "2023-08",
            "2023-08",
            "2023-08",
            "2023-08",
            "2023-08",
            "2023-09",
            "2023-09",
            "2023-09",
            "2023-09",
            "2023-09"
           ],
           "y": {
            "bdata": "AQAOACsALwA2AHIAiAA=",
            "dtype": "i2"
           }
          },
          {
           "mode": "lines+markers",
           "name": "Tow Truck Company",
           "type": "scatter",
           "x": [
            "2022-09",
            "2023-03",
            "2023-03",
            "2023-03",
            "2023-04",
            "2023-04",
            "2023-04",
            "2023-04",
            "2023-05",
            "2023-05",
            "2023-05",
            "2023-05",
            "2023-06",
            "2023-06",
            "2023-06",
            "2023-06",
            "2023-06",
            "2023-07",
            "2023-07",
            "2023-07",
            "2023-07",
            "2023-07",
            "2023-08",
            "2023-08",
            "2023-08",
            "2023-08",
            "2023-08",
            "2023-09",
            "2023-09",
            "2023-09",
            "2023-09",
            "2023-09"
           ],
           "y": {
            "bdata": "NgBHAFAAXwB4AIAA",
            "dtype": "i2"
           }
          },
          {
           "mode": "lines+markers",
           "name": "Restaurant",
           "type": "scatter",
           "x": [
            "2022-09",
            "2023-03",
            "2023-03",
            "2023-03",
            "2023-04",
            "2023-04",
            "2023-04",
            "2023-04",
            "2023-05",
            "2023-05",
            "2023-05",
            "2023-05",
            "2023-06",
            "2023-06",
            "2023-06",
            "2023-06",
            "2023-06",
            "2023-07",
            "2023-07",
            "2023-07",
            "2023-07",
            "2023-07",
            "2023-08",
            "2023-08",
            "2023-08",
            "2023-08",
            "2023-08",
            "2023-09",
            "2023-09",
            "2023-09",
            "2023-09",
            "2023-09"
           ],
           "y": {
            "bdata": "AwEdHR5+alk=",
            "dtype": "i1"
           }
          }
         ],
         "name": "2023-09"
        },
        {
         "data": [
          {
           "mode": "lines+markers",
           "name": "Misc Non-Food Retail",
           "type": "scatter",
           "x": [
            "2022-09",
            "2023-03",
            "2023-03",
            "2023-03",
            "2023-04",
            "2023-04",
            "2023-04",
            "2023-04",
            "2023-05",
            "2023-05",
            "2023-05",
            "2023-05",
            "2023-06",
            "2023-06",
            "2023-06",
            "2023-06",
            "2023-06",
            "2023-07",
            "2023-07",
            "2023-07",
            "2023-07",
            "2023-07",
            "2023-08",
            "2023-08",
            "2023-08",
            "2023-08",
            "2023-08",
            "2023-09",
            "2023-09",
            "2023-09",
            "2023-09",
            "2023-09",
            "2023-10",
            "2023-10",
            "2023-10",
            "2023-10",
            "2023-10"
           ],
           "y": {
            "bdata": "AQArAB0AIgCAAJMBXwFRAQ==",
            "dtype": "i2"
           }
          },
          {
           "mode": "lines+markers",
           "name": "Unknown",
           "type": "scatter",
           "x": [
            "2022-09",
            "2023-03",
            "2023-03",
            "2023-03",
            "2023-04",
            "2023-04",
            "2023-04",
            "2023-04",
            "2023-05",
            "2023-05",
            "2023-05",
            "2023-05",
            "2023-06",
            "2023-06",
            "2023-06",
            "2023-06",
            "2023-06",
            "2023-07",
            "2023-07",
            "2023-07",
            "2023-07",
            "2023-07",
            "2023-08",
            "2023-08",
            "2023-08",
            "2023-08",
            "2023-08",
            "2023-09",
            "2023-09",
            "2023-09",
            "2023-09",
            "2023-09",
            "2023-10",
            "2023-10",
            "2023-10",
            "2023-10",
            "2023-10"
           ],
           "y": {
            "bdata": "AQAdArMAoADfAA==",
            "dtype": "i2"
           }
          },
          {
           "mode": "lines+markers",
           "name": "Home Improvement Contractor",
           "type": "scatter",
           "x": [
            "2022-09",
            "2023-03",
            "2023-03",
            "2023-03",
            "2023-04",
            "2023-04",
            "2023-04",
            "2023-04",
            "2023-05",
            "2023-05",
            "2023-05",
            "2023-05",
            "2023-06",
            "2023-06",
            "2023-06",
            "2023-06",
            "2023-06",
            "2023-07",
            "2023-07",
            "2023-07",
            "2023-07",
            "2023-07",
            "2023-08",
            "2023-08",
            "2023-08",
            "2023-08",
            "2023-08",
            "2023-09",
            "2023-09",
            "2023-09",
            "2023-09",
            "2023-09",
            "2023-10",
            "2023-10",
            "2023-10",
            "2023-10",
            "2023-10"
           ],
           "y": {
            "bdata": "AQAOACsALwA2AHIAiACtAA==",
            "dtype": "i2"
           }
          },
          {
           "mode": "lines+markers",
           "name": "Tow Truck Company",
           "type": "scatter",
           "x": [
            "2022-09",
            "2023-03",
            "2023-03",
            "2023-03",
            "2023-04",
            "2023-04",
            "2023-04",
            "2023-04",
            "2023-05",
            "2023-05",
            "2023-05",
            "2023-05",
            "2023-06",
            "2023-06",
            "2023-06",
            "2023-06",
            "2023-06",
            "2023-07",
            "2023-07",
            "2023-07",
            "2023-07",
            "2023-07",
            "2023-08",
            "2023-08",
            "2023-08",
            "2023-08",
            "2023-08",
            "2023-09",
            "2023-09",
            "2023-09",
            "2023-09",
            "2023-09",
            "2023-10",
            "2023-10",
            "2023-10",
            "2023-10",
            "2023-10"
           ],
           "y": {
            "bdata": "NgBHAFAAXwB4AIAAbQA=",
            "dtype": "i2"
           }
          },
          {
           "mode": "lines+markers",
           "name": "Restaurant",
           "type": "scatter",
           "x": [
            "2022-09",
            "2023-03",
            "2023-03",
            "2023-03",
            "2023-04",
            "2023-04",
            "2023-04",
            "2023-04",
            "2023-05",
            "2023-05",
            "2023-05",
            "2023-05",
            "2023-06",
            "2023-06",
            "2023-06",
            "2023-06",
            "2023-06",
            "2023-07",
            "2023-07",
            "2023-07",
            "2023-07",
            "2023-07",
            "2023-08",
            "2023-08",
            "2023-08",
            "2023-08",
            "2023-08",
            "2023-09",
            "2023-09",
            "2023-09",
            "2023-09",
            "2023-09",
            "2023-10",
            "2023-10",
            "2023-10",
            "2023-10",
            "2023-10"
           ],
           "y": {
            "bdata": "AwEdHR5+allX",
            "dtype": "i1"
           }
          }
         ],
         "name": "2023-10"
        },
        {
         "data": [
          {
           "mode": "lines+markers",
           "name": "Misc Non-Food Retail",
           "type": "scatter",
           "x": [
            "2022-09",
            "2023-03",
            "2023-03",
            "2023-03",
            "2023-04",
            "2023-04",
            "2023-04",
            "2023-04",
            "2023-05",
            "2023-05",
            "2023-05",
            "2023-05",
            "2023-06",
            "2023-06",
            "2023-06",
            "2023-06",
            "2023-06",
            "2023-07",
            "2023-07",
            "2023-07",
            "2023-07",
            "2023-07",
            "2023-08",
            "2023-08",
            "2023-08",
            "2023-08",
            "2023-08",
            "2023-09",
            "2023-09",
            "2023-09",
            "2023-09",
            "2023-09",
            "2023-10",
            "2023-10",
            "2023-10",
            "2023-10",
            "2023-10",
            "2023-11",
            "2023-11",
            "2023-11",
            "2023-11",
            "2023-11"
           ],
           "y": {
            "bdata": "AQArAB0AIgCAAJMBXwFRAXYB",
            "dtype": "i2"
           }
          },
          {
           "mode": "lines+markers",
           "name": "Unknown",
           "type": "scatter",
           "x": [
            "2022-09",
            "2023-03",
            "2023-03",
            "2023-03",
            "2023-04",
            "2023-04",
            "2023-04",
            "2023-04",
            "2023-05",
            "2023-05",
            "2023-05",
            "2023-05",
            "2023-06",
            "2023-06",
            "2023-06",
            "2023-06",
            "2023-06",
            "2023-07",
            "2023-07",
            "2023-07",
            "2023-07",
            "2023-07",
            "2023-08",
            "2023-08",
            "2023-08",
            "2023-08",
            "2023-08",
            "2023-09",
            "2023-09",
            "2023-09",
            "2023-09",
            "2023-09",
            "2023-10",
            "2023-10",
            "2023-10",
            "2023-10",
            "2023-10",
            "2023-11",
            "2023-11",
            "2023-11",
            "2023-11",
            "2023-11"
           ],
           "y": {
            "bdata": "AQAdArMAoADfAKIA",
            "dtype": "i2"
           }
          },
          {
           "mode": "lines+markers",
           "name": "Home Improvement Contractor",
           "type": "scatter",
           "x": [
            "2022-09",
            "2023-03",
            "2023-03",
            "2023-03",
            "2023-04",
            "2023-04",
            "2023-04",
            "2023-04",
            "2023-05",
            "2023-05",
            "2023-05",
            "2023-05",
            "2023-06",
            "2023-06",
            "2023-06",
            "2023-06",
            "2023-06",
            "2023-07",
            "2023-07",
            "2023-07",
            "2023-07",
            "2023-07",
            "2023-08",
            "2023-08",
            "2023-08",
            "2023-08",
            "2023-08",
            "2023-09",
            "2023-09",
            "2023-09",
            "2023-09",
            "2023-09",
            "2023-10",
            "2023-10",
            "2023-10",
            "2023-10",
            "2023-10",
            "2023-11",
            "2023-11",
            "2023-11",
            "2023-11",
            "2023-11"
           ],
           "y": {
            "bdata": "AQAOACsALwA2AHIAiACtAKAA",
            "dtype": "i2"
           }
          },
          {
           "mode": "lines+markers",
           "name": "Tow Truck Company",
           "type": "scatter",
           "x": [
            "2022-09",
            "2023-03",
            "2023-03",
            "2023-03",
            "2023-04",
            "2023-04",
            "2023-04",
            "2023-04",
            "2023-05",
            "2023-05",
            "2023-05",
            "2023-05",
            "2023-06",
            "2023-06",
            "2023-06",
            "2023-06",
            "2023-06",
            "2023-07",
            "2023-07",
            "2023-07",
            "2023-07",
            "2023-07",
            "2023-08",
            "2023-08",
            "2023-08",
            "2023-08",
            "2023-08",
            "2023-09",
            "2023-09",
            "2023-09",
            "2023-09",
            "2023-09",
            "2023-10",
            "2023-10",
            "2023-10",
            "2023-10",
            "2023-10",
            "2023-11",
            "2023-11",
            "2023-11",
            "2023-11",
            "2023-11"
           ],
           "y": {
            "bdata": "NgBHAFAAXwB4AIAAbQBmAA==",
            "dtype": "i2"
           }
          },
          {
           "mode": "lines+markers",
           "name": "Restaurant",
           "type": "scatter",
           "x": [
            "2022-09",
            "2023-03",
            "2023-03",
            "2023-03",
            "2023-04",
            "2023-04",
            "2023-04",
            "2023-04",
            "2023-05",
            "2023-05",
            "2023-05",
            "2023-05",
            "2023-06",
            "2023-06",
            "2023-06",
            "2023-06",
            "2023-06",
            "2023-07",
            "2023-07",
            "2023-07",
            "2023-07",
            "2023-07",
            "2023-08",
            "2023-08",
            "2023-08",
            "2023-08",
            "2023-08",
            "2023-09",
            "2023-09",
            "2023-09",
            "2023-09",
            "2023-09",
            "2023-10",
            "2023-10",
            "2023-10",
            "2023-10",
            "2023-10",
            "2023-11",
            "2023-11",
            "2023-11",
            "2023-11",
            "2023-11"
           ],
           "y": {
            "bdata": "AwEdHR5+allXXQ==",
            "dtype": "i1"
           }
          }
         ],
         "name": "2023-11"
        },
        {
         "data": [
          {
           "mode": "lines+markers",
           "name": "Misc Non-Food Retail",
           "type": "scatter",
           "x": [
            "2022-09",
            "2023-03",
            "2023-03",
            "2023-03",
            "2023-04",
            "2023-04",
            "2023-04",
            "2023-04",
            "2023-05",
            "2023-05",
            "2023-05",
            "2023-05",
            "2023-06",
            "2023-06",
            "2023-06",
            "2023-06",
            "2023-06",
            "2023-07",
            "2023-07",
            "2023-07",
            "2023-07",
            "2023-07",
            "2023-08",
            "2023-08",
            "2023-08",
            "2023-08",
            "2023-08",
            "2023-09",
            "2023-09",
            "2023-09",
            "2023-09",
            "2023-09",
            "2023-10",
            "2023-10",
            "2023-10",
            "2023-10",
            "2023-10",
            "2023-11",
            "2023-11",
            "2023-11",
            "2023-11",
            "2023-11",
            "2023-12",
            "2023-12",
            "2023-12",
            "2023-12",
            "2023-12"
           ],
           "y": {
            "bdata": "AQArAB0AIgCAAJMBXwFRAXYB2QA=",
            "dtype": "i2"
           }
          },
          {
           "mode": "lines+markers",
           "name": "Unknown",
           "type": "scatter",
           "x": [
            "2022-09",
            "2023-03",
            "2023-03",
            "2023-03",
            "2023-04",
            "2023-04",
            "2023-04",
            "2023-04",
            "2023-05",
            "2023-05",
            "2023-05",
            "2023-05",
            "2023-06",
            "2023-06",
            "2023-06",
            "2023-06",
            "2023-06",
            "2023-07",
            "2023-07",
            "2023-07",
            "2023-07",
            "2023-07",
            "2023-08",
            "2023-08",
            "2023-08",
            "2023-08",
            "2023-08",
            "2023-09",
            "2023-09",
            "2023-09",
            "2023-09",
            "2023-09",
            "2023-10",
            "2023-10",
            "2023-10",
            "2023-10",
            "2023-10",
            "2023-11",
            "2023-11",
            "2023-11",
            "2023-11",
            "2023-11",
            "2023-12",
            "2023-12",
            "2023-12",
            "2023-12",
            "2023-12"
           ],
           "y": {
            "bdata": "AQAdArMAoADfAKIAOAA=",
            "dtype": "i2"
           }
          },
          {
           "mode": "lines+markers",
           "name": "Home Improvement Contractor",
           "type": "scatter",
           "x": [
            "2022-09",
            "2023-03",
            "2023-03",
            "2023-03",
            "2023-04",
            "2023-04",
            "2023-04",
            "2023-04",
            "2023-05",
            "2023-05",
            "2023-05",
            "2023-05",
            "2023-06",
            "2023-06",
            "2023-06",
            "2023-06",
            "2023-06",
            "2023-07",
            "2023-07",
            "2023-07",
            "2023-07",
            "2023-07",
            "2023-08",
            "2023-08",
            "2023-08",
            "2023-08",
            "2023-08",
            "2023-09",
            "2023-09",
            "2023-09",
            "2023-09",
            "2023-09",
            "2023-10",
            "2023-10",
            "2023-10",
            "2023-10",
            "2023-10",
            "2023-11",
            "2023-11",
            "2023-11",
            "2023-11",
            "2023-11",
            "2023-12",
            "2023-12",
            "2023-12",
            "2023-12",
            "2023-12"
           ],
           "y": {
            "bdata": "AQAOACsALwA2AHIAiACtAKAAnAA=",
            "dtype": "i2"
           }
          },
          {
           "mode": "lines+markers",
           "name": "Tow Truck Company",
           "type": "scatter",
           "x": [
            "2022-09",
            "2023-03",
            "2023-03",
            "2023-03",
            "2023-04",
            "2023-04",
            "2023-04",
            "2023-04",
            "2023-05",
            "2023-05",
            "2023-05",
            "2023-05",
            "2023-06",
            "2023-06",
            "2023-06",
            "2023-06",
            "2023-06",
            "2023-07",
            "2023-07",
            "2023-07",
            "2023-07",
            "2023-07",
            "2023-08",
            "2023-08",
            "2023-08",
            "2023-08",
            "2023-08",
            "2023-09",
            "2023-09",
            "2023-09",
            "2023-09",
            "2023-09",
            "2023-10",
            "2023-10",
            "2023-10",
            "2023-10",
            "2023-10",
            "2023-11",
            "2023-11",
            "2023-11",
            "2023-11",
            "2023-11",
            "2023-12",
            "2023-12",
            "2023-12",
            "2023-12",
            "2023-12"
           ],
           "y": {
            "bdata": "NgBHAFAAXwB4AIAAbQBmAIQA",
            "dtype": "i2"
           }
          },
          {
           "mode": "lines+markers",
           "name": "Restaurant",
           "type": "scatter",
           "x": [
            "2022-09",
            "2023-03",
            "2023-03",
            "2023-03",
            "2023-04",
            "2023-04",
            "2023-04",
            "2023-04",
            "2023-05",
            "2023-05",
            "2023-05",
            "2023-05",
            "2023-06",
            "2023-06",
            "2023-06",
            "2023-06",
            "2023-06",
            "2023-07",
            "2023-07",
            "2023-07",
            "2023-07",
            "2023-07",
            "2023-08",
            "2023-08",
            "2023-08",
            "2023-08",
            "2023-08",
            "2023-09",
            "2023-09",
            "2023-09",
            "2023-09",
            "2023-09",
            "2023-10",
            "2023-10",
            "2023-10",
            "2023-10",
            "2023-10",
            "2023-11",
            "2023-11",
            "2023-11",
            "2023-11",
            "2023-11",
            "2023-12",
            "2023-12",
            "2023-12",
            "2023-12",
            "2023-12"
           ],
           "y": {
            "bdata": "AwEdHR5+allXXTw=",
            "dtype": "i1"
           }
          }
         ],
         "name": "2023-12"
        }
       ],
       "layout": {
        "height": 600,
        "legend": {
         "title": {
          "text": "Industry"
         },
         "tracegroupgap": 0
        },
        "template": {
         "data": {
          "bar": [
           {
            "error_x": {
             "color": "#2a3f5f"
            },
            "error_y": {
             "color": "#2a3f5f"
            },
            "marker": {
             "line": {
              "color": "#E5ECF6",
              "width": 0.5
             },
             "pattern": {
              "fillmode": "overlay",
              "size": 10,
              "solidity": 0.2
             }
            },
            "type": "bar"
           }
          ],
          "barpolar": [
           {
            "marker": {
             "line": {
              "color": "#E5ECF6",
              "width": 0.5
             },
             "pattern": {
              "fillmode": "overlay",
              "size": 10,
              "solidity": 0.2
             }
            },
            "type": "barpolar"
           }
          ],
          "carpet": [
           {
            "aaxis": {
             "endlinecolor": "#2a3f5f",
             "gridcolor": "white",
             "linecolor": "white",
             "minorgridcolor": "white",
             "startlinecolor": "#2a3f5f"
            },
            "baxis": {
             "endlinecolor": "#2a3f5f",
             "gridcolor": "white",
             "linecolor": "white",
             "minorgridcolor": "white",
             "startlinecolor": "#2a3f5f"
            },
            "type": "carpet"
           }
          ],
          "choropleth": [
           {
            "colorbar": {
             "outlinewidth": 0,
             "ticks": ""
            },
            "type": "choropleth"
           }
          ],
          "contour": [
           {
            "colorbar": {
             "outlinewidth": 0,
             "ticks": ""
            },
            "colorscale": [
             [
              0,
              "#0d0887"
             ],
             [
              0.1111111111111111,
              "#46039f"
             ],
             [
              0.2222222222222222,
              "#7201a8"
             ],
             [
              0.3333333333333333,
              "#9c179e"
             ],
             [
              0.4444444444444444,
              "#bd3786"
             ],
             [
              0.5555555555555556,
              "#d8576b"
             ],
             [
              0.6666666666666666,
              "#ed7953"
             ],
             [
              0.7777777777777778,
              "#fb9f3a"
             ],
             [
              0.8888888888888888,
              "#fdca26"
             ],
             [
              1,
              "#f0f921"
             ]
            ],
            "type": "contour"
           }
          ],
          "contourcarpet": [
           {
            "colorbar": {
             "outlinewidth": 0,
             "ticks": ""
            },
            "type": "contourcarpet"
           }
          ],
          "heatmap": [
           {
            "colorbar": {
             "outlinewidth": 0,
             "ticks": ""
            },
            "colorscale": [
             [
              0,
              "#0d0887"
             ],
             [
              0.1111111111111111,
              "#46039f"
             ],
             [
              0.2222222222222222,
              "#7201a8"
             ],
             [
              0.3333333333333333,
              "#9c179e"
             ],
             [
              0.4444444444444444,
              "#bd3786"
             ],
             [
              0.5555555555555556,
              "#d8576b"
             ],
             [
              0.6666666666666666,
              "#ed7953"
             ],
             [
              0.7777777777777778,
              "#fb9f3a"
             ],
             [
              0.8888888888888888,
              "#fdca26"
             ],
             [
              1,
              "#f0f921"
             ]
            ],
            "type": "heatmap"
           }
          ],
          "histogram": [
           {
            "marker": {
             "pattern": {
              "fillmode": "overlay",
              "size": 10,
              "solidity": 0.2
             }
            },
            "type": "histogram"
           }
          ],
          "histogram2d": [
           {
            "colorbar": {
             "outlinewidth": 0,
             "ticks": ""
            },
            "colorscale": [
             [
              0,
              "#0d0887"
             ],
             [
              0.1111111111111111,
              "#46039f"
             ],
             [
              0.2222222222222222,
              "#7201a8"
             ],
             [
              0.3333333333333333,
              "#9c179e"
             ],
             [
              0.4444444444444444,
              "#bd3786"
             ],
             [
              0.5555555555555556,
              "#d8576b"
             ],
             [
              0.6666666666666666,
              "#ed7953"
             ],
             [
              0.7777777777777778,
              "#fb9f3a"
             ],
             [
              0.8888888888888888,
              "#fdca26"
             ],
             [
              1,
              "#f0f921"
             ]
            ],
            "type": "histogram2d"
           }
          ],
          "histogram2dcontour": [
           {
            "colorbar": {
             "outlinewidth": 0,
             "ticks": ""
            },
            "colorscale": [
             [
              0,
              "#0d0887"
             ],
             [
              0.1111111111111111,
              "#46039f"
             ],
             [
              0.2222222222222222,
              "#7201a8"
             ],
             [
              0.3333333333333333,
              "#9c179e"
             ],
             [
              0.4444444444444444,
              "#bd3786"
             ],
             [
              0.5555555555555556,
              "#d8576b"
             ],
             [
              0.6666666666666666,
              "#ed7953"
             ],
             [
              0.7777777777777778,
              "#fb9f3a"
             ],
             [
              0.8888888888888888,
              "#fdca26"
             ],
             [
              1,
              "#f0f921"
             ]
            ],
            "type": "histogram2dcontour"
           }
          ],
          "mesh3d": [
           {
            "colorbar": {
             "outlinewidth": 0,
             "ticks": ""
            },
            "type": "mesh3d"
           }
          ],
          "parcoords": [
           {
            "line": {
             "colorbar": {
              "outlinewidth": 0,
              "ticks": ""
             }
            },
            "type": "parcoords"
           }
          ],
          "pie": [
           {
            "automargin": true,
            "type": "pie"
           }
          ],
          "scatter": [
           {
            "fillpattern": {
             "fillmode": "overlay",
             "size": 10,
             "solidity": 0.2
            },
            "type": "scatter"
           }
          ],
          "scatter3d": [
           {
            "line": {
             "colorbar": {
              "outlinewidth": 0,
              "ticks": ""
             }
            },
            "marker": {
             "colorbar": {
              "outlinewidth": 0,
              "ticks": ""
             }
            },
            "type": "scatter3d"
           }
          ],
          "scattercarpet": [
           {
            "marker": {
             "colorbar": {
              "outlinewidth": 0,
              "ticks": ""
             }
            },
            "type": "scattercarpet"
           }
          ],
          "scattergeo": [
           {
            "marker": {
             "colorbar": {
              "outlinewidth": 0,
              "ticks": ""
             }
            },
            "type": "scattergeo"
           }
          ],
          "scattergl": [
           {
            "marker": {
             "colorbar": {
              "outlinewidth": 0,
              "ticks": ""
             }
            },
            "type": "scattergl"
           }
          ],
          "scattermap": [
           {
            "marker": {
             "colorbar": {
              "outlinewidth": 0,
              "ticks": ""
             }
            },
            "type": "scattermap"
           }
          ],
          "scattermapbox": [
           {
            "marker": {
             "colorbar": {
              "outlinewidth": 0,
              "ticks": ""
             }
            },
            "type": "scattermapbox"
           }
          ],
          "scatterpolar": [
           {
            "marker": {
             "colorbar": {
              "outlinewidth": 0,
              "ticks": ""
             }
            },
            "type": "scatterpolar"
           }
          ],
          "scatterpolargl": [
           {
            "marker": {
             "colorbar": {
              "outlinewidth": 0,
              "ticks": ""
             }
            },
            "type": "scatterpolargl"
           }
          ],
          "scatterternary": [
           {
            "marker": {
             "colorbar": {
              "outlinewidth": 0,
              "ticks": ""
             }
            },
            "type": "scatterternary"
           }
          ],
          "surface": [
           {
            "colorbar": {
             "outlinewidth": 0,
             "ticks": ""
            },
            "colorscale": [
             [
              0,
              "#0d0887"
             ],
             [
              0.1111111111111111,
              "#46039f"
             ],
             [
              0.2222222222222222,
              "#7201a8"
             ],
             [
              0.3333333333333333,
              "#9c179e"
             ],
             [
              0.4444444444444444,
              "#bd3786"
             ],
             [
              0.5555555555555556,
              "#d8576b"
             ],
             [
              0.6666666666666666,
              "#ed7953"
             ],
             [
              0.7777777777777778,
              "#fb9f3a"
             ],
             [
              0.8888888888888888,
              "#fdca26"
             ],
             [
              1,
              "#f0f921"
             ]
            ],
            "type": "surface"
           }
          ],
          "table": [
           {
            "cells": {
             "fill": {
              "color": "#EBF0F8"
             },
             "line": {
              "color": "white"
             }
            },
            "header": {
             "fill": {
              "color": "#C8D4E3"
             },
             "line": {
              "color": "white"
             }
            },
            "type": "table"
           }
          ]
         },
         "layout": {
          "annotationdefaults": {
           "arrowcolor": "#2a3f5f",
           "arrowhead": 0,
           "arrowwidth": 1
          },
          "autotypenumbers": "strict",
          "coloraxis": {
           "colorbar": {
            "outlinewidth": 0,
            "ticks": ""
           }
          },
          "colorscale": {
           "diverging": [
            [
             0,
             "#8e0152"
            ],
            [
             0.1,
             "#c51b7d"
            ],
            [
             0.2,
             "#de77ae"
            ],
            [
             0.3,
             "#f1b6da"
            ],
            [
             0.4,
             "#fde0ef"
            ],
            [
             0.5,
             "#f7f7f7"
            ],
            [
             0.6,
             "#e6f5d0"
            ],
            [
             0.7,
             "#b8e186"
            ],
            [
             0.8,
             "#7fbc41"
            ],
            [
             0.9,
             "#4d9221"
            ],
            [
             1,
             "#276419"
            ]
           ],
           "sequential": [
            [
             0,
             "#0d0887"
            ],
            [
             0.1111111111111111,
             "#46039f"
            ],
            [
             0.2222222222222222,
             "#7201a8"
            ],
            [
             0.3333333333333333,
             "#9c179e"
            ],
            [
             0.4444444444444444,
             "#bd3786"
            ],
            [
             0.5555555555555556,
             "#d8576b"
            ],
            [
             0.6666666666666666,
             "#ed7953"
            ],
            [
             0.7777777777777778,
             "#fb9f3a"
            ],
            [
             0.8888888888888888,
             "#fdca26"
            ],
            [
             1,
             "#f0f921"
            ]
           ],
           "sequentialminus": [
            [
             0,
             "#0d0887"
            ],
            [
             0.1111111111111111,
             "#46039f"
            ],
            [
             0.2222222222222222,
             "#7201a8"
            ],
            [
             0.3333333333333333,
             "#9c179e"
            ],
            [
             0.4444444444444444,
             "#bd3786"
            ],
            [
             0.5555555555555556,
             "#d8576b"
            ],
            [
             0.6666666666666666,
             "#ed7953"
            ],
            [
             0.7777777777777778,
             "#fb9f3a"
            ],
            [
             0.8888888888888888,
             "#fdca26"
            ],
            [
             1,
             "#f0f921"
            ]
           ]
          },
          "colorway": [
           "#636efa",
           "#EF553B",
           "#00cc96",
           "#ab63fa",
           "#FFA15A",
           "#19d3f3",
           "#FF6692",
           "#B6E880",
           "#FF97FF",
           "#FECB52"
          ],
          "font": {
           "color": "#2a3f5f"
          },
          "geo": {
           "bgcolor": "white",
           "lakecolor": "white",
           "landcolor": "#E5ECF6",
           "showlakes": true,
           "showland": true,
           "subunitcolor": "white"
          },
          "hoverlabel": {
           "align": "left"
          },
          "hovermode": "closest",
          "mapbox": {
           "style": "light"
          },
          "paper_bgcolor": "white",
          "plot_bgcolor": "#E5ECF6",
          "polar": {
           "angularaxis": {
            "gridcolor": "white",
            "linecolor": "white",
            "ticks": ""
           },
           "bgcolor": "#E5ECF6",
           "radialaxis": {
            "gridcolor": "white",
            "linecolor": "white",
            "ticks": ""
           }
          },
          "scene": {
           "xaxis": {
            "backgroundcolor": "#E5ECF6",
            "gridcolor": "white",
            "gridwidth": 2,
            "linecolor": "white",
            "showbackground": true,
            "ticks": "",
            "zerolinecolor": "white"
           },
           "yaxis": {
            "backgroundcolor": "#E5ECF6",
            "gridcolor": "white",
            "gridwidth": 2,
            "linecolor": "white",
            "showbackground": true,
            "ticks": "",
            "zerolinecolor": "white"
           },
           "zaxis": {
            "backgroundcolor": "#E5ECF6",
            "gridcolor": "white",
            "gridwidth": 2,
            "linecolor": "white",
            "showbackground": true,
            "ticks": "",
            "zerolinecolor": "white"
           }
          },
          "shapedefaults": {
           "line": {
            "color": "#2a3f5f"
           }
          },
          "ternary": {
           "aaxis": {
            "gridcolor": "white",
            "linecolor": "white",
            "ticks": ""
           },
           "baxis": {
            "gridcolor": "white",
            "linecolor": "white",
            "ticks": ""
           },
           "bgcolor": "#E5ECF6",
           "caxis": {
            "gridcolor": "white",
            "linecolor": "white",
            "ticks": ""
           }
          },
          "title": {
           "x": 0.05
          },
          "xaxis": {
           "automargin": true,
           "gridcolor": "white",
           "linecolor": "white",
           "ticks": "",
           "title": {
            "standoff": 15
           },
           "zerolinecolor": "white",
           "zerolinewidth": 2
          },
          "yaxis": {
           "automargin": true,
           "gridcolor": "white",
           "linecolor": "white",
           "ticks": "",
           "title": {
            "standoff": 15
           },
           "zerolinecolor": "white",
           "zerolinewidth": 2
          }
         }
        },
        "title": {
         "text": "Monthly Complaint Trends by Top 5 Industries"
        },
        "updatemenus": [
         {
          "buttons": [
           {
            "args": [
             null,
             {
              "frame": {
               "duration": 500,
               "redraw": true
              },
              "fromcurrent": true
             }
            ],
            "label": "Play",
            "method": "animate"
           },
           {
            "args": [
             [
              null
             ],
             {
              "frame": {
               "duration": 0,
               "redraw": false
              },
              "mode": "immediate",
              "transition": {
               "duration": 0
              }
             }
            ],
            "label": "Pause",
            "method": "animate"
           }
          ],
          "type": "buttons"
         }
        ],
        "xaxis": {
         "anchor": "y",
         "domain": [
          0,
          1
         ],
         "rangeslider": {
          "visible": true
         },
         "title": {
          "text": "Month"
         },
         "type": "category"
        },
        "yaxis": {
         "anchor": "x",
         "domain": [
          0,
          1
         ],
         "title": {
          "text": "Number of Complaints"
         }
        }
       }
      }
     },
     "metadata": {},
     "output_type": "display_data"
    }
   ],
   "source": [
    "df = pd.read_csv('/Users/carinayan/Downloads/dcwp_complaints_project/data/cleaned_consumer_complaints.csv')\n",
    "\n",
    "# Convert \"Intake Date\" to datetime format and extract the month (as 'YYYY-MM' string)\n",
    "df['Intake Date'] = pd.to_datetime(df['Intake Date'])\n",
    "df['Month'] = df['Intake Date'].dt.to_period('M').astype(str)\n",
    "\n",
    "# Identify the top 5 industries with the highest total complaint counts\n",
    "top_industries = (\n",
    "    df.groupby('Business Category')\n",
    "    .size()\n",
    "    .sort_values(ascending=False)\n",
    "    .head(5)\n",
    "    .index\n",
    ")\n",
    "\n",
    "# Keep only the data for these top 5 industries\n",
    "df_top = df[df['Business Category'].isin(top_industries)]\n",
    "\n",
    "# Group by month and business category to count complaints per month per industry\n",
    "trend_data = (\n",
    "    df_top.groupby(['Month', 'Business Category'])\n",
    "    .size()\n",
    "    .reset_index(name='Complaint Count')\n",
    ")\n",
    "\n",
    "# Create a multi-line chart showing complaint trends over time by industry\n",
    "fig = px.line(\n",
    "    trend_data,\n",
    "    x='Month',\n",
    "    y='Complaint Count',\n",
    "    color='Business Category',\n",
    "    title='Monthly Complaint Trends by Top 5 Industries',\n",
    "    labels={'Month': 'Month', 'Complaint Count': 'Number of Complaints', 'Business Category': 'Industry'},\n",
    "    markers=True,  \n",
    ")\n",
    "\n",
    "# Add Play/Pause buttons to control animation\n",
    "fig.update_layout(\n",
    "    updatemenus=[dict(\n",
    "        type=\"buttons\",\n",
    "        buttons=[\n",
    "            dict(\n",
    "                label=\"Play\",\n",
    "                method=\"animate\",\n",
    "                args=[None, {\n",
    "                    \"frame\": {\"duration\": 500, \"redraw\": True},\n",
    "                    \"fromcurrent\": True\n",
    "                }]\n",
    "            ),\n",
    "            dict(\n",
    "                label=\"Pause\",\n",
    "                method=\"animate\",\n",
    "                args=[[None], {\n",
    "                    \"frame\": {\"duration\": 0, \"redraw\": False},\n",
    "                    \"mode\": \"immediate\",\n",
    "                    \"transition\": {\"duration\": 0}\n",
    "                }]\n",
    "            )\n",
    "        ]\n",
    "    )],\n",
    "    xaxis=dict(\n",
    "        rangeslider=dict(visible=True),  # Add a slider for the x-axis (month)\n",
    "        type=\"category\"  \n",
    "    ),\n",
    "    height=600\n",
    ")\n",
    "\n",
    "fig.frames = [go.Frame(\n",
    "    data=[\n",
    "        go.Scatter(\n",
    "            x=trend_data[trend_data['Month'] <= m]['Month'],\n",
    "            y=trend_data[trend_data['Month'] <= m][trend_data['Business Category'] == bc]['Complaint Count'],\n",
    "            mode='lines+markers',\n",
    "            name=bc\n",
    "        ) for bc in top_industries\n",
    "    ],\n",
    "    name=m\n",
    ") for m in sorted(trend_data['Month'].unique())]\n",
    "\n",
    "\n",
    "fig.show()\n"
   ]
  },
  {
   "cell_type": "code",
   "execution_count": null,
   "id": "3b62ee73",
   "metadata": {},
   "outputs": [
    {
     "name": "stderr",
     "output_type": "stream",
     "text": [
      "/var/folders/1w/m6bndrfn3h96xky2vx7hh40r0000gn/T/ipykernel_47556/1837261538.py:25: DeprecationWarning:\n",
      "\n",
      "*choropleth_mapbox* is deprecated! Use *choropleth_map* instead. Learn more at: https://plotly.com/python/mapbox-to-maplibre/\n",
      "\n"
     ]
    },
    {
     "data": {
      "application/vnd.plotly.v1+json": {
       "config": {
        "plotlyServerURL": "https://plot.ly"
       },
       "data": [
        {
         "coloraxis": "coloraxis",
         "customdata": [
          [
           "10000",
           "Manhattan",
           1
          ],
          [
           "10000",
           "Unknown",
           2
          ],
          [
           "10001",
           "Manhattan",
           147
          ],
          [
           "10002",
           "Manhattan",
           177
          ],
          [
           "10002",
           "Unknown",
           1
          ],
          [
           "10003",
           "Manhattan",
           140
          ],
          [
           "10004",
           "Manhattan",
           272
          ],
          [
           "10004",
           "Unknown",
           6
          ],
          [
           "10005",
           "Manhattan",
           76
          ],
          [
           "10006",
           "Manhattan",
           47
          ],
          [
           "10006",
           "Unknown",
           1
          ],
          [
           "10007",
           "Manhattan",
           70
          ],
          [
           "10008",
           "Manhattan",
           1
          ],
          [
           "10009",
           "Manhattan",
           56
          ],
          [
           "10009",
           "Unknown",
           1
          ],
          [
           "10010",
           "Manhattan",
           57
          ],
          [
           "10010",
           "Unknown",
           1
          ],
          [
           "10011",
           "Manhattan",
           87
          ],
          [
           "10012",
           "Manhattan",
           63
          ],
          [
           "10012",
           "Queens",
           2
          ],
          [
           "10013",
           "Manhattan",
           193
          ],
          [
           "10013",
           "Unknown",
           2
          ],
          [
           "10014",
           "Manhattan",
           42
          ],
          [
           "10014",
           "Unknown",
           1
          ],
          [
           "10016",
           "Manhattan",
           71
          ],
          [
           "10016",
           "Unknown",
           2
          ],
          [
           "10017",
           "Manhattan",
           82
          ],
          [
           "10017",
           "Unknown",
           1
          ],
          [
           "10018",
           "Manhattan",
           118
          ],
          [
           "10019",
           "Manhattan",
           149
          ],
          [
           "10019",
           "Unknown",
           4
          ],
          [
           "10020",
           "Manhattan",
           12
          ],
          [
           "10021",
           "Manhattan",
           35
          ],
          [
           "10022",
           "Manhattan",
           88
          ],
          [
           "10022",
           "Unknown",
           1
          ],
          [
           "10023",
           "Manhattan",
           38
          ],
          [
           "10023",
           "Unknown",
           3
          ],
          [
           "10024",
           "Manhattan",
           54
          ],
          [
           "10024",
           "Unknown",
           1
          ],
          [
           "10025",
           "Manhattan",
           68
          ],
          [
           "10026",
           "Manhattan",
           57
          ],
          [
           "10027",
           "Manhattan",
           65
          ],
          [
           "10028",
           "Manhattan",
           46
          ],
          [
           "10028",
           "Unknown",
           1
          ],
          [
           "10029",
           "Manhattan",
           71
          ],
          [
           "10029",
           "Unknown",
           4
          ],
          [
           "10030",
           "Manhattan",
           20
          ],
          [
           "10031",
           "Manhattan",
           38
          ],
          [
           "10031",
           "Unknown",
           3
          ],
          [
           "10032",
           "Manhattan",
           47
          ],
          [
           "10033",
           "Manhattan",
           45
          ],
          [
           "10034",
           "Manhattan",
           28
          ],
          [
           "10034",
           "Unknown",
           1
          ],
          [
           "10035",
           "Manhattan",
           62
          ],
          [
           "10036",
           "Manhattan",
           188
          ],
          [
           "10036",
           "Unknown",
           3
          ],
          [
           "10037",
           "Manhattan",
           22
          ],
          [
           "10038",
           "Manhattan",
           89
          ],
          [
           "10038",
           "Unknown",
           1
          ],
          [
           "10039",
           "Manhattan",
           16
          ],
          [
           "10039",
           "Unknown",
           1
          ],
          [
           "10040",
           "Manhattan",
           29
          ],
          [
           "10040",
           "Unknown",
           1
          ],
          [
           "10041",
           "Manhattan",
           5
          ],
          [
           "10044",
           "Manhattan",
           6
          ],
          [
           "10065",
           "Manhattan",
           32
          ],
          [
           "10065",
           "Unknown",
           1
          ],
          [
           "10069",
           "Manhattan",
           3
          ],
          [
           "10075",
           "Manhattan",
           20
          ],
          [
           "10103",
           "Manhattan",
           2
          ],
          [
           "10104",
           "Manhattan",
           1
          ],
          [
           "10105",
           "Manhattan",
           1
          ],
          [
           "10110",
           "Manhattan",
           2
          ],
          [
           "10111",
           "Manhattan",
           4
          ],
          [
           "10112",
           "Manhattan",
           4
          ],
          [
           "10118",
           "Manhattan",
           8
          ],
          [
           "10119",
           "Manhattan",
           1
          ],
          [
           "10121",
           "Manhattan",
           4
          ],
          [
           "10122",
           "Manhattan",
           3
          ],
          [
           "10123",
           "Manhattan",
           2
          ],
          [
           "10128",
           "Manhattan",
           41
          ],
          [
           "10128",
           "Unknown",
           1
          ],
          [
           "10153",
           "Manhattan",
           4
          ],
          [
           "10158",
           "Manhattan",
           1
          ],
          [
           "10165",
           "Manhattan",
           1
          ],
          [
           "10166",
           "Manhattan",
           3
          ],
          [
           "10167",
           "Manhattan",
           1
          ],
          [
           "10168",
           "Manhattan",
           1
          ],
          [
           "10171",
           "Manhattan",
           2
          ],
          [
           "10174",
           "Manhattan",
           1
          ],
          [
           "10176",
           "Manhattan",
           1
          ],
          [
           "10177",
           "Manhattan",
           1
          ],
          [
           "10178",
           "Manhattan",
           1
          ],
          [
           "10271",
           "Manhattan",
           18
          ],
          [
           "10278",
           "Manhattan",
           1
          ],
          [
           "10279",
           "Manhattan",
           1
          ],
          [
           "10280",
           "Manhattan",
           10
          ],
          [
           "10281",
           "Manhattan",
           6
          ],
          [
           "10282",
           "Manhattan",
           3
          ],
          [
           "10285",
           "Manhattan",
           2
          ],
          [
           "10301",
           "Staten Island",
           43
          ],
          [
           "10302",
           "Staten Island",
           23
          ],
          [
           "10303",
           "Staten Island",
           34
          ],
          [
           "10303",
           "Unknown",
           2
          ],
          [
           "10304",
           "Staten Island",
           23
          ],
          [
           "10305",
           "Staten Island",
           29
          ],
          [
           "10305",
           "Unknown",
           2
          ],
          [
           "10306",
           "Staten Island",
           27
          ],
          [
           "10306",
           "Unknown",
           1
          ],
          [
           "10307",
           "Staten Island",
           4
          ],
          [
           "10307",
           "Unknown",
           1
          ],
          [
           "10308",
           "Staten Island",
           5
          ],
          [
           "10309",
           "Staten Island",
           28
          ],
          [
           "10310",
           "Staten Island",
           22
          ],
          [
           "10311",
           "Staten Island",
           4
          ],
          [
           "10312",
           "Staten Island",
           21
          ],
          [
           "10312",
           "Unknown",
           2
          ],
          [
           "10314",
           "Staten Island",
           40
          ],
          [
           "10314",
           "Unknown",
           5
          ],
          [
           "10451",
           "Bronx",
           81
          ],
          [
           "10451",
           "Unknown",
           4
          ],
          [
           "10452",
           "Bronx",
           69
          ],
          [
           "10452",
           "Unknown",
           3
          ],
          [
           "10453",
           "Bronx",
           62
          ],
          [
           "10454",
           "Bronx",
           41
          ],
          [
           "10454",
           "Unknown",
           1
          ],
          [
           "10455",
           "Bronx",
           59
          ],
          [
           "10455",
           "Unknown",
           1
          ],
          [
           "10456",
           "Bronx",
           38
          ],
          [
           "10456",
           "Unknown",
           1
          ],
          [
           "10457",
           "Bronx",
           87
          ],
          [
           "10457",
           "Unknown",
           1
          ],
          [
           "10458",
           "Bronx",
           72
          ],
          [
           "10458",
           "Unknown",
           3
          ],
          [
           "10459",
           "Bronx",
           43
          ],
          [
           "10459",
           "Unknown",
           1
          ],
          [
           "10460",
           "Bronx",
           76
          ],
          [
           "10460",
           "Unknown",
           4
          ],
          [
           "10461",
           "Bronx",
           69
          ],
          [
           "10461",
           "Unknown",
           3
          ],
          [
           "10462",
           "Bronx",
           68
          ],
          [
           "10462",
           "Unknown",
           3
          ],
          [
           "10463",
           "Bronx",
           43
          ],
          [
           "10463",
           "Manhattan",
           8
          ],
          [
           "10463",
           "Unknown",
           1
          ],
          [
           "10464",
           "Bronx",
           6
          ],
          [
           "10465",
           "Bronx",
           34
          ],
          [
           "10466",
           "Bronx",
           58
          ],
          [
           "10467",
           "Bronx",
           108
          ],
          [
           "10467",
           "Unknown",
           2
          ],
          [
           "10468",
           "Bronx",
           57
          ],
          [
           "10468",
           "Unknown",
           2
          ],
          [
           "10469",
           "Bronx",
           63
          ],
          [
           "10469",
           "Unknown",
           1
          ],
          [
           "10470",
           "Bronx",
           9
          ],
          [
           "10471",
           "Bronx",
           15
          ],
          [
           "10472",
           "Bronx",
           55
          ],
          [
           "10472",
           "Unknown",
           1
          ],
          [
           "10473",
           "Bronx",
           70
          ],
          [
           "10474",
           "Bronx",
           19
          ],
          [
           "10475",
           "Bronx",
           86
          ],
          [
           "10502",
           "Manhattan",
           1
          ],
          [
           "10504",
           "Outside NYC",
           1
          ],
          [
           "10509",
           "Unknown",
           1
          ],
          [
           "10511",
           "Unknown",
           1
          ],
          [
           "10512",
           "Outside NYC",
           1
          ],
          [
           "10512",
           "Unknown",
           1
          ],
          [
           "10523",
           "Unknown",
           1
          ],
          [
           "10530",
           "Outside NYC",
           1
          ],
          [
           "10530",
           "Unknown",
           1
          ],
          [
           "10532",
           "Unknown",
           1
          ],
          [
           "10538",
           "Unknown",
           1
          ],
          [
           "10543",
           "Unknown",
           1
          ],
          [
           "10550",
           "Unknown",
           2
          ],
          [
           "10562",
           "Outside NYC",
           1
          ],
          [
           "10567",
           "Outside NYC",
           1
          ],
          [
           "10580",
           "Unknown",
           1
          ],
          [
           "10601",
           "Outside NYC",
           1
          ],
          [
           "10601",
           "Unknown",
           1
          ],
          [
           "10603",
           "Outside NYC",
           1
          ],
          [
           "10701",
           "Outside NYC",
           1
          ],
          [
           "10701",
           "Unknown",
           2
          ],
          [
           "10704",
           "Outside NYC",
           2
          ],
          [
           "10704",
           "Unknown",
           5
          ],
          [
           "10705",
           "Unknown",
           3
          ],
          [
           "10709",
           "Unknown",
           3
          ],
          [
           "10710",
           "Unknown",
           5
          ],
          [
           "10801",
           "Outside NYC",
           1
          ],
          [
           "10801",
           "Unknown",
           2
          ],
          [
           "10804",
           "Unknown",
           1
          ],
          [
           "10901",
           "Unknown",
           1
          ],
          [
           "10917",
           "Unknown",
           1
          ],
          [
           "10920",
           "Unknown",
           1
          ],
          [
           "10931",
           "Unknown",
           1
          ],
          [
           "10940",
           "Outside NYC",
           1
          ],
          [
           "10940",
           "Unknown",
           1
          ],
          [
           "10952",
           "Unknown",
           1
          ],
          [
           "10954",
           "Unknown",
           1
          ],
          [
           "10958",
           "Outside NYC",
           1
          ],
          [
           "10970",
           "Unknown",
           1
          ],
          [
           "10977",
           "Unknown",
           1
          ],
          [
           "10990",
           "Unknown",
           1
          ],
          [
           "11001",
           "Outside NYC",
           2
          ],
          [
           "11001",
           "Queens",
           9
          ],
          [
           "11001",
           "Unknown",
           4
          ],
          [
           "11003",
           "Queens",
           1
          ],
          [
           "11003",
           "Unknown",
           3
          ],
          [
           "11004",
           "Queens",
           10
          ],
          [
           "11010",
           "Queens",
           2
          ],
          [
           "11010",
           "Unknown",
           1
          ],
          [
           "11021",
           "Outside NYC",
           6
          ],
          [
           "11021",
           "Unknown",
           6
          ],
          [
           "11030",
           "Outside NYC",
           1
          ],
          [
           "11030",
           "Unknown",
           1
          ],
          [
           "11040",
           "Outside NYC",
           1
          ],
          [
           "11040",
           "Queens",
           3
          ],
          [
           "11040",
           "Unknown",
           3
          ],
          [
           "11050",
           "Unknown",
           1
          ],
          [
           "11096",
           "Queens",
           1
          ],
          [
           "11096",
           "Unknown",
           4
          ],
          [
           "11101",
           "Queens",
           113
          ],
          [
           "11101",
           "Unknown",
           6
          ],
          [
           "11102",
           "Queens",
           33
          ],
          [
           "11102",
           "Unknown",
           3
          ],
          [
           "11103",
           "Queens",
           49
          ],
          [
           "11103",
           "Unknown",
           1
          ],
          [
           "11104",
           "Queens",
           25
          ],
          [
           "11104",
           "Unknown",
           1
          ],
          [
           "11105",
           "Queens",
           35
          ],
          [
           "11105",
           "Unknown",
           1
          ],
          [
           "11106",
           "Queens",
           25
          ],
          [
           "11106",
           "Unknown",
           1
          ],
          [
           "11109",
           "Queens",
           2
          ],
          [
           "11201",
           "Brooklyn",
           314
          ],
          [
           "11201",
           "Unknown",
           18
          ],
          [
           "11203",
           "Brooklyn",
           79
          ],
          [
           "11203",
           "Unknown",
           1
          ],
          [
           "11204",
           "Brooklyn",
           45
          ],
          [
           "11204",
           "Unknown",
           4
          ],
          [
           "11205",
           "Brooklyn",
           40
          ],
          [
           "11206",
           "Brooklyn",
           55
          ],
          [
           "11206",
           "Unknown",
           1
          ],
          [
           "11207",
           "Brooklyn",
           91
          ],
          [
           "11207",
           "Unknown",
           2
          ],
          [
           "11208",
           "Brooklyn",
           69
          ],
          [
           "11208",
           "Unknown",
           6
          ],
          [
           "11209",
           "Brooklyn",
           64
          ],
          [
           "11209",
           "Unknown",
           1
          ],
          [
           "11210",
           "Brooklyn",
           38
          ],
          [
           "11210",
           "Unknown",
           2
          ],
          [
           "11211",
           "Brooklyn",
           88
          ],
          [
           "11212",
           "Brooklyn",
           50
          ],
          [
           "11212",
           "Unknown",
           1
          ],
          [
           "11213",
           "Brooklyn",
           41
          ],
          [
           "11214",
           "Brooklyn",
           111
          ],
          [
           "11214",
           "Unknown",
           1
          ],
          [
           "11215",
           "Brooklyn",
           55
          ],
          [
           "11215",
           "Unknown",
           1
          ],
          [
           "11216",
           "Brooklyn",
           40
          ],
          [
           "11217",
           "Brooklyn",
           56
          ],
          [
           "11218",
           "Brooklyn",
           50
          ],
          [
           "11218",
           "Unknown",
           2
          ],
          [
           "11219",
           "Brooklyn",
           51
          ],
          [
           "11220",
           "Brooklyn",
           147
          ],
          [
           "11220",
           "Unknown",
           7
          ],
          [
           "11221",
           "Brooklyn",
           40
          ],
          [
           "11221",
           "Unknown",
           2
          ],
          [
           "11222",
           "Brooklyn",
           38
          ],
          [
           "11222",
           "Unknown",
           1
          ],
          [
           "11223",
           "Brooklyn",
           119
          ],
          [
           "11223",
           "Unknown",
           2
          ],
          [
           "11224",
           "Brooklyn",
           66
          ],
          [
           "11225",
           "Brooklyn",
           53
          ],
          [
           "11226",
           "Brooklyn",
           83
          ],
          [
           "11228",
           "Brooklyn",
           21
          ],
          [
           "11228",
           "Unknown",
           1
          ],
          [
           "11229",
           "Brooklyn",
           167
          ],
          [
           "11229",
           "Unknown",
           1
          ],
          [
           "11230",
           "Brooklyn",
           41
          ],
          [
           "11231",
           "Brooklyn",
           40
          ],
          [
           "11231",
           "Unknown",
           1
          ],
          [
           "11232",
           "Brooklyn",
           36
          ],
          [
           "11233",
           "Brooklyn",
           44
          ],
          [
           "11233",
           "Unknown",
           2
          ],
          [
           "11234",
           "Brooklyn",
           117
          ],
          [
           "11234",
           "Unknown",
           5
          ],
          [
           "11235",
           "Brooklyn",
           170
          ],
          [
           "11236",
           "Brooklyn",
           99
          ],
          [
           "11236",
           "Unknown",
           2
          ],
          [
           "11237",
           "Brooklyn",
           51
          ],
          [
           "11238",
           "Brooklyn",
           40
          ],
          [
           "11238",
           "Unknown",
           2
          ],
          [
           "11239",
           "Brooklyn",
           25
          ],
          [
           "11241",
           "Brooklyn",
           1
          ],
          [
           "11242",
           "Brooklyn",
           1
          ],
          [
           "11249",
           "Brooklyn",
           47
          ],
          [
           "11354",
           "Queens",
           144
          ],
          [
           "11354",
           "Unknown",
           2
          ],
          [
           "11355",
           "Queens",
           71
          ],
          [
           "11355",
           "Unknown",
           6
          ],
          [
           "11356",
           "Queens",
           27
          ],
          [
           "11356",
           "Unknown",
           1
          ],
          [
           "11357",
           "Queens",
           19
          ],
          [
           "11357",
           "Unknown",
           4
          ],
          [
           "11358",
           "Queens",
           25
          ],
          [
           "11360",
           "Queens",
           8
          ],
          [
           "11361",
           "Queens",
           28
          ],
          [
           "11362",
           "Queens",
           7
          ],
          [
           "11363",
           "Queens",
           3
          ],
          [
           "11364",
           "Queens",
           11
          ],
          [
           "11365",
           "Queens",
           25
          ],
          [
           "11365",
           "Unknown",
           3
          ],
          [
           "11366",
           "Queens",
           22
          ],
          [
           "11367",
           "Queens",
           25
          ],
          [
           "11368",
           "Queens",
           84
          ],
          [
           "11368",
           "Unknown",
           3
          ],
          [
           "11369",
           "Queens",
           35
          ],
          [
           "11369",
           "Unknown",
           3
          ],
          [
           "11370",
           "Bronx",
           1
          ],
          [
           "11370",
           "Queens",
           24
          ],
          [
           "11371",
           "Queens",
           1
          ],
          [
           "11372",
           "Queens",
           147
          ],
          [
           "11372",
           "Unknown",
           2
          ],
          [
           "11373",
           "Queens",
           104
          ],
          [
           "11373",
           "Unknown",
           6
          ],
          [
           "11374",
           "Queens",
           40
          ],
          [
           "11374",
           "Unknown",
           1
          ],
          [
           "11375",
           "Queens",
           68
          ],
          [
           "11375",
           "Unknown",
           1
          ],
          [
           "11377",
           "Queens",
           81
          ],
          [
           "11377",
           "Unknown",
           4
          ],
          [
           "11378",
           "Queens",
           39
          ],
          [
           "11378",
           "Unknown",
           1
          ],
          [
           "11379",
           "Queens",
           18
          ],
          [
           "11385",
           "Queens",
           88
          ],
          [
           "11385",
           "Unknown",
           2
          ],
          [
           "11411",
           "Queens",
           15
          ],
          [
           "11412",
           "Queens",
           18
          ],
          [
           "11413",
           "Queens",
           45
          ],
          [
           "11413",
           "Unknown",
           2
          ],
          [
           "11414",
           "Queens",
           11
          ],
          [
           "11415",
           "Queens",
           19
          ],
          [
           "11415",
           "Unknown",
           2
          ],
          [
           "11416",
           "Queens",
           36
          ],
          [
           "11417",
           "Queens",
           37
          ],
          [
           "11417",
           "Unknown",
           2
          ],
          [
           "11418",
           "Queens",
           35
          ],
          [
           "11419",
           "Queens",
           47
          ],
          [
           "11420",
           "Queens",
           42
          ],
          [
           "11420",
           "Unknown",
           6
          ],
          [
           "11421",
           "Queens",
           24
          ],
          [
           "11421",
           "Unknown",
           1
          ],
          [
           "11422",
           "Queens",
           32
          ],
          [
           "11422",
           "Unknown",
           1
          ],
          [
           "11423",
           "Queens",
           26
          ],
          [
           "11426",
           "Outside NYC",
           1
          ],
          [
           "11426",
           "Queens",
           15
          ],
          [
           "11426",
           "Unknown",
           1
          ],
          [
           "11427",
           "Queens",
           12
          ],
          [
           "11428",
           "Queens",
           21
          ],
          [
           "11429",
           "Queens",
           19
          ],
          [
           "11430",
           "Queens",
           8
          ],
          [
           "11432",
           "Queens",
           94
          ],
          [
           "11433",
           "Queens",
           46
          ],
          [
           "11433",
           "Unknown",
           2
          ],
          [
           "11434",
           "Queens",
           66
          ],
          [
           "11434",
           "Unknown",
           1
          ],
          [
           "11435",
           "Queens",
           74
          ],
          [
           "11435",
           "Unknown",
           1
          ],
          [
           "11436",
           "Queens",
           10
          ],
          [
           "11501",
           "Outside NYC",
           2
          ],
          [
           "11501",
           "Unknown",
           2
          ],
          [
           "11507",
           "Outside NYC",
           1
          ],
          [
           "11514",
           "Outside NYC",
           1
          ],
          [
           "11516",
           "Unknown",
           2
          ],
          [
           "11518",
           "Unknown",
           2
          ],
          [
           "11520",
           "Outside NYC",
           2
          ],
          [
           "11520",
           "Unknown",
           4
          ],
          [
           "11530",
           "Outside NYC",
           1
          ],
          [
           "11530",
           "Unknown",
           3
          ],
          [
           "11542",
           "Outside NYC",
           1
          ],
          [
           "11550",
           "Outside NYC",
           1
          ],
          [
           "11550",
           "Unknown",
           3
          ],
          [
           "11554",
           "Outside NYC",
           1
          ],
          [
           "11559",
           "Unknown",
           3
          ],
          [
           "11561",
           "Unknown",
           1
          ],
          [
           "11563",
           "Outside NYC",
           1
          ],
          [
           "11563",
           "Unknown",
           2
          ],
          [
           "11570",
           "Unknown",
           2
          ],
          [
           "11572",
           "Unknown",
           1
          ],
          [
           "11576",
           "Outside NYC",
           1
          ],
          [
           "11576",
           "Unknown",
           1
          ],
          [
           "11577",
           "Unknown",
           3
          ],
          [
           "11580",
           "Outside NYC",
           1
          ],
          [
           "11580",
           "Unknown",
           3
          ],
          [
           "11581",
           "Outside NYC",
           4
          ],
          [
           "11581",
           "Unknown",
           3
          ],
          [
           "11590",
           "Outside NYC",
           1
          ],
          [
           "11590",
           "Unknown",
           3
          ],
          [
           "11598",
           "Unknown",
           1
          ],
          [
           "11691",
           "Queens",
           43
          ],
          [
           "11691",
           "Unknown",
           3
          ],
          [
           "11692",
           "Queens",
           47
          ],
          [
           "11693",
           "Queens",
           15
          ],
          [
           "11694",
           "Queens",
           14
          ],
          [
           "11694",
           "Unknown",
           1
          ],
          [
           "11697",
           "Queens",
           1
          ],
          [
           "11701",
           "Outside NYC",
           1
          ],
          [
           "11704",
           "Unknown",
           3
          ],
          [
           "11706",
           "Unknown",
           1
          ],
          [
           "11710",
           "Outside NYC",
           1
          ],
          [
           "11710",
           "Unknown",
           1
          ],
          [
           "11713",
           "Unknown",
           1
          ],
          [
           "11714",
           "Unknown",
           7
          ],
          [
           "11716",
           "Unknown",
           2
          ],
          [
           "11717",
           "Unknown",
           1
          ],
          [
           "11719",
           "Unknown",
           1
          ],
          [
           "11720",
           "Unknown",
           1
          ],
          [
           "11726",
           "Outside NYC",
           1
          ],
          [
           "11727",
           "Outside NYC",
           1
          ],
          [
           "11729",
           "Unknown",
           3
          ],
          [
           "11735",
           "Manhattan",
           1
          ],
          [
           "11735",
           "Outside NYC",
           4
          ],
          [
           "11735",
           "Unknown",
           7
          ],
          [
           "11738",
           "Unknown",
           1
          ],
          [
           "11741",
           "Unknown",
           1
          ],
          [
           "11743",
           "Unknown",
           1
          ],
          [
           "11746",
           "Outside NYC",
           4
          ],
          [
           "11747",
           "Outside NYC",
           4
          ],
          [
           "11747",
           "Unknown",
           4
          ],
          [
           "11749",
           "Unknown",
           4
          ],
          [
           "11753",
           "Outside NYC",
           2
          ],
          [
           "11756",
           "Unknown",
           3
          ],
          [
           "11757",
           "Outside NYC",
           1
          ],
          [
           "11762",
           "Unknown",
           1
          ],
          [
           "11765",
           "Outside NYC",
           1
          ],
          [
           "11766",
           "Bronx",
           1
          ],
          [
           "11766",
           "Manhattan",
           1
          ],
          [
           "11766",
           "Unknown",
           2
          ],
          [
           "11776",
           "Unknown",
           1
          ],
          [
           "11782",
           "Unknown",
           5
          ],
          [
           "11783",
           "Unknown",
           1
          ],
          [
           "11784",
           "Unknown",
           1
          ],
          [
           "11787",
           "Unknown",
           1
          ],
          [
           "11788",
           "Outside NYC",
           1
          ],
          [
           "11788",
           "Unknown",
           1
          ],
          [
           "11791",
           "Outside NYC",
           5
          ],
          [
           "11791",
           "Unknown",
           4
          ],
          [
           "11793",
           "Outside NYC",
           1
          ],
          [
           "11793",
           "Unknown",
           1
          ],
          [
           "11797",
           "Outside NYC",
           2
          ],
          [
           "11801",
           "Outside NYC",
           2
          ],
          [
           "11801",
           "Unknown",
           3
          ],
          [
           "11803",
           "Unknown",
           3
          ],
          [
           "11949",
           "Unknown",
           1
          ],
          [
           "11951",
           "Unknown",
           1
          ],
          [
           "11954",
           "Unknown",
           1
          ],
          [
           "11967",
           "Unknown",
           1
          ],
          [
           "12110",
           "Unknown",
           1
          ],
          [
           "12205",
           "Unknown",
           3
          ],
          [
           "12212",
           "Unknown",
           1
          ],
          [
           "12404",
           "Unknown",
           1
          ],
          [
           "12484",
           "Unknown",
           1
          ],
          [
           "12496",
           "Unknown",
           1
          ],
          [
           "12508",
           "Unknown",
           1
          ],
          [
           "12542",
           "Unknown",
           1
          ],
          [
           "12550",
           "Unknown",
           4
          ],
          [
           "12561",
           "Outside NYC",
           1
          ],
          [
           "12601",
           "Unknown",
           3
          ],
          [
           "12701",
           "Unknown",
           1
          ],
          [
           "12866",
           "Unknown",
           2
          ],
          [
           "12901",
           "Unknown",
           4
          ],
          [
           "12983",
           "Unknown",
           1
          ],
          [
           "13031",
           "Unknown",
           1
          ],
          [
           "13057",
           "Unknown",
           1
          ],
          [
           "13088",
           "Outside NYC",
           1
          ],
          [
           "13090",
           "Unknown",
           2
          ],
          [
           "13340",
           "Unknown",
           1
          ],
          [
           "13403",
           "Outside NYC",
           1
          ],
          [
           "13905",
           "Unknown",
           1
          ],
          [
           "14020",
           "Unknown",
           1
          ],
          [
           "14059",
           "Unknown",
           1
          ],
          [
           "14107",
           "Unknown",
           1
          ],
          [
           "14150",
           "Unknown",
           1
          ],
          [
           "14203",
           "Unknown",
           1
          ],
          [
           "14211",
           "Unknown",
           1
          ],
          [
           "14217",
           "Unknown",
           1
          ],
          [
           "14221",
           "Unknown",
           1
          ],
          [
           "14223",
           "Outside NYC",
           1
          ],
          [
           "14224",
           "Outside NYC",
           1
          ],
          [
           "14224",
           "Unknown",
           1
          ],
          [
           "14226",
           "Unknown",
           1
          ],
          [
           "14303",
           "Unknown",
           1
          ],
          [
           "14502",
           "Unknown",
           1
          ],
          [
           "14512",
           "Unknown",
           2
          ],
          [
           "14513",
           "Unknown",
           1
          ],
          [
           "14559",
           "Unknown",
           1
          ],
          [
           "14604",
           "Unknown",
           1
          ],
          [
           "14606",
           "Unknown",
           1
          ],
          [
           "14611",
           "Unknown",
           3
          ],
          [
           "14614",
           "Unknown",
           1
          ],
          [
           "15108",
           "Unknown",
           1
          ],
          [
           "17011",
           "Unknown",
           1
          ],
          [
           "19013",
           "Unknown",
           2
          ],
          [
           "19034",
           "Unknown",
           3
          ],
          [
           "19123",
           "Manhattan",
           1
          ],
          [
           "19151",
           "Unknown",
           1
          ],
          [
           "19462",
           "Unknown",
           1
          ],
          [
           "19601",
           "Unknown",
           1
          ],
          [
           "19713",
           "Unknown",
           1
          ],
          [
           "19720",
           "Unknown",
           1
          ],
          [
           "19801",
           "Outside NYC",
           1
          ],
          [
           "19801",
           "Unknown",
           3
          ],
          [
           "19802",
           "Unknown",
           1
          ],
          [
           "19958",
           "Unknown",
           1
          ]
         ],
         "featureidkey": "properties.ZCTA5CE10",
         "geojson": "https://raw.githubusercontent.com/OpenDataDE/State-zip-code-GeoJSON/master/ny_new_york_zip_codes_geo.min.json",
         "hovertemplate": "Postcode=%{customdata[0]}<br>Borough=%{customdata[1]}<br>Number of Complaints=%{z}<extra></extra>",
         "locations": [
          "10000",
          "10000",
          "10001",
          "10002",
          "10002",
          "10003",
          "10004",
          "10004",
          "10005",
          "10006",
          "10006",
          "10007",
          "10008",
          "10009",
          "10009",
          "10010",
          "10010",
          "10011",
          "10012",
          "10012",
          "10013",
          "10013",
          "10014",
          "10014",
          "10016",
          "10016",
          "10017",
          "10017",
          "10018",
          "10019",
          "10019",
          "10020",
          "10021",
          "10022",
          "10022",
          "10023",
          "10023",
          "10024",
          "10024",
          "10025",
          "10026",
          "10027",
          "10028",
          "10028",
          "10029",
          "10029",
          "10030",
          "10031",
          "10031",
          "10032",
          "10033",
          "10034",
          "10034",
          "10035",
          "10036",
          "10036",
          "10037",
          "10038",
          "10038",
          "10039",
          "10039",
          "10040",
          "10040",
          "10041",
          "10044",
          "10065",
          "10065",
          "10069",
          "10075",
          "10103",
          "10104",
          "10105",
          "10110",
          "10111",
          "10112",
          "10118",
          "10119",
          "10121",
          "10122",
          "10123",
          "10128",
          "10128",
          "10153",
          "10158",
          "10165",
          "10166",
          "10167",
          "10168",
          "10171",
          "10174",
          "10176",
          "10177",
          "10178",
          "10271",
          "10278",
          "10279",
          "10280",
          "10281",
          "10282",
          "10285",
          "10301",
          "10302",
          "10303",
          "10303",
          "10304",
          "10305",
          "10305",
          "10306",
          "10306",
          "10307",
          "10307",
          "10308",
          "10309",
          "10310",
          "10311",
          "10312",
          "10312",
          "10314",
          "10314",
          "10451",
          "10451",
          "10452",
          "10452",
          "10453",
          "10454",
          "10454",
          "10455",
          "10455",
          "10456",
          "10456",
          "10457",
          "10457",
          "10458",
          "10458",
          "10459",
          "10459",
          "10460",
          "10460",
          "10461",
          "10461",
          "10462",
          "10462",
          "10463",
          "10463",
          "10463",
          "10464",
          "10465",
          "10466",
          "10467",
          "10467",
          "10468",
          "10468",
          "10469",
          "10469",
          "10470",
          "10471",
          "10472",
          "10472",
          "10473",
          "10474",
          "10475",
          "10502",
          "10504",
          "10509",
          "10511",
          "10512",
          "10512",
          "10523",
          "10530",
          "10530",
          "10532",
          "10538",
          "10543",
          "10550",
          "10562",
          "10567",
          "10580",
          "10601",
          "10601",
          "10603",
          "10701",
          "10701",
          "10704",
          "10704",
          "10705",
          "10709",
          "10710",
          "10801",
          "10801",
          "10804",
          "10901",
          "10917",
          "10920",
          "10931",
          "10940",
          "10940",
          "10952",
          "10954",
          "10958",
          "10970",
          "10977",
          "10990",
          "11001",
          "11001",
          "11001",
          "11003",
          "11003",
          "11004",
          "11010",
          "11010",
          "11021",
          "11021",
          "11030",
          "11030",
          "11040",
          "11040",
          "11040",
          "11050",
          "11096",
          "11096",
          "11101",
          "11101",
          "11102",
          "11102",
          "11103",
          "11103",
          "11104",
          "11104",
          "11105",
          "11105",
          "11106",
          "11106",
          "11109",
          "11201",
          "11201",
          "11203",
          "11203",
          "11204",
          "11204",
          "11205",
          "11206",
          "11206",
          "11207",
          "11207",
          "11208",
          "11208",
          "11209",
          "11209",
          "11210",
          "11210",
          "11211",
          "11212",
          "11212",
          "11213",
          "11214",
          "11214",
          "11215",
          "11215",
          "11216",
          "11217",
          "11218",
          "11218",
          "11219",
          "11220",
          "11220",
          "11221",
          "11221",
          "11222",
          "11222",
          "11223",
          "11223",
          "11224",
          "11225",
          "11226",
          "11228",
          "11228",
          "11229",
          "11229",
          "11230",
          "11231",
          "11231",
          "11232",
          "11233",
          "11233",
          "11234",
          "11234",
          "11235",
          "11236",
          "11236",
          "11237",
          "11238",
          "11238",
          "11239",
          "11241",
          "11242",
          "11249",
          "11354",
          "11354",
          "11355",
          "11355",
          "11356",
          "11356",
          "11357",
          "11357",
          "11358",
          "11360",
          "11361",
          "11362",
          "11363",
          "11364",
          "11365",
          "11365",
          "11366",
          "11367",
          "11368",
          "11368",
          "11369",
          "11369",
          "11370",
          "11370",
          "11371",
          "11372",
          "11372",
          "11373",
          "11373",
          "11374",
          "11374",
          "11375",
          "11375",
          "11377",
          "11377",
          "11378",
          "11378",
          "11379",
          "11385",
          "11385",
          "11411",
          "11412",
          "11413",
          "11413",
          "11414",
          "11415",
          "11415",
          "11416",
          "11417",
          "11417",
          "11418",
          "11419",
          "11420",
          "11420",
          "11421",
          "11421",
          "11422",
          "11422",
          "11423",
          "11426",
          "11426",
          "11426",
          "11427",
          "11428",
          "11429",
          "11430",
          "11432",
          "11433",
          "11433",
          "11434",
          "11434",
          "11435",
          "11435",
          "11436",
          "11501",
          "11501",
          "11507",
          "11514",
          "11516",
          "11518",
          "11520",
          "11520",
          "11530",
          "11530",
          "11542",
          "11550",
          "11550",
          "11554",
          "11559",
          "11561",
          "11563",
          "11563",
          "11570",
          "11572",
          "11576",
          "11576",
          "11577",
          "11580",
          "11580",
          "11581",
          "11581",
          "11590",
          "11590",
          "11598",
          "11691",
          "11691",
          "11692",
          "11693",
          "11694",
          "11694",
          "11697",
          "11701",
          "11704",
          "11706",
          "11710",
          "11710",
          "11713",
          "11714",
          "11716",
          "11717",
          "11719",
          "11720",
          "11726",
          "11727",
          "11729",
          "11735",
          "11735",
          "11735",
          "11738",
          "11741",
          "11743",
          "11746",
          "11747",
          "11747",
          "11749",
          "11753",
          "11756",
          "11757",
          "11762",
          "11765",
          "11766",
          "11766",
          "11766",
          "11776",
          "11782",
          "11783",
          "11784",
          "11787",
          "11788",
          "11788",
          "11791",
          "11791",
          "11793",
          "11793",
          "11797",
          "11801",
          "11801",
          "11803",
          "11949",
          "11951",
          "11954",
          "11967",
          "12110",
          "12205",
          "12212",
          "12404",
          "12484",
          "12496",
          "12508",
          "12542",
          "12550",
          "12561",
          "12601",
          "12701",
          "12866",
          "12901",
          "12983",
          "13031",
          "13057",
          "13088",
          "13090",
          "13340",
          "13403",
          "13905",
          "14020",
          "14059",
          "14107",
          "14150",
          "14203",
          "14211",
          "14217",
          "14221",
          "14223",
          "14224",
          "14224",
          "14226",
          "14303",
          "14502",
          "14512",
          "14513",
          "14559",
          "14604",
          "14606",
          "14611",
          "14614",
          "15108",
          "17011",
          "19013",
          "19034",
          "19123",
          "19151",
          "19462",
          "19601",
          "19713",
          "19720",
          "19801",
          "19801",
          "19802",
          "19958"
         ],
         "marker": {
          "opacity": 0.6
         },
         "name": "",
         "subplot": "mapbox",
         "type": "choroplethmapbox",
         "z": {
          "bdata": "AQACAJMAsQABAIwAEAEGAEwALwABAEYAAQA4AAEAOQABAFcAPwACAMEAAgAqAAEARwACAFIAAQB2AJUABAAMACMAWAABACYAAwA2AAEARAA5AEEALgABAEcABAAUACYAAwAvAC0AHAABAD4AvAADABYAWQABABAAAQAdAAEABQAGACAAAQADABQAAgABAAEAAgAEAAQACAABAAQAAwACACkAAQAEAAEAAQADAAEAAQACAAEAAQABAAEAEgABAAEACgAGAAMAAgArABcAIgACABcAHQACABsAAQAEAAEABQAcABYABAAVAAIAKAAFAFEABABFAAMAPgApAAEAOwABACYAAQBXAAEASAADACsAAQBMAAQARQADAEQAAwArAAgAAQAGACIAOgBsAAIAOQACAD8AAQAJAA8ANwABAEYAEwBWAAEAAQABAAEAAQABAAEAAQABAAEAAQABAAIAAQABAAEAAQABAAEAAQACAAIABQADAAMABQABAAIAAQABAAEAAQABAAEAAQABAAEAAQABAAEAAQACAAkABAABAAMACgACAAEABgAGAAEAAQABAAMAAwABAAEABABxAAYAIQADADEAAQAZAAEAIwABABkAAQACADoBEgBPAAEALQAEACgANwABAFsAAgBFAAYAQAABACYAAgBYADIAAQApAG8AAQA3AAEAKAA4ADIAAgAzAJMABwAoAAIAJgABAHcAAgBCADUAUwAVAAEApwABACkAKAABACQALAACAHUABQCqAGMAAgAzACgAAgAZAAEAAQAvAJAAAgBHAAYAGwABABMABAAZAAgAHAAHAAMACwAZAAMAFgAZAFQAAwAjAAMAAQAYAAEAkwACAGgABgAoAAEARAABAFEABAAnAAEAEgBYAAIADwASAC0AAgALABMAAgAkACUAAgAjAC8AKgAGABgAAQAgAAEAGgABAA8AAQAMABUAEwAIAF4ALgACAEIAAQBKAAEACgACAAIAAQABAAIAAgACAAQAAQADAAEAAQADAAEAAwABAAEAAgACAAEAAQABAAMAAQADAAQAAwABAAMAAQArAAMALwAPAA4AAQABAAEAAwABAAEAAQABAAcAAgABAAEAAQABAAEAAwABAAQABwABAAEAAQAEAAQABAAEAAIAAwABAAEAAQABAAEAAgABAAUAAQABAAEAAQABAAUABAABAAEAAgACAAMAAwABAAEAAQABAAEAAwABAAEAAQABAAEAAQAEAAEAAwABAAIABAABAAEAAQABAAIAAQABAAEAAQABAAEAAQABAAEAAQABAAEAAQABAAEAAQABAAIAAQABAAEAAQADAAEAAQABAAIAAwABAAEAAQABAAEAAQABAAMAAQABAA==",
          "dtype": "i2"
         }
        }
       ],
       "layout": {
        "coloraxis": {
         "colorbar": {
          "title": {
           "text": "Number of Complaints"
          }
         },
         "colorscale": [
          [
           0,
           "rgb(255,255,204)"
          ],
          [
           0.125,
           "rgb(255,237,160)"
          ],
          [
           0.25,
           "rgb(254,217,118)"
          ],
          [
           0.375,
           "rgb(254,178,76)"
          ],
          [
           0.5,
           "rgb(253,141,60)"
          ],
          [
           0.625,
           "rgb(252,78,42)"
          ],
          [
           0.75,
           "rgb(227,26,28)"
          ],
          [
           0.875,
           "rgb(189,0,38)"
          ],
          [
           1,
           "rgb(128,0,38)"
          ]
         ]
        },
        "legend": {
         "tracegroupgap": 0
        },
        "mapbox": {
         "center": {
          "lat": 40.7128,
          "lon": -74.006
         },
         "domain": {
          "x": [
           0,
           1
          ],
          "y": [
           0,
           1
          ]
         },
         "style": "carto-positron",
         "zoom": 9
        },
        "margin": {
         "b": 0,
         "l": 0,
         "r": 0,
         "t": 50
        },
        "template": {
         "data": {
          "bar": [
           {
            "error_x": {
             "color": "#2a3f5f"
            },
            "error_y": {
             "color": "#2a3f5f"
            },
            "marker": {
             "line": {
              "color": "#E5ECF6",
              "width": 0.5
             },
             "pattern": {
              "fillmode": "overlay",
              "size": 10,
              "solidity": 0.2
             }
            },
            "type": "bar"
           }
          ],
          "barpolar": [
           {
            "marker": {
             "line": {
              "color": "#E5ECF6",
              "width": 0.5
             },
             "pattern": {
              "fillmode": "overlay",
              "size": 10,
              "solidity": 0.2
             }
            },
            "type": "barpolar"
           }
          ],
          "carpet": [
           {
            "aaxis": {
             "endlinecolor": "#2a3f5f",
             "gridcolor": "white",
             "linecolor": "white",
             "minorgridcolor": "white",
             "startlinecolor": "#2a3f5f"
            },
            "baxis": {
             "endlinecolor": "#2a3f5f",
             "gridcolor": "white",
             "linecolor": "white",
             "minorgridcolor": "white",
             "startlinecolor": "#2a3f5f"
            },
            "type": "carpet"
           }
          ],
          "choropleth": [
           {
            "colorbar": {
             "outlinewidth": 0,
             "ticks": ""
            },
            "type": "choropleth"
           }
          ],
          "contour": [
           {
            "colorbar": {
             "outlinewidth": 0,
             "ticks": ""
            },
            "colorscale": [
             [
              0,
              "#0d0887"
             ],
             [
              0.1111111111111111,
              "#46039f"
             ],
             [
              0.2222222222222222,
              "#7201a8"
             ],
             [
              0.3333333333333333,
              "#9c179e"
             ],
             [
              0.4444444444444444,
              "#bd3786"
             ],
             [
              0.5555555555555556,
              "#d8576b"
             ],
             [
              0.6666666666666666,
              "#ed7953"
             ],
             [
              0.7777777777777778,
              "#fb9f3a"
             ],
             [
              0.8888888888888888,
              "#fdca26"
             ],
             [
              1,
              "#f0f921"
             ]
            ],
            "type": "contour"
           }
          ],
          "contourcarpet": [
           {
            "colorbar": {
             "outlinewidth": 0,
             "ticks": ""
            },
            "type": "contourcarpet"
           }
          ],
          "heatmap": [
           {
            "colorbar": {
             "outlinewidth": 0,
             "ticks": ""
            },
            "colorscale": [
             [
              0,
              "#0d0887"
             ],
             [
              0.1111111111111111,
              "#46039f"
             ],
             [
              0.2222222222222222,
              "#7201a8"
             ],
             [
              0.3333333333333333,
              "#9c179e"
             ],
             [
              0.4444444444444444,
              "#bd3786"
             ],
             [
              0.5555555555555556,
              "#d8576b"
             ],
             [
              0.6666666666666666,
              "#ed7953"
             ],
             [
              0.7777777777777778,
              "#fb9f3a"
             ],
             [
              0.8888888888888888,
              "#fdca26"
             ],
             [
              1,
              "#f0f921"
             ]
            ],
            "type": "heatmap"
           }
          ],
          "histogram": [
           {
            "marker": {
             "pattern": {
              "fillmode": "overlay",
              "size": 10,
              "solidity": 0.2
             }
            },
            "type": "histogram"
           }
          ],
          "histogram2d": [
           {
            "colorbar": {
             "outlinewidth": 0,
             "ticks": ""
            },
            "colorscale": [
             [
              0,
              "#0d0887"
             ],
             [
              0.1111111111111111,
              "#46039f"
             ],
             [
              0.2222222222222222,
              "#7201a8"
             ],
             [
              0.3333333333333333,
              "#9c179e"
             ],
             [
              0.4444444444444444,
              "#bd3786"
             ],
             [
              0.5555555555555556,
              "#d8576b"
             ],
             [
              0.6666666666666666,
              "#ed7953"
             ],
             [
              0.7777777777777778,
              "#fb9f3a"
             ],
             [
              0.8888888888888888,
              "#fdca26"
             ],
             [
              1,
              "#f0f921"
             ]
            ],
            "type": "histogram2d"
           }
          ],
          "histogram2dcontour": [
           {
            "colorbar": {
             "outlinewidth": 0,
             "ticks": ""
            },
            "colorscale": [
             [
              0,
              "#0d0887"
             ],
             [
              0.1111111111111111,
              "#46039f"
             ],
             [
              0.2222222222222222,
              "#7201a8"
             ],
             [
              0.3333333333333333,
              "#9c179e"
             ],
             [
              0.4444444444444444,
              "#bd3786"
             ],
             [
              0.5555555555555556,
              "#d8576b"
             ],
             [
              0.6666666666666666,
              "#ed7953"
             ],
             [
              0.7777777777777778,
              "#fb9f3a"
             ],
             [
              0.8888888888888888,
              "#fdca26"
             ],
             [
              1,
              "#f0f921"
             ]
            ],
            "type": "histogram2dcontour"
           }
          ],
          "mesh3d": [
           {
            "colorbar": {
             "outlinewidth": 0,
             "ticks": ""
            },
            "type": "mesh3d"
           }
          ],
          "parcoords": [
           {
            "line": {
             "colorbar": {
              "outlinewidth": 0,
              "ticks": ""
             }
            },
            "type": "parcoords"
           }
          ],
          "pie": [
           {
            "automargin": true,
            "type": "pie"
           }
          ],
          "scatter": [
           {
            "fillpattern": {
             "fillmode": "overlay",
             "size": 10,
             "solidity": 0.2
            },
            "type": "scatter"
           }
          ],
          "scatter3d": [
           {
            "line": {
             "colorbar": {
              "outlinewidth": 0,
              "ticks": ""
             }
            },
            "marker": {
             "colorbar": {
              "outlinewidth": 0,
              "ticks": ""
             }
            },
            "type": "scatter3d"
           }
          ],
          "scattercarpet": [
           {
            "marker": {
             "colorbar": {
              "outlinewidth": 0,
              "ticks": ""
             }
            },
            "type": "scattercarpet"
           }
          ],
          "scattergeo": [
           {
            "marker": {
             "colorbar": {
              "outlinewidth": 0,
              "ticks": ""
             }
            },
            "type": "scattergeo"
           }
          ],
          "scattergl": [
           {
            "marker": {
             "colorbar": {
              "outlinewidth": 0,
              "ticks": ""
             }
            },
            "type": "scattergl"
           }
          ],
          "scattermap": [
           {
            "marker": {
             "colorbar": {
              "outlinewidth": 0,
              "ticks": ""
             }
            },
            "type": "scattermap"
           }
          ],
          "scattermapbox": [
           {
            "marker": {
             "colorbar": {
              "outlinewidth": 0,
              "ticks": ""
             }
            },
            "type": "scattermapbox"
           }
          ],
          "scatterpolar": [
           {
            "marker": {
             "colorbar": {
              "outlinewidth": 0,
              "ticks": ""
             }
            },
            "type": "scatterpolar"
           }
          ],
          "scatterpolargl": [
           {
            "marker": {
             "colorbar": {
              "outlinewidth": 0,
              "ticks": ""
             }
            },
            "type": "scatterpolargl"
           }
          ],
          "scatterternary": [
           {
            "marker": {
             "colorbar": {
              "outlinewidth": 0,
              "ticks": ""
             }
            },
            "type": "scatterternary"
           }
          ],
          "surface": [
           {
            "colorbar": {
             "outlinewidth": 0,
             "ticks": ""
            },
            "colorscale": [
             [
              0,
              "#0d0887"
             ],
             [
              0.1111111111111111,
              "#46039f"
             ],
             [
              0.2222222222222222,
              "#7201a8"
             ],
             [
              0.3333333333333333,
              "#9c179e"
             ],
             [
              0.4444444444444444,
              "#bd3786"
             ],
             [
              0.5555555555555556,
              "#d8576b"
             ],
             [
              0.6666666666666666,
              "#ed7953"
             ],
             [
              0.7777777777777778,
              "#fb9f3a"
             ],
             [
              0.8888888888888888,
              "#fdca26"
             ],
             [
              1,
              "#f0f921"
             ]
            ],
            "type": "surface"
           }
          ],
          "table": [
           {
            "cells": {
             "fill": {
              "color": "#EBF0F8"
             },
             "line": {
              "color": "white"
             }
            },
            "header": {
             "fill": {
              "color": "#C8D4E3"
             },
             "line": {
              "color": "white"
             }
            },
            "type": "table"
           }
          ]
         },
         "layout": {
          "annotationdefaults": {
           "arrowcolor": "#2a3f5f",
           "arrowhead": 0,
           "arrowwidth": 1
          },
          "autotypenumbers": "strict",
          "coloraxis": {
           "colorbar": {
            "outlinewidth": 0,
            "ticks": ""
           }
          },
          "colorscale": {
           "diverging": [
            [
             0,
             "#8e0152"
            ],
            [
             0.1,
             "#c51b7d"
            ],
            [
             0.2,
             "#de77ae"
            ],
            [
             0.3,
             "#f1b6da"
            ],
            [
             0.4,
             "#fde0ef"
            ],
            [
             0.5,
             "#f7f7f7"
            ],
            [
             0.6,
             "#e6f5d0"
            ],
            [
             0.7,
             "#b8e186"
            ],
            [
             0.8,
             "#7fbc41"
            ],
            [
             0.9,
             "#4d9221"
            ],
            [
             1,
             "#276419"
            ]
           ],
           "sequential": [
            [
             0,
             "#0d0887"
            ],
            [
             0.1111111111111111,
             "#46039f"
            ],
            [
             0.2222222222222222,
             "#7201a8"
            ],
            [
             0.3333333333333333,
             "#9c179e"
            ],
            [
             0.4444444444444444,
             "#bd3786"
            ],
            [
             0.5555555555555556,
             "#d8576b"
            ],
            [
             0.6666666666666666,
             "#ed7953"
            ],
            [
             0.7777777777777778,
             "#fb9f3a"
            ],
            [
             0.8888888888888888,
             "#fdca26"
            ],
            [
             1,
             "#f0f921"
            ]
           ],
           "sequentialminus": [
            [
             0,
             "#0d0887"
            ],
            [
             0.1111111111111111,
             "#46039f"
            ],
            [
             0.2222222222222222,
             "#7201a8"
            ],
            [
             0.3333333333333333,
             "#9c179e"
            ],
            [
             0.4444444444444444,
             "#bd3786"
            ],
            [
             0.5555555555555556,
             "#d8576b"
            ],
            [
             0.6666666666666666,
             "#ed7953"
            ],
            [
             0.7777777777777778,
             "#fb9f3a"
            ],
            [
             0.8888888888888888,
             "#fdca26"
            ],
            [
             1,
             "#f0f921"
            ]
           ]
          },
          "colorway": [
           "#636efa",
           "#EF553B",
           "#00cc96",
           "#ab63fa",
           "#FFA15A",
           "#19d3f3",
           "#FF6692",
           "#B6E880",
           "#FF97FF",
           "#FECB52"
          ],
          "font": {
           "color": "#2a3f5f"
          },
          "geo": {
           "bgcolor": "white",
           "lakecolor": "white",
           "landcolor": "#E5ECF6",
           "showlakes": true,
           "showland": true,
           "subunitcolor": "white"
          },
          "hoverlabel": {
           "align": "left"
          },
          "hovermode": "closest",
          "mapbox": {
           "style": "light"
          },
          "paper_bgcolor": "white",
          "plot_bgcolor": "#E5ECF6",
          "polar": {
           "angularaxis": {
            "gridcolor": "white",
            "linecolor": "white",
            "ticks": ""
           },
           "bgcolor": "#E5ECF6",
           "radialaxis": {
            "gridcolor": "white",
            "linecolor": "white",
            "ticks": ""
           }
          },
          "scene": {
           "xaxis": {
            "backgroundcolor": "#E5ECF6",
            "gridcolor": "white",
            "gridwidth": 2,
            "linecolor": "white",
            "showbackground": true,
            "ticks": "",
            "zerolinecolor": "white"
           },
           "yaxis": {
            "backgroundcolor": "#E5ECF6",
            "gridcolor": "white",
            "gridwidth": 2,
            "linecolor": "white",
            "showbackground": true,
            "ticks": "",
            "zerolinecolor": "white"
           },
           "zaxis": {
            "backgroundcolor": "#E5ECF6",
            "gridcolor": "white",
            "gridwidth": 2,
            "linecolor": "white",
            "showbackground": true,
            "ticks": "",
            "zerolinecolor": "white"
           }
          },
          "shapedefaults": {
           "line": {
            "color": "#2a3f5f"
           }
          },
          "ternary": {
           "aaxis": {
            "gridcolor": "white",
            "linecolor": "white",
            "ticks": ""
           },
           "baxis": {
            "gridcolor": "white",
            "linecolor": "white",
            "ticks": ""
           },
           "bgcolor": "#E5ECF6",
           "caxis": {
            "gridcolor": "white",
            "linecolor": "white",
            "ticks": ""
           }
          },
          "title": {
           "x": 0.05
          },
          "xaxis": {
           "automargin": true,
           "gridcolor": "white",
           "linecolor": "white",
           "ticks": "",
           "title": {
            "standoff": 15
           },
           "zerolinecolor": "white",
           "zerolinewidth": 2
          },
          "yaxis": {
           "automargin": true,
           "gridcolor": "white",
           "linecolor": "white",
           "ticks": "",
           "title": {
            "standoff": 15
           },
           "zerolinecolor": "white",
           "zerolinewidth": 2
          }
         }
        },
        "title": {
         "text": "Complaint Distribution by ZIP Code and Borough in NYC"
        }
       }
      }
     },
     "metadata": {},
     "output_type": "display_data"
    }
   ],
   "source": [
    "df = pd.read_csv('/Users/carinayan/Downloads/dcwp_complaints_project/data/cleaned_consumer_complaints.csv')\n",
    "\n",
    "df['Postcode'] = df['Postcode'].astype(str)\n",
    "\n",
    "# Keep only ZIP codes in the New York City area (starting with '1' and 5 digits total)\n",
    "df = df[df['Postcode'].str.match(r'^1\\d{4}$')]\n",
    "\n",
    "# Fill missing borough values with \"Unknown\" to avoid null issues in visualization\n",
    "df['Borough'] = df['Borough'].fillna('Unknown')\n",
    "\n",
    "# Group the data by ZIP code and Borough to count the number of complaints in each area\n",
    "zipcode_counts = (\n",
    "    df.groupby(['Postcode', 'Borough'])\n",
    "    .size()\n",
    "    .reset_index(name='Complaint Count')\n",
    ")\n",
    "\n",
    "# Create a choropleth map using Plotly Express and a public GeoJSON ZIP code file\n",
    "fig = px.choropleth_mapbox(\n",
    "    zipcode_counts,\n",
    "    geojson=\"https://raw.githubusercontent.com/OpenDataDE/State-zip-code-GeoJSON/master/ny_new_york_zip_codes_geo.min.json\",  # GeoJSON boundary file for NYC ZIP codes\n",
    "    locations='Postcode',                   # Column in the data that matches the ZIP code\n",
    "    featureidkey=\"properties.ZCTA5CE10\",   \n",
    "    color='Complaint Count',                # Color intensity based on complaint count\n",
    "    color_continuous_scale=\"YlOrRd\",    \n",
    "    mapbox_style=\"carto-positron\",       \n",
    "    zoom=9,                                 # Initial zoom level on NYC\n",
    "    center={\"lat\": 40.7128, \"lon\": -74.0060},  # Center the map on NYC coordinates\n",
    "    opacity=0.6,                            # Set layer transparency\n",
    "    labels={'Complaint Count': 'Number of Complaints'},  \n",
    "    hover_data={'Postcode': True, 'Borough': True, 'Complaint Count': True},  # Info on hover\n",
    "    title='Complaint Distribution by ZIP Code and Borough in NYC'\n",
    ")\n",
    "\n",
    "fig.update_layout(margin={\"r\":0,\"t\":50,\"l\":0,\"b\":0})\n",
    "fig.show()\n"
   ]
  },
  {
   "cell_type": "code",
   "execution_count": null,
   "id": "e6a32c96",
   "metadata": {},
   "outputs": [
    {
     "data": {
      "application/vnd.plotly.v1+json": {
       "config": {
        "plotlyServerURL": "https://plot.ly"
       },
       "data": [
        {
         "cells": {
          "align": "left",
          "fill": {
           "color": "lavender"
          },
          "values": [
           [
            "Unknown",
            "Advertising/Misleading - A02",
            "Overcharge",
            "Non-Delivery of Goods - N01",
            "Unlicensed",
            "Exchange/Refund/Return",
            "Billing Dispute - B02",
            "Sidewalk Blocked",
            "Lost/Stolen/Damaged Property",
            "Damaged Goods - D01"
           ],
           [
            3327,
            1088,
            1011,
            957,
            779,
            736,
            522,
            435,
            393,
            334
           ],
           [
            171.09,
            4.62,
            10.5,
            3.84,
            0,
            54.52,
            122.94,
            0,
            3.16,
            18.79
           ],
           [
            1.44,
            0.18,
            1.19,
            0.42,
            0.13,
            2.04,
            6.13,
            0,
            1.02,
            0.6
           ]
          ]
         },
         "header": {
          "align": "left",
          "fill": {
           "color": "paleturquoise"
          },
          "values": [
           "Complaint Type",
           "Complaint Count",
           "Average Compensation ($)",
           "Satisfaction Rate (%)"
          ]
         },
         "type": "table"
        }
       ],
       "layout": {
        "margin": {
         "b": 20,
         "l": 20,
         "r": 20,
         "t": 80
        },
        "template": {
         "data": {
          "bar": [
           {
            "error_x": {
             "color": "#2a3f5f"
            },
            "error_y": {
             "color": "#2a3f5f"
            },
            "marker": {
             "line": {
              "color": "#E5ECF6",
              "width": 0.5
             },
             "pattern": {
              "fillmode": "overlay",
              "size": 10,
              "solidity": 0.2
             }
            },
            "type": "bar"
           }
          ],
          "barpolar": [
           {
            "marker": {
             "line": {
              "color": "#E5ECF6",
              "width": 0.5
             },
             "pattern": {
              "fillmode": "overlay",
              "size": 10,
              "solidity": 0.2
             }
            },
            "type": "barpolar"
           }
          ],
          "carpet": [
           {
            "aaxis": {
             "endlinecolor": "#2a3f5f",
             "gridcolor": "white",
             "linecolor": "white",
             "minorgridcolor": "white",
             "startlinecolor": "#2a3f5f"
            },
            "baxis": {
             "endlinecolor": "#2a3f5f",
             "gridcolor": "white",
             "linecolor": "white",
             "minorgridcolor": "white",
             "startlinecolor": "#2a3f5f"
            },
            "type": "carpet"
           }
          ],
          "choropleth": [
           {
            "colorbar": {
             "outlinewidth": 0,
             "ticks": ""
            },
            "type": "choropleth"
           }
          ],
          "contour": [
           {
            "colorbar": {
             "outlinewidth": 0,
             "ticks": ""
            },
            "colorscale": [
             [
              0,
              "#0d0887"
             ],
             [
              0.1111111111111111,
              "#46039f"
             ],
             [
              0.2222222222222222,
              "#7201a8"
             ],
             [
              0.3333333333333333,
              "#9c179e"
             ],
             [
              0.4444444444444444,
              "#bd3786"
             ],
             [
              0.5555555555555556,
              "#d8576b"
             ],
             [
              0.6666666666666666,
              "#ed7953"
             ],
             [
              0.7777777777777778,
              "#fb9f3a"
             ],
             [
              0.8888888888888888,
              "#fdca26"
             ],
             [
              1,
              "#f0f921"
             ]
            ],
            "type": "contour"
           }
          ],
          "contourcarpet": [
           {
            "colorbar": {
             "outlinewidth": 0,
             "ticks": ""
            },
            "type": "contourcarpet"
           }
          ],
          "heatmap": [
           {
            "colorbar": {
             "outlinewidth": 0,
             "ticks": ""
            },
            "colorscale": [
             [
              0,
              "#0d0887"
             ],
             [
              0.1111111111111111,
              "#46039f"
             ],
             [
              0.2222222222222222,
              "#7201a8"
             ],
             [
              0.3333333333333333,
              "#9c179e"
             ],
             [
              0.4444444444444444,
              "#bd3786"
             ],
             [
              0.5555555555555556,
              "#d8576b"
             ],
             [
              0.6666666666666666,
              "#ed7953"
             ],
             [
              0.7777777777777778,
              "#fb9f3a"
             ],
             [
              0.8888888888888888,
              "#fdca26"
             ],
             [
              1,
              "#f0f921"
             ]
            ],
            "type": "heatmap"
           }
          ],
          "histogram": [
           {
            "marker": {
             "pattern": {
              "fillmode": "overlay",
              "size": 10,
              "solidity": 0.2
             }
            },
            "type": "histogram"
           }
          ],
          "histogram2d": [
           {
            "colorbar": {
             "outlinewidth": 0,
             "ticks": ""
            },
            "colorscale": [
             [
              0,
              "#0d0887"
             ],
             [
              0.1111111111111111,
              "#46039f"
             ],
             [
              0.2222222222222222,
              "#7201a8"
             ],
             [
              0.3333333333333333,
              "#9c179e"
             ],
             [
              0.4444444444444444,
              "#bd3786"
             ],
             [
              0.5555555555555556,
              "#d8576b"
             ],
             [
              0.6666666666666666,
              "#ed7953"
             ],
             [
              0.7777777777777778,
              "#fb9f3a"
             ],
             [
              0.8888888888888888,
              "#fdca26"
             ],
             [
              1,
              "#f0f921"
             ]
            ],
            "type": "histogram2d"
           }
          ],
          "histogram2dcontour": [
           {
            "colorbar": {
             "outlinewidth": 0,
             "ticks": ""
            },
            "colorscale": [
             [
              0,
              "#0d0887"
             ],
             [
              0.1111111111111111,
              "#46039f"
             ],
             [
              0.2222222222222222,
              "#7201a8"
             ],
             [
              0.3333333333333333,
              "#9c179e"
             ],
             [
              0.4444444444444444,
              "#bd3786"
             ],
             [
              0.5555555555555556,
              "#d8576b"
             ],
             [
              0.6666666666666666,
              "#ed7953"
             ],
             [
              0.7777777777777778,
              "#fb9f3a"
             ],
             [
              0.8888888888888888,
              "#fdca26"
             ],
             [
              1,
              "#f0f921"
             ]
            ],
            "type": "histogram2dcontour"
           }
          ],
          "mesh3d": [
           {
            "colorbar": {
             "outlinewidth": 0,
             "ticks": ""
            },
            "type": "mesh3d"
           }
          ],
          "parcoords": [
           {
            "line": {
             "colorbar": {
              "outlinewidth": 0,
              "ticks": ""
             }
            },
            "type": "parcoords"
           }
          ],
          "pie": [
           {
            "automargin": true,
            "type": "pie"
           }
          ],
          "scatter": [
           {
            "fillpattern": {
             "fillmode": "overlay",
             "size": 10,
             "solidity": 0.2
            },
            "type": "scatter"
           }
          ],
          "scatter3d": [
           {
            "line": {
             "colorbar": {
              "outlinewidth": 0,
              "ticks": ""
             }
            },
            "marker": {
             "colorbar": {
              "outlinewidth": 0,
              "ticks": ""
             }
            },
            "type": "scatter3d"
           }
          ],
          "scattercarpet": [
           {
            "marker": {
             "colorbar": {
              "outlinewidth": 0,
              "ticks": ""
             }
            },
            "type": "scattercarpet"
           }
          ],
          "scattergeo": [
           {
            "marker": {
             "colorbar": {
              "outlinewidth": 0,
              "ticks": ""
             }
            },
            "type": "scattergeo"
           }
          ],
          "scattergl": [
           {
            "marker": {
             "colorbar": {
              "outlinewidth": 0,
              "ticks": ""
             }
            },
            "type": "scattergl"
           }
          ],
          "scattermap": [
           {
            "marker": {
             "colorbar": {
              "outlinewidth": 0,
              "ticks": ""
             }
            },
            "type": "scattermap"
           }
          ],
          "scattermapbox": [
           {
            "marker": {
             "colorbar": {
              "outlinewidth": 0,
              "ticks": ""
             }
            },
            "type": "scattermapbox"
           }
          ],
          "scatterpolar": [
           {
            "marker": {
             "colorbar": {
              "outlinewidth": 0,
              "ticks": ""
             }
            },
            "type": "scatterpolar"
           }
          ],
          "scatterpolargl": [
           {
            "marker": {
             "colorbar": {
              "outlinewidth": 0,
              "ticks": ""
             }
            },
            "type": "scatterpolargl"
           }
          ],
          "scatterternary": [
           {
            "marker": {
             "colorbar": {
              "outlinewidth": 0,
              "ticks": ""
             }
            },
            "type": "scatterternary"
           }
          ],
          "surface": [
           {
            "colorbar": {
             "outlinewidth": 0,
             "ticks": ""
            },
            "colorscale": [
             [
              0,
              "#0d0887"
             ],
             [
              0.1111111111111111,
              "#46039f"
             ],
             [
              0.2222222222222222,
              "#7201a8"
             ],
             [
              0.3333333333333333,
              "#9c179e"
             ],
             [
              0.4444444444444444,
              "#bd3786"
             ],
             [
              0.5555555555555556,
              "#d8576b"
             ],
             [
              0.6666666666666666,
              "#ed7953"
             ],
             [
              0.7777777777777778,
              "#fb9f3a"
             ],
             [
              0.8888888888888888,
              "#fdca26"
             ],
             [
              1,
              "#f0f921"
             ]
            ],
            "type": "surface"
           }
          ],
          "table": [
           {
            "cells": {
             "fill": {
              "color": "#EBF0F8"
             },
             "line": {
              "color": "white"
             }
            },
            "header": {
             "fill": {
              "color": "#C8D4E3"
             },
             "line": {
              "color": "white"
             }
            },
            "type": "table"
           }
          ]
         },
         "layout": {
          "annotationdefaults": {
           "arrowcolor": "#2a3f5f",
           "arrowhead": 0,
           "arrowwidth": 1
          },
          "autotypenumbers": "strict",
          "coloraxis": {
           "colorbar": {
            "outlinewidth": 0,
            "ticks": ""
           }
          },
          "colorscale": {
           "diverging": [
            [
             0,
             "#8e0152"
            ],
            [
             0.1,
             "#c51b7d"
            ],
            [
             0.2,
             "#de77ae"
            ],
            [
             0.3,
             "#f1b6da"
            ],
            [
             0.4,
             "#fde0ef"
            ],
            [
             0.5,
             "#f7f7f7"
            ],
            [
             0.6,
             "#e6f5d0"
            ],
            [
             0.7,
             "#b8e186"
            ],
            [
             0.8,
             "#7fbc41"
            ],
            [
             0.9,
             "#4d9221"
            ],
            [
             1,
             "#276419"
            ]
           ],
           "sequential": [
            [
             0,
             "#0d0887"
            ],
            [
             0.1111111111111111,
             "#46039f"
            ],
            [
             0.2222222222222222,
             "#7201a8"
            ],
            [
             0.3333333333333333,
             "#9c179e"
            ],
            [
             0.4444444444444444,
             "#bd3786"
            ],
            [
             0.5555555555555556,
             "#d8576b"
            ],
            [
             0.6666666666666666,
             "#ed7953"
            ],
            [
             0.7777777777777778,
             "#fb9f3a"
            ],
            [
             0.8888888888888888,
             "#fdca26"
            ],
            [
             1,
             "#f0f921"
            ]
           ],
           "sequentialminus": [
            [
             0,
             "#0d0887"
            ],
            [
             0.1111111111111111,
             "#46039f"
            ],
            [
             0.2222222222222222,
             "#7201a8"
            ],
            [
             0.3333333333333333,
             "#9c179e"
            ],
            [
             0.4444444444444444,
             "#bd3786"
            ],
            [
             0.5555555555555556,
             "#d8576b"
            ],
            [
             0.6666666666666666,
             "#ed7953"
            ],
            [
             0.7777777777777778,
             "#fb9f3a"
            ],
            [
             0.8888888888888888,
             "#fdca26"
            ],
            [
             1,
             "#f0f921"
            ]
           ]
          },
          "colorway": [
           "#636efa",
           "#EF553B",
           "#00cc96",
           "#ab63fa",
           "#FFA15A",
           "#19d3f3",
           "#FF6692",
           "#B6E880",
           "#FF97FF",
           "#FECB52"
          ],
          "font": {
           "color": "#2a3f5f"
          },
          "geo": {
           "bgcolor": "white",
           "lakecolor": "white",
           "landcolor": "#E5ECF6",
           "showlakes": true,
           "showland": true,
           "subunitcolor": "white"
          },
          "hoverlabel": {
           "align": "left"
          },
          "hovermode": "closest",
          "mapbox": {
           "style": "light"
          },
          "paper_bgcolor": "white",
          "plot_bgcolor": "#E5ECF6",
          "polar": {
           "angularaxis": {
            "gridcolor": "white",
            "linecolor": "white",
            "ticks": ""
           },
           "bgcolor": "#E5ECF6",
           "radialaxis": {
            "gridcolor": "white",
            "linecolor": "white",
            "ticks": ""
           }
          },
          "scene": {
           "xaxis": {
            "backgroundcolor": "#E5ECF6",
            "gridcolor": "white",
            "gridwidth": 2,
            "linecolor": "white",
            "showbackground": true,
            "ticks": "",
            "zerolinecolor": "white"
           },
           "yaxis": {
            "backgroundcolor": "#E5ECF6",
            "gridcolor": "white",
            "gridwidth": 2,
            "linecolor": "white",
            "showbackground": true,
            "ticks": "",
            "zerolinecolor": "white"
           },
           "zaxis": {
            "backgroundcolor": "#E5ECF6",
            "gridcolor": "white",
            "gridwidth": 2,
            "linecolor": "white",
            "showbackground": true,
            "ticks": "",
            "zerolinecolor": "white"
           }
          },
          "shapedefaults": {
           "line": {
            "color": "#2a3f5f"
           }
          },
          "ternary": {
           "aaxis": {
            "gridcolor": "white",
            "linecolor": "white",
            "ticks": ""
           },
           "baxis": {
            "gridcolor": "white",
            "linecolor": "white",
            "ticks": ""
           },
           "bgcolor": "#E5ECF6",
           "caxis": {
            "gridcolor": "white",
            "linecolor": "white",
            "ticks": ""
           }
          },
          "title": {
           "x": 0.05
          },
          "xaxis": {
           "automargin": true,
           "gridcolor": "white",
           "linecolor": "white",
           "ticks": "",
           "title": {
            "standoff": 15
           },
           "zerolinecolor": "white",
           "zerolinewidth": 2
          },
          "yaxis": {
           "automargin": true,
           "gridcolor": "white",
           "linecolor": "white",
           "ticks": "",
           "title": {
            "standoff": 15
           },
           "zerolinecolor": "white",
           "zerolinewidth": 2
          }
         }
        },
        "title": {
         "text": "Summary Table: Top 10 Complaint Types"
        }
       }
      }
     },
     "metadata": {},
     "output_type": "display_data"
    }
   ],
   "source": [
    "df = pd.read_csv('/Users/carinayan/Downloads/dcwp_complaints_project/data/cleaned_consumer_complaints.csv')\n",
    "\n",
    "# Ensure numeric fields are properly converted to numeric values and fill any invalid/missing values with 0\n",
    "df['Refund Amount'] = pd.to_numeric(df['Refund Amount'], errors='coerce').fillna(0)\n",
    "df['Contract Cancelled Amount'] = pd.to_numeric(df['Contract Cancelled Amount'], errors='coerce').fillna(0)\n",
    "\n",
    "# Compute total compensation by summing refund and contract cancellation amounts\n",
    "df['Total Compensation'] = df['Refund Amount'] + df['Contract Cancelled Amount']\n",
    "\n",
    "# Group by complaint type and calculate:\n",
    "# - total number of complaints\n",
    "# - average compensation\n",
    "# - average satisfaction rate (as a proportion)\n",
    "summary = (\n",
    "    df.groupby('Complaint Code')\n",
    "    .agg(\n",
    "        Complaint_Count=('Complaint Code', 'count'),\n",
    "        Average_Compensation=('Total Compensation', 'mean'),\n",
    "        Satisfaction_Rate=('Satisfaction', 'mean')\n",
    "    )\n",
    "    .reset_index()\n",
    ")\n",
    "\n",
    "# Convert satisfaction rate to percentage and round to 2 decimal places\n",
    "summary['Satisfaction_Rate'] = (summary['Satisfaction_Rate'] * 100).round(2)\n",
    "\n",
    "# Keep only the top 10 complaint types by count\n",
    "summary = summary.sort_values('Complaint_Count', ascending=False).head(10)\n",
    "\n",
    "# Round average compensation values to 2 decimal places for display\n",
    "summary['Average_Compensation'] = summary['Average_Compensation'].round(2)\n",
    "\n",
    "fig = go.Figure(data=[go.Table(\n",
    "    header=dict(\n",
    "        values=[\"Complaint Type\", \"Complaint Count\", \"Average Compensation ($)\", \"Satisfaction Rate (%)\"],\n",
    "        fill_color='paleturquoise',  \n",
    "        align='left'\n",
    "    ),\n",
    "    cells=dict(\n",
    "        values=[\n",
    "            summary['Complaint Code'],\n",
    "            summary['Complaint_Count'],\n",
    "            summary['Average_Compensation'],\n",
    "            summary['Satisfaction_Rate']\n",
    "        ],\n",
    "        fill_color='lavender',  \n",
    "        align='left'\n",
    "    )\n",
    ")])\n",
    "\n",
    "fig.update_layout(\n",
    "    title=\"Summary Table: Top 10 Complaint Types\",\n",
    "    margin=dict(l=20, r=20, t=80, b=20)\n",
    ")\n",
    "\n",
    "\n",
    "fig.show()\n"
   ]
  },
  {
   "cell_type": "code",
   "execution_count": null,
   "id": "ce5cf152",
   "metadata": {},
   "outputs": [
    {
     "data": {
      "application/vnd.plotly.v1+json": {
       "config": {
        "plotlyServerURL": "https://plot.ly"
       },
       "data": [
        {
         "bingroup": "x",
         "hovertemplate": "Days to Resolve Complaint=%{x}<br>count=%{y}<extra></extra>",
         "legendgroup": "",
         "marker": {
          "color": "#636efa",
          "pattern": {
           "shape": ""
          }
         },
         "name": "",
         "nbinsx": 50,
         "orientation": "v",
         "showlegend": false,
         "type": "histogram",
         "x": {
          "bdata": "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",
          "dtype": "i2"
         },
         "xaxis": "x",
         "yaxis": "y"
        }
       ],
       "layout": {
        "bargap": 0.1,
        "barmode": "relative",
        "legend": {
         "tracegroupgap": 0
        },
        "template": {
         "data": {
          "bar": [
           {
            "error_x": {
             "color": "#2a3f5f"
            },
            "error_y": {
             "color": "#2a3f5f"
            },
            "marker": {
             "line": {
              "color": "#E5ECF6",
              "width": 0.5
             },
             "pattern": {
              "fillmode": "overlay",
              "size": 10,
              "solidity": 0.2
             }
            },
            "type": "bar"
           }
          ],
          "barpolar": [
           {
            "marker": {
             "line": {
              "color": "#E5ECF6",
              "width": 0.5
             },
             "pattern": {
              "fillmode": "overlay",
              "size": 10,
              "solidity": 0.2
             }
            },
            "type": "barpolar"
           }
          ],
          "carpet": [
           {
            "aaxis": {
             "endlinecolor": "#2a3f5f",
             "gridcolor": "white",
             "linecolor": "white",
             "minorgridcolor": "white",
             "startlinecolor": "#2a3f5f"
            },
            "baxis": {
             "endlinecolor": "#2a3f5f",
             "gridcolor": "white",
             "linecolor": "white",
             "minorgridcolor": "white",
             "startlinecolor": "#2a3f5f"
            },
            "type": "carpet"
           }
          ],
          "choropleth": [
           {
            "colorbar": {
             "outlinewidth": 0,
             "ticks": ""
            },
            "type": "choropleth"
           }
          ],
          "contour": [
           {
            "colorbar": {
             "outlinewidth": 0,
             "ticks": ""
            },
            "colorscale": [
             [
              0,
              "#0d0887"
             ],
             [
              0.1111111111111111,
              "#46039f"
             ],
             [
              0.2222222222222222,
              "#7201a8"
             ],
             [
              0.3333333333333333,
              "#9c179e"
             ],
             [
              0.4444444444444444,
              "#bd3786"
             ],
             [
              0.5555555555555556,
              "#d8576b"
             ],
             [
              0.6666666666666666,
              "#ed7953"
             ],
             [
              0.7777777777777778,
              "#fb9f3a"
             ],
             [
              0.8888888888888888,
              "#fdca26"
             ],
             [
              1,
              "#f0f921"
             ]
            ],
            "type": "contour"
           }
          ],
          "contourcarpet": [
           {
            "colorbar": {
             "outlinewidth": 0,
             "ticks": ""
            },
            "type": "contourcarpet"
           }
          ],
          "heatmap": [
           {
            "colorbar": {
             "outlinewidth": 0,
             "ticks": ""
            },
            "colorscale": [
             [
              0,
              "#0d0887"
             ],
             [
              0.1111111111111111,
              "#46039f"
             ],
             [
              0.2222222222222222,
              "#7201a8"
             ],
             [
              0.3333333333333333,
              "#9c179e"
             ],
             [
              0.4444444444444444,
              "#bd3786"
             ],
             [
              0.5555555555555556,
              "#d8576b"
             ],
             [
              0.6666666666666666,
              "#ed7953"
             ],
             [
              0.7777777777777778,
              "#fb9f3a"
             ],
             [
              0.8888888888888888,
              "#fdca26"
             ],
             [
              1,
              "#f0f921"
             ]
            ],
            "type": "heatmap"
           }
          ],
          "histogram": [
           {
            "marker": {
             "pattern": {
              "fillmode": "overlay",
              "size": 10,
              "solidity": 0.2
             }
            },
            "type": "histogram"
           }
          ],
          "histogram2d": [
           {
            "colorbar": {
             "outlinewidth": 0,
             "ticks": ""
            },
            "colorscale": [
             [
              0,
              "#0d0887"
             ],
             [
              0.1111111111111111,
              "#46039f"
             ],
             [
              0.2222222222222222,
              "#7201a8"
             ],
             [
              0.3333333333333333,
              "#9c179e"
             ],
             [
              0.4444444444444444,
              "#bd3786"
             ],
             [
              0.5555555555555556,
              "#d8576b"
             ],
             [
              0.6666666666666666,
              "#ed7953"
             ],
             [
              0.7777777777777778,
              "#fb9f3a"
             ],
             [
              0.8888888888888888,
              "#fdca26"
             ],
             [
              1,
              "#f0f921"
             ]
            ],
            "type": "histogram2d"
           }
          ],
          "histogram2dcontour": [
           {
            "colorbar": {
             "outlinewidth": 0,
             "ticks": ""
            },
            "colorscale": [
             [
              0,
              "#0d0887"
             ],
             [
              0.1111111111111111,
              "#46039f"
             ],
             [
              0.2222222222222222,
              "#7201a8"
             ],
             [
              0.3333333333333333,
              "#9c179e"
             ],
             [
              0.4444444444444444,
              "#bd3786"
             ],
             [
              0.5555555555555556,
              "#d8576b"
             ],
             [
              0.6666666666666666,
              "#ed7953"
             ],
             [
              0.7777777777777778,
              "#fb9f3a"
             ],
             [
              0.8888888888888888,
              "#fdca26"
             ],
             [
              1,
              "#f0f921"
             ]
            ],
            "type": "histogram2dcontour"
           }
          ],
          "mesh3d": [
           {
            "colorbar": {
             "outlinewidth": 0,
             "ticks": ""
            },
            "type": "mesh3d"
           }
          ],
          "parcoords": [
           {
            "line": {
             "colorbar": {
              "outlinewidth": 0,
              "ticks": ""
             }
            },
            "type": "parcoords"
           }
          ],
          "pie": [
           {
            "automargin": true,
            "type": "pie"
           }
          ],
          "scatter": [
           {
            "fillpattern": {
             "fillmode": "overlay",
             "size": 10,
             "solidity": 0.2
            },
            "type": "scatter"
           }
          ],
          "scatter3d": [
           {
            "line": {
             "colorbar": {
              "outlinewidth": 0,
              "ticks": ""
             }
            },
            "marker": {
             "colorbar": {
              "outlinewidth": 0,
              "ticks": ""
             }
            },
            "type": "scatter3d"
           }
          ],
          "scattercarpet": [
           {
            "marker": {
             "colorbar": {
              "outlinewidth": 0,
              "ticks": ""
             }
            },
            "type": "scattercarpet"
           }
          ],
          "scattergeo": [
           {
            "marker": {
             "colorbar": {
              "outlinewidth": 0,
              "ticks": ""
             }
            },
            "type": "scattergeo"
           }
          ],
          "scattergl": [
           {
            "marker": {
             "colorbar": {
              "outlinewidth": 0,
              "ticks": ""
             }
            },
            "type": "scattergl"
           }
          ],
          "scattermap": [
           {
            "marker": {
             "colorbar": {
              "outlinewidth": 0,
              "ticks": ""
             }
            },
            "type": "scattermap"
           }
          ],
          "scattermapbox": [
           {
            "marker": {
             "colorbar": {
              "outlinewidth": 0,
              "ticks": ""
             }
            },
            "type": "scattermapbox"
           }
          ],
          "scatterpolar": [
           {
            "marker": {
             "colorbar": {
              "outlinewidth": 0,
              "ticks": ""
             }
            },
            "type": "scatterpolar"
           }
          ],
          "scatterpolargl": [
           {
            "marker": {
             "colorbar": {
              "outlinewidth": 0,
              "ticks": ""
             }
            },
            "type": "scatterpolargl"
           }
          ],
          "scatterternary": [
           {
            "marker": {
             "colorbar": {
              "outlinewidth": 0,
              "ticks": ""
             }
            },
            "type": "scatterternary"
           }
          ],
          "surface": [
           {
            "colorbar": {
             "outlinewidth": 0,
             "ticks": ""
            },
            "colorscale": [
             [
              0,
              "#0d0887"
             ],
             [
              0.1111111111111111,
              "#46039f"
             ],
             [
              0.2222222222222222,
              "#7201a8"
             ],
             [
              0.3333333333333333,
              "#9c179e"
             ],
             [
              0.4444444444444444,
              "#bd3786"
             ],
             [
              0.5555555555555556,
              "#d8576b"
             ],
             [
              0.6666666666666666,
              "#ed7953"
             ],
             [
              0.7777777777777778,
              "#fb9f3a"
             ],
             [
              0.8888888888888888,
              "#fdca26"
             ],
             [
              1,
              "#f0f921"
             ]
            ],
            "type": "surface"
           }
          ],
          "table": [
           {
            "cells": {
             "fill": {
              "color": "#EBF0F8"
             },
             "line": {
              "color": "white"
             }
            },
            "header": {
             "fill": {
              "color": "#C8D4E3"
             },
             "line": {
              "color": "white"
             }
            },
            "type": "table"
           }
          ]
         },
         "layout": {
          "annotationdefaults": {
           "arrowcolor": "#2a3f5f",
           "arrowhead": 0,
           "arrowwidth": 1
          },
          "autotypenumbers": "strict",
          "coloraxis": {
           "colorbar": {
            "outlinewidth": 0,
            "ticks": ""
           }
          },
          "colorscale": {
           "diverging": [
            [
             0,
             "#8e0152"
            ],
            [
             0.1,
             "#c51b7d"
            ],
            [
             0.2,
             "#de77ae"
            ],
            [
             0.3,
             "#f1b6da"
            ],
            [
             0.4,
             "#fde0ef"
            ],
            [
             0.5,
             "#f7f7f7"
            ],
            [
             0.6,
             "#e6f5d0"
            ],
            [
             0.7,
             "#b8e186"
            ],
            [
             0.8,
             "#7fbc41"
            ],
            [
             0.9,
             "#4d9221"
            ],
            [
             1,
             "#276419"
            ]
           ],
           "sequential": [
            [
             0,
             "#0d0887"
            ],
            [
             0.1111111111111111,
             "#46039f"
            ],
            [
             0.2222222222222222,
             "#7201a8"
            ],
            [
             0.3333333333333333,
             "#9c179e"
            ],
            [
             0.4444444444444444,
             "#bd3786"
            ],
            [
             0.5555555555555556,
             "#d8576b"
            ],
            [
             0.6666666666666666,
             "#ed7953"
            ],
            [
             0.7777777777777778,
             "#fb9f3a"
            ],
            [
             0.8888888888888888,
             "#fdca26"
            ],
            [
             1,
             "#f0f921"
            ]
           ],
           "sequentialminus": [
            [
             0,
             "#0d0887"
            ],
            [
             0.1111111111111111,
             "#46039f"
            ],
            [
             0.2222222222222222,
             "#7201a8"
            ],
            [
             0.3333333333333333,
             "#9c179e"
            ],
            [
             0.4444444444444444,
             "#bd3786"
            ],
            [
             0.5555555555555556,
             "#d8576b"
            ],
            [
             0.6666666666666666,
             "#ed7953"
            ],
            [
             0.7777777777777778,
             "#fb9f3a"
            ],
            [
             0.8888888888888888,
             "#fdca26"
            ],
            [
             1,
             "#f0f921"
            ]
           ]
          },
          "colorway": [
           "#636efa",
           "#EF553B",
           "#00cc96",
           "#ab63fa",
           "#FFA15A",
           "#19d3f3",
           "#FF6692",
           "#B6E880",
           "#FF97FF",
           "#FECB52"
          ],
          "font": {
           "color": "#2a3f5f"
          },
          "geo": {
           "bgcolor": "white",
           "lakecolor": "white",
           "landcolor": "#E5ECF6",
           "showlakes": true,
           "showland": true,
           "subunitcolor": "white"
          },
          "hoverlabel": {
           "align": "left"
          },
          "hovermode": "closest",
          "mapbox": {
           "style": "light"
          },
          "paper_bgcolor": "white",
          "plot_bgcolor": "#E5ECF6",
          "polar": {
           "angularaxis": {
            "gridcolor": "white",
            "linecolor": "white",
            "ticks": ""
           },
           "bgcolor": "#E5ECF6",
           "radialaxis": {
            "gridcolor": "white",
            "linecolor": "white",
            "ticks": ""
           }
          },
          "scene": {
           "xaxis": {
            "backgroundcolor": "#E5ECF6",
            "gridcolor": "white",
            "gridwidth": 2,
            "linecolor": "white",
            "showbackground": true,
            "ticks": "",
            "zerolinecolor": "white"
           },
           "yaxis": {
            "backgroundcolor": "#E5ECF6",
            "gridcolor": "white",
            "gridwidth": 2,
            "linecolor": "white",
            "showbackground": true,
            "ticks": "",
            "zerolinecolor": "white"
           },
           "zaxis": {
            "backgroundcolor": "#E5ECF6",
            "gridcolor": "white",
            "gridwidth": 2,
            "linecolor": "white",
            "showbackground": true,
            "ticks": "",
            "zerolinecolor": "white"
           }
          },
          "shapedefaults": {
           "line": {
            "color": "#2a3f5f"
           }
          },
          "ternary": {
           "aaxis": {
            "gridcolor": "white",
            "linecolor": "white",
            "ticks": ""
           },
           "baxis": {
            "gridcolor": "white",
            "linecolor": "white",
            "ticks": ""
           },
           "bgcolor": "#E5ECF6",
           "caxis": {
            "gridcolor": "white",
            "linecolor": "white",
            "ticks": ""
           }
          },
          "title": {
           "x": 0.05
          },
          "xaxis": {
           "automargin": true,
           "gridcolor": "white",
           "linecolor": "white",
           "ticks": "",
           "title": {
            "standoff": 15
           },
           "zerolinecolor": "white",
           "zerolinewidth": 2
          },
          "yaxis": {
           "automargin": true,
           "gridcolor": "white",
           "linecolor": "white",
           "ticks": "",
           "title": {
            "standoff": 15
           },
           "zerolinecolor": "white",
           "zerolinewidth": 2
          }
         }
        },
        "title": {
         "text": "Distribution of Complaint Processing Time (Days)"
        },
        "xaxis": {
         "anchor": "y",
         "domain": [
          0,
          1
         ],
         "title": {
          "text": "Days to Resolve Complaint"
         }
        },
        "yaxis": {
         "anchor": "x",
         "domain": [
          0,
          1
         ],
         "title": {
          "text": "count"
         }
        }
       }
      }
     },
     "metadata": {},
     "output_type": "display_data"
    }
   ],
   "source": [
    "df = pd.read_csv('/Users/carinayan/Downloads/dcwp_complaints_project/data/cleaned_consumer_complaints.csv')\n",
    "\n",
    "# Convert 'Intake Date' and 'Result Date' columns to datetime format\n",
    "df['Intake Date'] = pd.to_datetime(df['Intake Date'], errors='coerce')\n",
    "df['Result Date'] = pd.to_datetime(df['Result Date'], errors='coerce')\n",
    "\n",
    "# Calculate the number of days taken to resolve each complaint\n",
    "df['Processing Days'] = (df['Result Date'] - df['Intake Date']).dt.days\n",
    "\n",
    "# Filter out rows with invalid or extreme values (negative or over 500 days)\n",
    "df = df[(df['Processing Days'] >= 0) & (df['Processing Days'] <= 500)]\n",
    "\n",
    "fig = px.histogram(\n",
    "    df,\n",
    "    x='Processing Days',\n",
    "    nbins=50,  \n",
    "    title='Distribution of Complaint Processing Time (Days)',\n",
    "    labels={'Processing Days': 'Days to Resolve Complaint'}\n",
    ")\n",
    "\n",
    "fig.update_layout(bargap=0.1)\n",
    "\n",
    "fig.show()\n"
   ]
  },
  {
   "cell_type": "code",
   "execution_count": null,
   "id": "71742c89",
   "metadata": {},
   "outputs": [
    {
     "data": {
      "application/vnd.plotly.v1+json": {
       "config": {
        "plotlyServerURL": "https://plot.ly"
       },
       "data": [
        {
         "hovertemplate": "Borough=%{x}<br>Number of Complaints=%{marker.color}<extra></extra>",
         "legendgroup": "",
         "marker": {
          "color": {
           "bdata": "wA5sDOAKGgluBS8BZQA=",
           "dtype": "i2"
          },
          "coloraxis": "coloraxis",
          "pattern": {
           "shape": ""
          }
         },
         "name": "",
         "orientation": "v",
         "showlegend": false,
         "textposition": "auto",
         "type": "bar",
         "x": [
          "Unknown",
          "Manhattan",
          "Brooklyn",
          "Queens",
          "Bronx",
          "Staten Island",
          "Outside NYC"
         ],
         "xaxis": "x",
         "y": {
          "bdata": "wA5sDOAKGgluBS8BZQA=",
          "dtype": "i2"
         },
         "yaxis": "y"
        }
       ],
       "layout": {
        "barmode": "relative",
        "coloraxis": {
         "colorbar": {
          "title": {
           "text": "Number of Complaints"
          }
         },
         "colorscale": [
          [
           0,
           "rgb(255,245,235)"
          ],
          [
           0.125,
           "rgb(254,230,206)"
          ],
          [
           0.25,
           "rgb(253,208,162)"
          ],
          [
           0.375,
           "rgb(253,174,107)"
          ],
          [
           0.5,
           "rgb(253,141,60)"
          ],
          [
           0.625,
           "rgb(241,105,19)"
          ],
          [
           0.75,
           "rgb(217,72,1)"
          ],
          [
           0.875,
           "rgb(166,54,3)"
          ],
          [
           1,
           "rgb(127,39,4)"
          ]
         ]
        },
        "legend": {
         "tracegroupgap": 0
        },
        "template": {
         "data": {
          "bar": [
           {
            "error_x": {
             "color": "#2a3f5f"
            },
            "error_y": {
             "color": "#2a3f5f"
            },
            "marker": {
             "line": {
              "color": "#E5ECF6",
              "width": 0.5
             },
             "pattern": {
              "fillmode": "overlay",
              "size": 10,
              "solidity": 0.2
             }
            },
            "type": "bar"
           }
          ],
          "barpolar": [
           {
            "marker": {
             "line": {
              "color": "#E5ECF6",
              "width": 0.5
             },
             "pattern": {
              "fillmode": "overlay",
              "size": 10,
              "solidity": 0.2
             }
            },
            "type": "barpolar"
           }
          ],
          "carpet": [
           {
            "aaxis": {
             "endlinecolor": "#2a3f5f",
             "gridcolor": "white",
             "linecolor": "white",
             "minorgridcolor": "white",
             "startlinecolor": "#2a3f5f"
            },
            "baxis": {
             "endlinecolor": "#2a3f5f",
             "gridcolor": "white",
             "linecolor": "white",
             "minorgridcolor": "white",
             "startlinecolor": "#2a3f5f"
            },
            "type": "carpet"
           }
          ],
          "choropleth": [
           {
            "colorbar": {
             "outlinewidth": 0,
             "ticks": ""
            },
            "type": "choropleth"
           }
          ],
          "contour": [
           {
            "colorbar": {
             "outlinewidth": 0,
             "ticks": ""
            },
            "colorscale": [
             [
              0,
              "#0d0887"
             ],
             [
              0.1111111111111111,
              "#46039f"
             ],
             [
              0.2222222222222222,
              "#7201a8"
             ],
             [
              0.3333333333333333,
              "#9c179e"
             ],
             [
              0.4444444444444444,
              "#bd3786"
             ],
             [
              0.5555555555555556,
              "#d8576b"
             ],
             [
              0.6666666666666666,
              "#ed7953"
             ],
             [
              0.7777777777777778,
              "#fb9f3a"
             ],
             [
              0.8888888888888888,
              "#fdca26"
             ],
             [
              1,
              "#f0f921"
             ]
            ],
            "type": "contour"
           }
          ],
          "contourcarpet": [
           {
            "colorbar": {
             "outlinewidth": 0,
             "ticks": ""
            },
            "type": "contourcarpet"
           }
          ],
          "heatmap": [
           {
            "colorbar": {
             "outlinewidth": 0,
             "ticks": ""
            },
            "colorscale": [
             [
              0,
              "#0d0887"
             ],
             [
              0.1111111111111111,
              "#46039f"
             ],
             [
              0.2222222222222222,
              "#7201a8"
             ],
             [
              0.3333333333333333,
              "#9c179e"
             ],
             [
              0.4444444444444444,
              "#bd3786"
             ],
             [
              0.5555555555555556,
              "#d8576b"
             ],
             [
              0.6666666666666666,
              "#ed7953"
             ],
             [
              0.7777777777777778,
              "#fb9f3a"
             ],
             [
              0.8888888888888888,
              "#fdca26"
             ],
             [
              1,
              "#f0f921"
             ]
            ],
            "type": "heatmap"
           }
          ],
          "histogram": [
           {
            "marker": {
             "pattern": {
              "fillmode": "overlay",
              "size": 10,
              "solidity": 0.2
             }
            },
            "type": "histogram"
           }
          ],
          "histogram2d": [
           {
            "colorbar": {
             "outlinewidth": 0,
             "ticks": ""
            },
            "colorscale": [
             [
              0,
              "#0d0887"
             ],
             [
              0.1111111111111111,
              "#46039f"
             ],
             [
              0.2222222222222222,
              "#7201a8"
             ],
             [
              0.3333333333333333,
              "#9c179e"
             ],
             [
              0.4444444444444444,
              "#bd3786"
             ],
             [
              0.5555555555555556,
              "#d8576b"
             ],
             [
              0.6666666666666666,
              "#ed7953"
             ],
             [
              0.7777777777777778,
              "#fb9f3a"
             ],
             [
              0.8888888888888888,
              "#fdca26"
             ],
             [
              1,
              "#f0f921"
             ]
            ],
            "type": "histogram2d"
           }
          ],
          "histogram2dcontour": [
           {
            "colorbar": {
             "outlinewidth": 0,
             "ticks": ""
            },
            "colorscale": [
             [
              0,
              "#0d0887"
             ],
             [
              0.1111111111111111,
              "#46039f"
             ],
             [
              0.2222222222222222,
              "#7201a8"
             ],
             [
              0.3333333333333333,
              "#9c179e"
             ],
             [
              0.4444444444444444,
              "#bd3786"
             ],
             [
              0.5555555555555556,
              "#d8576b"
             ],
             [
              0.6666666666666666,
              "#ed7953"
             ],
             [
              0.7777777777777778,
              "#fb9f3a"
             ],
             [
              0.8888888888888888,
              "#fdca26"
             ],
             [
              1,
              "#f0f921"
             ]
            ],
            "type": "histogram2dcontour"
           }
          ],
          "mesh3d": [
           {
            "colorbar": {
             "outlinewidth": 0,
             "ticks": ""
            },
            "type": "mesh3d"
           }
          ],
          "parcoords": [
           {
            "line": {
             "colorbar": {
              "outlinewidth": 0,
              "ticks": ""
             }
            },
            "type": "parcoords"
           }
          ],
          "pie": [
           {
            "automargin": true,
            "type": "pie"
           }
          ],
          "scatter": [
           {
            "fillpattern": {
             "fillmode": "overlay",
             "size": 10,
             "solidity": 0.2
            },
            "type": "scatter"
           }
          ],
          "scatter3d": [
           {
            "line": {
             "colorbar": {
              "outlinewidth": 0,
              "ticks": ""
             }
            },
            "marker": {
             "colorbar": {
              "outlinewidth": 0,
              "ticks": ""
             }
            },
            "type": "scatter3d"
           }
          ],
          "scattercarpet": [
           {
            "marker": {
             "colorbar": {
              "outlinewidth": 0,
              "ticks": ""
             }
            },
            "type": "scattercarpet"
           }
          ],
          "scattergeo": [
           {
            "marker": {
             "colorbar": {
              "outlinewidth": 0,
              "ticks": ""
             }
            },
            "type": "scattergeo"
           }
          ],
          "scattergl": [
           {
            "marker": {
             "colorbar": {
              "outlinewidth": 0,
              "ticks": ""
             }
            },
            "type": "scattergl"
           }
          ],
          "scattermap": [
           {
            "marker": {
             "colorbar": {
              "outlinewidth": 0,
              "ticks": ""
             }
            },
            "type": "scattermap"
           }
          ],
          "scattermapbox": [
           {
            "marker": {
             "colorbar": {
              "outlinewidth": 0,
              "ticks": ""
             }
            },
            "type": "scattermapbox"
           }
          ],
          "scatterpolar": [
           {
            "marker": {
             "colorbar": {
              "outlinewidth": 0,
              "ticks": ""
             }
            },
            "type": "scatterpolar"
           }
          ],
          "scatterpolargl": [
           {
            "marker": {
             "colorbar": {
              "outlinewidth": 0,
              "ticks": ""
             }
            },
            "type": "scatterpolargl"
           }
          ],
          "scatterternary": [
           {
            "marker": {
             "colorbar": {
              "outlinewidth": 0,
              "ticks": ""
             }
            },
            "type": "scatterternary"
           }
          ],
          "surface": [
           {
            "colorbar": {
             "outlinewidth": 0,
             "ticks": ""
            },
            "colorscale": [
             [
              0,
              "#0d0887"
             ],
             [
              0.1111111111111111,
              "#46039f"
             ],
             [
              0.2222222222222222,
              "#7201a8"
             ],
             [
              0.3333333333333333,
              "#9c179e"
             ],
             [
              0.4444444444444444,
              "#bd3786"
             ],
             [
              0.5555555555555556,
              "#d8576b"
             ],
             [
              0.6666666666666666,
              "#ed7953"
             ],
             [
              0.7777777777777778,
              "#fb9f3a"
             ],
             [
              0.8888888888888888,
              "#fdca26"
             ],
             [
              1,
              "#f0f921"
             ]
            ],
            "type": "surface"
           }
          ],
          "table": [
           {
            "cells": {
             "fill": {
              "color": "#EBF0F8"
             },
             "line": {
              "color": "white"
             }
            },
            "header": {
             "fill": {
              "color": "#C8D4E3"
             },
             "line": {
              "color": "white"
             }
            },
            "type": "table"
           }
          ]
         },
         "layout": {
          "annotationdefaults": {
           "arrowcolor": "#2a3f5f",
           "arrowhead": 0,
           "arrowwidth": 1
          },
          "autotypenumbers": "strict",
          "coloraxis": {
           "colorbar": {
            "outlinewidth": 0,
            "ticks": ""
           }
          },
          "colorscale": {
           "diverging": [
            [
             0,
             "#8e0152"
            ],
            [
             0.1,
             "#c51b7d"
            ],
            [
             0.2,
             "#de77ae"
            ],
            [
             0.3,
             "#f1b6da"
            ],
            [
             0.4,
             "#fde0ef"
            ],
            [
             0.5,
             "#f7f7f7"
            ],
            [
             0.6,
             "#e6f5d0"
            ],
            [
             0.7,
             "#b8e186"
            ],
            [
             0.8,
             "#7fbc41"
            ],
            [
             0.9,
             "#4d9221"
            ],
            [
             1,
             "#276419"
            ]
           ],
           "sequential": [
            [
             0,
             "#0d0887"
            ],
            [
             0.1111111111111111,
             "#46039f"
            ],
            [
             0.2222222222222222,
             "#7201a8"
            ],
            [
             0.3333333333333333,
             "#9c179e"
            ],
            [
             0.4444444444444444,
             "#bd3786"
            ],
            [
             0.5555555555555556,
             "#d8576b"
            ],
            [
             0.6666666666666666,
             "#ed7953"
            ],
            [
             0.7777777777777778,
             "#fb9f3a"
            ],
            [
             0.8888888888888888,
             "#fdca26"
            ],
            [
             1,
             "#f0f921"
            ]
           ],
           "sequentialminus": [
            [
             0,
             "#0d0887"
            ],
            [
             0.1111111111111111,
             "#46039f"
            ],
            [
             0.2222222222222222,
             "#7201a8"
            ],
            [
             0.3333333333333333,
             "#9c179e"
            ],
            [
             0.4444444444444444,
             "#bd3786"
            ],
            [
             0.5555555555555556,
             "#d8576b"
            ],
            [
             0.6666666666666666,
             "#ed7953"
            ],
            [
             0.7777777777777778,
             "#fb9f3a"
            ],
            [
             0.8888888888888888,
             "#fdca26"
            ],
            [
             1,
             "#f0f921"
            ]
           ]
          },
          "colorway": [
           "#636efa",
           "#EF553B",
           "#00cc96",
           "#ab63fa",
           "#FFA15A",
           "#19d3f3",
           "#FF6692",
           "#B6E880",
           "#FF97FF",
           "#FECB52"
          ],
          "font": {
           "color": "#2a3f5f"
          },
          "geo": {
           "bgcolor": "white",
           "lakecolor": "white",
           "landcolor": "#E5ECF6",
           "showlakes": true,
           "showland": true,
           "subunitcolor": "white"
          },
          "hoverlabel": {
           "align": "left"
          },
          "hovermode": "closest",
          "mapbox": {
           "style": "light"
          },
          "paper_bgcolor": "white",
          "plot_bgcolor": "#E5ECF6",
          "polar": {
           "angularaxis": {
            "gridcolor": "white",
            "linecolor": "white",
            "ticks": ""
           },
           "bgcolor": "#E5ECF6",
           "radialaxis": {
            "gridcolor": "white",
            "linecolor": "white",
            "ticks": ""
           }
          },
          "scene": {
           "xaxis": {
            "backgroundcolor": "#E5ECF6",
            "gridcolor": "white",
            "gridwidth": 2,
            "linecolor": "white",
            "showbackground": true,
            "ticks": "",
            "zerolinecolor": "white"
           },
           "yaxis": {
            "backgroundcolor": "#E5ECF6",
            "gridcolor": "white",
            "gridwidth": 2,
            "linecolor": "white",
            "showbackground": true,
            "ticks": "",
            "zerolinecolor": "white"
           },
           "zaxis": {
            "backgroundcolor": "#E5ECF6",
            "gridcolor": "white",
            "gridwidth": 2,
            "linecolor": "white",
            "showbackground": true,
            "ticks": "",
            "zerolinecolor": "white"
           }
          },
          "shapedefaults": {
           "line": {
            "color": "#2a3f5f"
           }
          },
          "ternary": {
           "aaxis": {
            "gridcolor": "white",
            "linecolor": "white",
            "ticks": ""
           },
           "baxis": {
            "gridcolor": "white",
            "linecolor": "white",
            "ticks": ""
           },
           "bgcolor": "#E5ECF6",
           "caxis": {
            "gridcolor": "white",
            "linecolor": "white",
            "ticks": ""
           }
          },
          "title": {
           "x": 0.05
          },
          "xaxis": {
           "automargin": true,
           "gridcolor": "white",
           "linecolor": "white",
           "ticks": "",
           "title": {
            "standoff": 15
           },
           "zerolinecolor": "white",
           "zerolinewidth": 2
          },
          "yaxis": {
           "automargin": true,
           "gridcolor": "white",
           "linecolor": "white",
           "ticks": "",
           "title": {
            "standoff": 15
           },
           "zerolinecolor": "white",
           "zerolinewidth": 2
          }
         }
        },
        "title": {
         "text": "Total Complaints by Borough"
        },
        "xaxis": {
         "anchor": "y",
         "domain": [
          0,
          1
         ],
         "title": {
          "text": "Borough"
         }
        },
        "yaxis": {
         "anchor": "x",
         "domain": [
          0,
          1
         ],
         "title": {
          "text": "Number of Complaints"
         }
        }
       }
      }
     },
     "metadata": {},
     "output_type": "display_data"
    }
   ],
   "source": [
    "df = pd.read_csv('/Users/carinayan/Downloads/dcwp_complaints_project/data/cleaned_consumer_complaints.csv')\n",
    "\n",
    "df['Intake Date'] = pd.to_datetime(df['Intake Date'], errors='coerce')\n",
    "df['Result Date'] = pd.to_datetime(df['Result Date'], errors='coerce')\n",
    "\n",
    "# Calculate the number of days it took to process each complaint\n",
    "df['Processing Days'] = (df['Result Date'] - df['Intake Date']).dt.days\n",
    "\n",
    "# Remove rows with invalid or extreme processing times (e.g., negative or over 500 days)\n",
    "df = df[(df['Processing Days'] >= 0) & (df['Processing Days'] <= 500)]\n",
    "\n",
    "fig = px.histogram(\n",
    "    df,\n",
    "    x='Processing Days',\n",
    "    nbins=50,  \n",
    "    title='Distribution of Complaint Processing Time (Days)',\n",
    "    labels={'Processing Days': 'Days to Resolve Complaint'}\n",
    ")\n",
    "\n",
    "fig.update_layout(bargap=0.1)\n",
    "fig.show()\n"
   ]
  }
 ],
 "metadata": {
  "kernelspec": {
   "display_name": "venv_dcwp",
   "language": "python",
   "name": "python3"
  },
  "language_info": {
   "codemirror_mode": {
    "name": "ipython",
    "version": 3
   },
   "file_extension": ".py",
   "mimetype": "text/x-python",
   "name": "python",
   "nbconvert_exporter": "python",
   "pygments_lexer": "ipython3",
   "version": "3.9.6"
  }
 },
 "nbformat": 4,
 "nbformat_minor": 5
}
